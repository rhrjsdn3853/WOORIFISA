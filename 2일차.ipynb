{
  "nbformat": 4,
  "nbformat_minor": 0,
  "metadata": {
    "colab": {
      "provenance": [],
      "include_colab_link": true
    },
    "kernelspec": {
      "name": "python3",
      "display_name": "Python 3"
    },
    "language_info": {
      "name": "python"
    }
  },
  "cells": [
    {
      "cell_type": "markdown",
      "metadata": {
        "id": "view-in-github",
        "colab_type": "text"
      },
      "source": [
        "<a href=\"https://colab.research.google.com/github/rhrjsdn3853/WOORIFISA/blob/main/2%EC%9D%BC%EC%B0%A8.ipynb\" target=\"_parent\"><img src=\"https://colab.research.google.com/assets/colab-badge.svg\" alt=\"Open In Colab\"/></a>"
      ]
    },
    {
      "cell_type": "markdown",
      "source": [
        "파이썬 파일의 확장자\n",
        "- .py - 파일 안에 있는 내용이 한번에 실행됨\n",
        "- .ipynb(interactive python notebook) - 코드셀 단위로 실행됨, 텍스트셀 지원. 노트북 파일이라고 부름.\n"
      ],
      "metadata": {
        "id": "VEPhx_yUw5nk"
      }
    },
    {
      "cell_type": "code",
      "source": [
        " 1 + 2 + 3 + 4 \\\n",
        " + 5 + 6 + 7"
      ],
      "metadata": {
        "colab": {
          "base_uri": "https://localhost:8080/"
        },
        "id": "RpeQ19K-1VTY",
        "outputId": "3393db87-19d5-480e-d622-21ee129e9892"
      },
      "execution_count": null,
      "outputs": [
        {
          "output_type": "execute_result",
          "data": {
            "text/plain": [
              "28"
            ]
          },
          "metadata": {},
          "execution_count": 2
        }
      ]
    },
    {
      "cell_type": "code",
      "source": [
        "# # 이름을 작성하기 위한 규칙 - 네이밍 컨벤션(convention)\n",
        "# path = 'my documents'\n",
        "\n",
        "# my-documents  # kebab-case   URL\n",
        "# my_documents # snake_case   Python\n",
        "# myDocumentsFolder # camelCase  Java\n",
        "\n",
        "# MyClass # PascalCase   Class를 구분하기 위해서 첫글자를 대문자로 작성"
      ],
      "metadata": {
        "id": "jzkv3m0E1zo7"
      },
      "execution_count": null,
      "outputs": []
    },
    {
      "cell_type": "code",
      "source": [
        "!python --version\n",
        "# ! (셸 커맨드)\n",
        "# 셸(Shell)에서 실행되며, 따라서 리눅스 기반의 명령어들을 사용할 수 있습니다.\n",
        "# 셸 커맨드를 사용하여 파일 시스템 탐색, 외부 패키지 설치 등의 작업을 할 수 있습니다."
      ],
      "metadata": {
        "colab": {
          "base_uri": "https://localhost:8080/"
        },
        "id": "d3hbTPs0ehQf",
        "outputId": "2147ee6f-40e8-4e90-d88a-ee5877b9b4d4"
      },
      "execution_count": null,
      "outputs": [
        {
          "output_type": "stream",
          "name": "stdout",
          "text": [
            "Python 3.10.12\n"
          ]
        }
      ]
    },
    {
      "cell_type": "code",
      "source": [
        "!ls"
      ],
      "metadata": {
        "colab": {
          "base_uri": "https://localhost:8080/"
        },
        "id": "bNWzYlzO5lrf",
        "outputId": "81ca82ce-1053-4ee7-caa4-5db3e00962dc"
      },
      "execution_count": null,
      "outputs": [
        {
          "output_type": "stream",
          "name": "stdout",
          "text": [
            "sample_data\n"
          ]
        }
      ]
    },
    {
      "cell_type": "code",
      "source": [
        "python --version"
      ],
      "metadata": {
        "colab": {
          "base_uri": "https://localhost:8080/",
          "height": 147
        },
        "id": "bpz0nqkk5eY_",
        "outputId": "aae0327a-f52a-4768-e7fc-f32e532f2172"
      },
      "execution_count": null,
      "outputs": [
        {
          "output_type": "error",
          "ename": "NameError",
          "evalue": "name 'python' is not defined",
          "traceback": [
            "\u001b[0;31m---------------------------------------------------------------------------\u001b[0m",
            "\u001b[0;31mNameError\u001b[0m                                 Traceback (most recent call last)",
            "\u001b[0;32m<ipython-input-7-a4637bbefc43>\u001b[0m in \u001b[0;36m<cell line: 1>\u001b[0;34m()\u001b[0m\n\u001b[0;32m----> 1\u001b[0;31m \u001b[0mpython\u001b[0m \u001b[0;34m-\u001b[0m\u001b[0;34m-\u001b[0m\u001b[0mversion\u001b[0m\u001b[0;34m\u001b[0m\u001b[0;34m\u001b[0m\u001b[0m\n\u001b[0m",
            "\u001b[0;31mNameError\u001b[0m: name 'python' is not defined"
          ]
        }
      ]
    },
    {
      "cell_type": "code",
      "source": [
        "%%time\n",
        "print('hello')\n",
        "# %, %% : 매직커맨드. 파이썬 코드는 아니나 코랩 환경 내에서 특정 기능을 실행하도록 설계된 명령어입니다.\n",
        "## '%' 또는 '%%' 기호를 사용하여 실행됩니다. '%'는 한 줄에 대해, '%%'는 셀 전체에 대해 적용됩니다."
      ],
      "metadata": {
        "colab": {
          "base_uri": "https://localhost:8080/"
        },
        "id": "AUxmXynaeKsn",
        "outputId": "c58a4ae0-6f3a-445c-9b38-88962fa048e8"
      },
      "execution_count": null,
      "outputs": [
        {
          "output_type": "stream",
          "name": "stdout",
          "text": [
            "hello\n",
            "CPU times: user 236 µs, sys: 0 ns, total: 236 µs\n",
            "Wall time: 208 µs\n"
          ]
        }
      ]
    },
    {
      "cell_type": "markdown",
      "source": [
        "# 0. 연습해보기"
      ],
      "metadata": {
        "id": "INmovT2N4i5y"
      }
    },
    {
      "cell_type": "code",
      "source": [
        "1+1"
      ],
      "metadata": {
        "id": "c6G2jxjNuVJb",
        "colab": {
          "base_uri": "https://localhost:8080/"
        },
        "outputId": "2a330aac-124c-46ed-979b-1e3eee2329f1"
      },
      "execution_count": null,
      "outputs": [
        {
          "output_type": "execute_result",
          "data": {
            "text/plain": [
              "2"
            ]
          },
          "metadata": {},
          "execution_count": 9
        }
      ]
    },
    {
      "cell_type": "code",
      "source": [
        "# 저수준(기계어와 더 가까운 방식으로 작성되는 언어) / 고수준언어 ()"
      ],
      "metadata": {
        "id": "C_M3ySzgzVoi"
      },
      "execution_count": null,
      "outputs": []
    },
    {
      "cell_type": "code",
      "source": [
        "# 주어.동사(목적어)\n",
        "str.find('사과나무', '부') # 0 / 1 ~~~  순서 0 부터 시작되기 때문에"
      ],
      "metadata": {
        "id": "IzMUIfF-zluv",
        "colab": {
          "base_uri": "https://localhost:8080/"
        },
        "outputId": "a21da2e4-7e61-4b54-808e-933f9e6e05c9"
      },
      "execution_count": null,
      "outputs": [
        {
          "output_type": "execute_result",
          "data": {
            "text/plain": [
              "-1"
            ]
          },
          "metadata": {},
          "execution_count": 12
        }
      ]
    },
    {
      "cell_type": "code",
      "source": [],
      "metadata": {
        "id": "kTwjyzrN4liv"
      },
      "execution_count": null,
      "outputs": []
    },
    {
      "cell_type": "markdown",
      "source": [
        "# IDE\n",
        "- 여러분이 보고계신 이 화면이 주피터라는 개발환경입니다.\n",
        "- 인공지능 관련 분야에서 많이 사용합니다.\n",
        "- 파일을 온라인에서 서로 주고받을 수 있습니다. 코랩을 이용하면 GPU는 구글거 나눠쓸 수 있습니다.\n",
        "- GPU는 돈을 안 내면 조금 나눠주고, 돈을 내면 많이 나눠줍니다.\n",
        "\n",
        "- 셀은 코드셀과 텍스트셀이 있습니다.\n",
        "- 텍스트셀도 마찬가지입니다.\n",
        "\n",
        "```\n",
        "[실행 관련 단축키]\n",
        "\n",
        "Ctrl + Enter = 해당 셀을 실행하고 커서를 해당 셀에 두는 경우 (결과 값만 보고자 할 때)\n",
        "\n",
        "Shift + Enter = 해당 셀을 실행하고 커서를 다음 셀로 넘기는 경우 (여러가지 값을 빠르게 출력할 때)\n",
        "\n",
        "Alt + Enter = 해당 셀을 실행하고 셀을 삽입한 후 커서를 삽입한 셀로 넘기는 경우 (다음 작업 공간이 없을 때)\n",
        "\n",
        "```\n",
        "\n",
        "\n",
        "```\n",
        "[셀 삽입/삭제 관련 단축키]\n",
        "\n",
        "Ctrl + M A = 코드 셀 위에 삽입\n",
        "Ctrl + M B = 코드 셀 아래 삽입\n",
        "Ctrl + M D = 셀 지우기\n",
        "Ctrl + M Y = 코드 셀로 변경\n",
        "Ctrl + M M = 마크다운 셀로 변경\n",
        "Ctrl + M Z = 실행 취소\n",
        "```\n",
        "\n",
        "* MAC 사용시 Ctrl 대신 Command\n",
        "* Ctrl + M H = 단축키 모음\n"
      ],
      "metadata": {
        "id": "lFPNpWWhewBs"
      }
    },
    {
      "cell_type": "markdown",
      "source": [
        "print(1+1)"
      ],
      "metadata": {
        "id": "2iKxbhdTLMrT"
      }
    },
    {
      "cell_type": "code",
      "source": [
        "1 + 1\n",
        "1 + 3 # 한줄 한줄 코드를 읽고 실행합니다. (인터프리터 언어)\n",
        "# 1+1은 실행이 안 된게 아닙니다. 다만 실행이 되고 나서 인터프리터 언어의 특성상 한줄씩 결과를 리턴하기 때문에 (repl) 다음 출력결과에 의해서 앞의 결과가 덮어써진 겁니다."
      ],
      "metadata": {
        "id": "x0Et-7P5gWaB",
        "colab": {
          "base_uri": "https://localhost:8080/"
        },
        "outputId": "bd8ed03a-effb-4d0b-9e70-f3261e9d06a3"
      },
      "execution_count": null,
      "outputs": [
        {
          "output_type": "execute_result",
          "data": {
            "text/plain": [
              "4"
            ]
          },
          "metadata": {},
          "execution_count": 14
        }
      ]
    },
    {
      "cell_type": "code",
      "source": [
        "print(1 + 1)\n",
        "print(1 + 3)"
      ],
      "metadata": {
        "id": "jNNLf2cigs4A",
        "colab": {
          "base_uri": "https://localhost:8080/"
        },
        "outputId": "2bd6232e-0c9f-4128-a6b6-e1e4218d2559"
      },
      "execution_count": null,
      "outputs": [
        {
          "output_type": "stream",
          "name": "stdout",
          "text": [
            "2\n",
            "4\n"
          ]
        }
      ]
    },
    {
      "cell_type": "markdown",
      "source": [
        "## 파이썬 인터프리터의 특징\n",
        "- 파이썬을 이해한다?\n",
        "- 파이썬 인터프리터가 어떻게 실행된다\n",
        "- 명령어를 실행하고, 어떻게 값이 돌아오는지를 한줄한줄 확인하기 위해 당분간은 코랩을 사용할 예정입니다.\n",
        "\n",
        "- 파이썬 명령어는 모두 인터프리터에 의해서 실행되는 것을 가정하고 동작합니다.\n",
        "- py 파일에 전부 기록하면 한번에 실행 되고요\n",
        "- ipynb 파일에 기록하면 셀(블록) 단위로 나눠서 실행할 합니다.\n",
        "\n",
        "- 주피터는 일반적인 개발 환경과 인터프리터의 중간적인 환경을 제공하는 IDE입니다."
      ],
      "metadata": {
        "id": "SFpv6kuthWqd"
      }
    },
    {
      "cell_type": "markdown",
      "source": [
        "# 메모리(Memory)\n",
        "- RAM (Random Access Memory)\n",
        "- 주기억장치 라고 부릅니다.\n",
        "- 보조기억장치에 자료들을 넣어놓고 주기억장치에 있는 프로그램으로 자료들을 불러와서 crud합니다.\n",
        "  - 자료가 보조기억장치에 있을때 '파일'이라고 부릅니다.\n",
        "\n",
        "\n",
        "- 주기억장치\n",
        "  - 프로그램이 실행중인 동안은 반드시 메모리에 있어야 합니다.\n",
        "  - 다루려는 자료도 메모리에 와있어야 합니다.\n",
        "  - 실행중인 프로그램에서 자료를 저장할 수 있는 공간\n",
        "  - 메모리 어딘가에 보조기억장치에서 불러온 파일의 내용을 저장해두고 두고두고 꺼내쓰는 개념입니다.\n",
        "\n",
        "\n",
        "  # 변수\n",
        "  - 자료를 메모리에 저장해두고 불러오기 위해서 이름을 지어주는 것을 '변수'라고 부릅니다.\n",
        "  - 주소값이 할당이 됩니다\n",
        "  - 변수명을 입혀줘서 다시 불러올 수 있게 만들면 되는 거죠.\n",
        "  - 파이썬은 변수를 주소 기준으로 식별을 하고요.\n",
        "  - 자료는 비트 형태로 저장이 되고 1바이트(8비트)마다 번호를 부여를 합니다.\n",
        "  - 메모리 크기가 크기 때문에 주소값도 당연히 길겠죠\n",
        "  - 10진수보다 16진수를 컴퓨터 프로그래밍에서 많이 사용하는 이유가 이것때문입니다.\n"
      ],
      "metadata": {
        "id": "n7wrbjCPE02_"
      }
    },
    {
      "cell_type": "markdown",
      "source": [
        "- 변수 : 긴 숫자로 되어있는 메모리 속 주소에 이름을 달아주는 것"
      ],
      "metadata": {
        "id": "o-C6av-RE8nE"
      }
    },
    {
      "cell_type": "code",
      "source": [
        "#This's a dog 이라는 문장을 docs라는 변수에 넣고 출력해주세요.\n",
        "docs = 'This is a dog'\n",
        "print(docs)"
      ],
      "metadata": {
        "colab": {
          "base_uri": "https://localhost:8080/"
        },
        "id": "oCnmuJlHEAza",
        "outputId": "b37405d8-b359-48a9-e557-71b4845de29e"
      },
      "execution_count": null,
      "outputs": [
        {
          "output_type": "stream",
          "name": "stdout",
          "text": [
            "This is a dog\n"
          ]
        }
      ]
    },
    {
      "cell_type": "code",
      "source": [],
      "metadata": {
        "id": "YQx2RnAOEPGM"
      },
      "execution_count": null,
      "outputs": []
    },
    {
      "cell_type": "code",
      "source": [
        "docs = \"This's a dog\" ; print(docs)"
      ],
      "metadata": {
        "id": "QujsGXxsE8nF",
        "colab": {
          "base_uri": "https://localhost:8080/"
        },
        "outputId": "745fa0dd-214a-4de9-cc1e-c5686d0135d5"
      },
      "execution_count": null,
      "outputs": [
        {
          "output_type": "stream",
          "name": "stdout",
          "text": [
            "This's a dog\n"
          ]
        }
      ]
    },
    {
      "cell_type": "code",
      "source": [
        "docs = 'This`s a dog'\n",
        "print(docs)"
      ],
      "metadata": {
        "id": "-OJbIua3E8nG"
      },
      "execution_count": null,
      "outputs": []
    },
    {
      "cell_type": "code",
      "source": [
        "docs = \"This's a dog\"\n",
        "print(docs)"
      ],
      "metadata": {
        "colab": {
          "base_uri": "https://localhost:8080/"
        },
        "id": "11__nEUzDugj",
        "outputId": "9fe36134-3764-431b-817a-ba220bfe5824"
      },
      "execution_count": null,
      "outputs": [
        {
          "output_type": "stream",
          "name": "stdout",
          "text": [
            "This's a dog\n"
          ]
        }
      ]
    },
    {
      "cell_type": "code",
      "source": [
        "docs = 'This\\'s a dog' # \\ escaping 문자를 사용해서 감싸주는 경우도 있습니다.\n",
        "print(docs)"
      ],
      "metadata": {
        "id": "Nr9wGGHoE8nG",
        "colab": {
          "base_uri": "https://localhost:8080/"
        },
        "outputId": "f7067641-4a22-4a5e-f60d-4c0c89095067"
      },
      "execution_count": null,
      "outputs": [
        {
          "output_type": "stream",
          "name": "stdout",
          "text": [
            "This's a dog\n"
          ]
        }
      ]
    },
    {
      "cell_type": "code",
      "source": [
        "docs = \"\"\"This's a dog\"\"\" # 멀티라인 \"\"\" \"\"\" 또는 ''' '''로 감싸주면 원본 스트링을 그대로 저장합니다.\n",
        "print(docs)"
      ],
      "metadata": {
        "id": "mrpes93vE8nG",
        "colab": {
          "base_uri": "https://localhost:8080/"
        },
        "outputId": "c1b88699-f46e-483f-c41b-ba440e19d28d"
      },
      "execution_count": null,
      "outputs": [
        {
          "output_type": "stream",
          "name": "stdout",
          "text": [
            "This's a dog\n"
          ]
        }
      ]
    },
    {
      "cell_type": "code",
      "source": [
        "id(docs)"
      ],
      "metadata": {
        "id": "efns9WSSE8nG",
        "colab": {
          "base_uri": "https://localhost:8080/"
        },
        "outputId": "ef6d0b44-3f35-4a8b-e5c7-5e50e22fcc18"
      },
      "execution_count": null,
      "outputs": [
        {
          "output_type": "execute_result",
          "data": {
            "text/plain": [
              "134658133645232"
            ]
          },
          "metadata": {},
          "execution_count": 27
        }
      ]
    },
    {
      "cell_type": "code",
      "source": [
        "id(docs) # 변수 매번 같은 값을 꺼내 쓰거나, 숫자 혹은 배열 등 특정 값을 evaluation에 따라 변경해야 할 때"
      ],
      "metadata": {
        "id": "VZtYdOexE8nH",
        "colab": {
          "base_uri": "https://localhost:8080/"
        },
        "outputId": "9e0677eb-ead2-429c-a093-d5be54889a74"
      },
      "execution_count": null,
      "outputs": [
        {
          "output_type": "execute_result",
          "data": {
            "text/plain": [
              "134658133645232"
            ]
          },
          "metadata": {},
          "execution_count": 35
        }
      ]
    },
    {
      "cell_type": "markdown",
      "source": [
        "swap\n",
        "  - 변수의 값을 교환하기 위해서 많이 씁니다."
      ],
      "metadata": {
        "id": "TNR7CKomE8nI"
      }
    },
    {
      "cell_type": "code",
      "source": [
        "a = 10\n",
        "b = 20\n",
        "# 일 때\n",
        "# b와 a에 있는 자료를 변경해보세요"
      ],
      "metadata": {
        "id": "IwT7s9tZE8nI"
      },
      "execution_count": null,
      "outputs": []
    },
    {
      "cell_type": "code",
      "source": [
        "a = b # a = 20\n",
        "b = a # b = 20\n",
        "a, b  # 20, 20 인터프리터 언어"
      ],
      "metadata": {
        "colab": {
          "base_uri": "https://localhost:8080/"
        },
        "id": "WOzpEwDCHGLl",
        "outputId": "6888cc43-5f2a-44e1-803e-8df7231616af"
      },
      "execution_count": null,
      "outputs": [
        {
          "output_type": "execute_result",
          "data": {
            "text/plain": [
              "(20, 20)"
            ]
          },
          "metadata": {},
          "execution_count": 47
        }
      ]
    },
    {
      "cell_type": "code",
      "source": [
        "a, b = b, a # swap"
      ],
      "metadata": {
        "id": "NUZK4i6jE8nI"
      },
      "execution_count": null,
      "outputs": []
    },
    {
      "cell_type": "code",
      "source": [
        "a, b, *c = 10, 20, 30, 40, 50, 60"
      ],
      "metadata": {
        "id": "JYjoJYCDE8nJ"
      },
      "execution_count": null,
      "outputs": []
    },
    {
      "cell_type": "code",
      "source": [
        "a, b"
      ],
      "metadata": {
        "colab": {
          "base_uri": "https://localhost:8080/"
        },
        "id": "6c2ZAcloHYQG",
        "outputId": "f7d69605-5451-4aae-9688-0ee97002fd53"
      },
      "execution_count": null,
      "outputs": [
        {
          "output_type": "execute_result",
          "data": {
            "text/plain": [
              "(10, 20)"
            ]
          },
          "metadata": {},
          "execution_count": 54
        }
      ]
    },
    {
      "cell_type": "code",
      "source": [
        "c"
      ],
      "metadata": {
        "colab": {
          "base_uri": "https://localhost:8080/"
        },
        "id": "DOsXiw9THgqC",
        "outputId": "e537c3b7-c7ba-4dbf-92c1-0a6e9dd20793"
      },
      "execution_count": null,
      "outputs": [
        {
          "output_type": "execute_result",
          "data": {
            "text/plain": [
              "[30, 40, 50, 60]"
            ]
          },
          "metadata": {},
          "execution_count": 55
        }
      ]
    },
    {
      "cell_type": "markdown",
      "source": [
        "# 변수명명법\n",
        "- 이름은 결국 개발자가 지어주는 거죠\n",
        "- 파이썬은 한글 변수명도 만들 수 있습니다 (UTF-8)\n",
        "- 영문 대/소문자, 숫자, 한글 다 쓸 수 있어요\n",
        "- 특수문자도 쓸 수는 있어요. 쓰지 않는 편입니다. _ 말고는 거의 쓰지 않습니다.\n",
        "- 숫자를 변수명의 앞에는 쓸 수 없습니다.\n",
        "\n",
        "- 파이썬이 권장하는 변수 이름을 짓는 방법이 있겠죠\n",
        "  - 시작은 소문자\n",
        "  - 인터프리터가 이미 사용하고 있는 단어는 사용하지 않는 것이 좋습니다. (True, int 이런단어도 변수명으로 쓸 수 있어요)\n",
        "  - 다만 앞으로 저 명령어는 사용하지 못합니다.\n",
        "  - 해당 언어가 이미 사용하고 있는 단어 (예약어, keyword)\n",
        "  - IDE 들은 대부분 예약어나 피해야할 변수명에 색깔을 칠해줍니다.\n",
        "\n",
        "  \n"
      ],
      "metadata": {
        "id": "Peol4AbvE8nK"
      }
    },
    {
      "cell_type": "code",
      "source": [
        "str_ = '사과나무'"
      ],
      "metadata": {
        "id": "PBrYLCxfE8nK"
      },
      "execution_count": null,
      "outputs": []
    },
    {
      "cell_type": "code",
      "source": [
        "$apple ='hello'"
      ],
      "metadata": {
        "id": "Y0SOjX6tIpbc"
      },
      "execution_count": null,
      "outputs": []
    },
    {
      "cell_type": "code",
      "source": [
        "str"
      ],
      "metadata": {
        "id": "MrifchGzE8nL",
        "colab": {
          "base_uri": "https://localhost:8080/",
          "height": 35
        },
        "outputId": "d2773fb5-c254-4380-f9b3-064e68674219"
      },
      "execution_count": null,
      "outputs": [
        {
          "output_type": "execute_result",
          "data": {
            "text/plain": [
              "'사과나무'"
            ],
            "application/vnd.google.colaboratory.intrinsic+json": {
              "type": "string"
            }
          },
          "metadata": {},
          "execution_count": 62
        }
      ]
    },
    {
      "cell_type": "code",
      "source": [
        "str.find('사과나무', '무')"
      ],
      "metadata": {
        "id": "68i7dro4E8nL",
        "colab": {
          "base_uri": "https://localhost:8080/",
          "height": 147
        },
        "outputId": "9d3da816-e0dc-4533-812f-8886dbd4de4c"
      },
      "execution_count": null,
      "outputs": [
        {
          "output_type": "error",
          "ename": "TypeError",
          "evalue": "slice indices must be integers or None or have an __index__ method",
          "traceback": [
            "\u001b[0;31m---------------------------------------------------------------------------\u001b[0m",
            "\u001b[0;31mTypeError\u001b[0m                                 Traceback (most recent call last)",
            "\u001b[0;32m<ipython-input-63-a603b3523e59>\u001b[0m in \u001b[0;36m<cell line: 1>\u001b[0;34m()\u001b[0m\n\u001b[0;32m----> 1\u001b[0;31m \u001b[0mstr\u001b[0m\u001b[0;34m.\u001b[0m\u001b[0mfind\u001b[0m\u001b[0;34m(\u001b[0m\u001b[0;34m'사과나무'\u001b[0m\u001b[0;34m,\u001b[0m \u001b[0;34m'무'\u001b[0m\u001b[0;34m)\u001b[0m\u001b[0;34m\u001b[0m\u001b[0;34m\u001b[0m\u001b[0m\n\u001b[0m",
            "\u001b[0;31mTypeError\u001b[0m: slice indices must be integers or None or have an __index__ method"
          ]
        }
      ]
    },
    {
      "cell_type": "code",
      "source": [
        "del str"
      ],
      "metadata": {
        "id": "LvRyoQqDE8nL"
      },
      "execution_count": null,
      "outputs": []
    },
    {
      "cell_type": "code",
      "source": [
        "str.find('사과나무', '무') # 원래의 예약어로 사용할 수 있게 됩니다."
      ],
      "metadata": {
        "id": "-oHrT1o2E8nL",
        "colab": {
          "base_uri": "https://localhost:8080/"
        },
        "outputId": "a67e0e02-6299-4f86-fc9a-d94aa4ee15c1"
      },
      "execution_count": null,
      "outputs": [
        {
          "output_type": "execute_result",
          "data": {
            "text/plain": [
              "3"
            ]
          },
          "metadata": {},
          "execution_count": 66
        }
      ]
    },
    {
      "cell_type": "code",
      "source": [],
      "metadata": {
        "id": "8AwIhuQIE8nM"
      },
      "execution_count": null,
      "outputs": []
    },
    {
      "cell_type": "code",
      "source": [],
      "metadata": {
        "id": "x8WulQGEE8nM"
      },
      "execution_count": null,
      "outputs": []
    },
    {
      "cell_type": "markdown",
      "source": [
        "# 자료(Data)의 형태(Type)\n",
        "- 자료\n",
        "  - 프로그래밍(코딩)을 하는 대상을 `자료`라고 합니다.\n",
        "    - 파일(엑셀, 그림, 텍스트, ... ), 문자, 숫자,...\n",
        "    - 자료의 형태는 문자 혹은 숫자입니다\n",
        "      - 문자도 결국 바이너리코드가 되면 숫자이니 정확히 말하자면 `숫자` 하나..\n",
        "      - 숫자를 RGB로 해석하면, 색정보, 문자 인코딩을 하면 문자, ...\n",
        "      - 결국, 컴퓨터에 입출력되는 모든 것들은 숫자\n",
        "\n",
        "- 파이썬의 기본 자료형은 자료를 구성하는 가장 기본적인 `최소 단위`입니다.\n",
        "\n",
        "- 파이썬에서 기본으로 제공되는 자료형들은 크게 스칼라(변수 하나에 값 하나)와 컨테이너(변수 하나에 여러개의 변수)라는 범주로 나눌 수 있습니다.\n",
        "\n",
        "- 스칼라(Scalar) 자료형: 한 변수에 숫자나 참/거짓 등 하나의 값을 담는 자료형들\n",
        "    - 정수(int) : 소수점이 없는 양수/음수 및 0을 포함하는 숫자들을 표현하는 형식\n",
        "    - 실수 또는 부동소수점(float) : 소수점이 있는 숫자를 표현하는 형식\n",
        "    - 불리언(bool) : 어떤 논리 혹은 조건의 참/거짓 판단을 표현하는 형식. ‘True’ 또는 ‘False’라는 두 값 중 하나를 취할 수 있습니다.\n",
        "    - 문자열(str) : 낱글자, 단어, 띄어쓰기, 기호 등으로 구성된 문자들의 배열을 표현하는 형식\n",
        "    - 값 없음(None) : 값이 존재하지 않는 변수를 생성하려면 ‘값 없음’을 의미하는 어떤 데이터를 변수에 할당해 줘야 하는데, 파이썬에서는 이를 ‘None’으로 정의합니다.\n",
        "\n",
        "\n"
      ],
      "metadata": {
        "id": "fObTTB9XyI3P"
      }
    },
    {
      "cell_type": "code",
      "source": [
        "True + False"
      ],
      "metadata": {
        "colab": {
          "base_uri": "https://localhost:8080/"
        },
        "id": "Gip_-qjLJ7LR",
        "outputId": "b5af458c-dcdd-46dc-a459-61d62b075fc5"
      },
      "execution_count": null,
      "outputs": [
        {
          "output_type": "execute_result",
          "data": {
            "text/plain": [
              "1"
            ]
          },
          "metadata": {},
          "execution_count": 70
        }
      ]
    },
    {
      "cell_type": "markdown",
      "source": [
        "# 숫자\n",
        "- 정수, 실수, BOOLEAN 3가지 타입의 자료\n",
        "- INT, FLOAT, DOUBLE, LONG 등등... 다른 언어(컴파일 언어)는 용량을 최대한 아끼기 위해서 정수, 실수로 나누고 정수/실수 안에서도 더 크거나 긴 숫자는 다른 자료형으로 관리를 합니다.\n",
        "- 파이썬은 3개만 있다고 생각하세요\n",
        "- 정수와 실수만 있다\n",
        "- BOOL (TRUE/FALSE) 1 0\n",
        "\n",
        "\n",
        "## 가. 정수(INTEGER)\n",
        "- int 라고 표현\n",
        "- 음수, 양수, 0 3가지가 있습니다\n",
        "- 4바이트를 할당해요 - 웬만한 숫자는 다 들어감\n",
        "- 속도는 좀 느려집니다.\n",
        "\n"
      ],
      "metadata": {
        "id": "PcWZAwmE0PhF"
      }
    },
    {
      "cell_type": "code",
      "source": [
        "type(-9835321523523542352352352352353252352352353242342352356234324237482375728395623874823749326487523678562387589237489236432658723847238946328758923748923643275893274981264832689562381642371648473265873264873274891236578123467823750) # 파이썬의 자료형 확인 명령어"
      ],
      "metadata": {
        "id": "2mslkN8Xi-9W",
        "colab": {
          "base_uri": "https://localhost:8080/"
        },
        "outputId": "502947e4-0f23-4dd8-ac6b-504c633e7081"
      },
      "execution_count": null,
      "outputs": [
        {
          "output_type": "execute_result",
          "data": {
            "text/plain": [
              "int"
            ]
          },
          "metadata": {},
          "execution_count": 75
        }
      ]
    },
    {
      "cell_type": "code",
      "source": [
        "type(0)"
      ],
      "metadata": {
        "id": "VIaDNJZp4rFq",
        "colab": {
          "base_uri": "https://localhost:8080/"
        },
        "outputId": "4feab631-fad8-4fab-b2f0-2de7472187a3"
      },
      "execution_count": null,
      "outputs": [
        {
          "output_type": "execute_result",
          "data": {
            "text/plain": [
              "int"
            ]
          },
          "metadata": {},
          "execution_count": 76
        }
      ]
    },
    {
      "cell_type": "markdown",
      "source": [
        "## 나. 실수 (float)\n",
        "- 파이썬에서는 float 하나만 제공\n",
        "  - 부동소수점 방식\n",
        "  - 움직이는 소수점 방식 이라는 뜻입니다. (부유하다)\n",
        "  - 소수점 위치가 고정되어 있지 않고 바뀐다는 의미입니다.\n",
        "  - 인터프리터의 오차라고 할까요\n",
        "\n",
        "\n",
        "컴퓨터에서 실수를 표현하는 두가지 방식.\n",
        "\n",
        "<img src=\"data:image/png;base64,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\">\n",
        "\n",
        "### 고정 소수점(Fixed Point)\n",
        "소수점이 찍힐 위치를 미리 정해놓고 소수를 표현하는 방식 (정수 + 소수)\n",
        "\n",
        "- 장점 : 실수를 정수부와 소수부로 표현하여 단순하다.\n",
        "- 단점 : 표현의 범위가 너무 적어서 활용하기 힘들다. (정수부는 15bit, 소수부는 16bit)\n",
        "\n",
        "\n",
        "- 고정 소수점 방식으로 3.141592를 표현하려면 부호(-)와 정수부(3), 소수부(0.141592) 3가지 요소 필요하다.\n",
        "\n",
        "\n",
        "## 부동 소수점(Floating Point)\n",
        "지수의 값에 따라 소수점이 움직이는 방식을 활용한 실수 표현 방법. 실수를 가수부 + 지수부로 표현한다.\n",
        "즉, 소수점의 위치가 고정되어 있지 않다.\n",
        "\n",
        "    - 가수 : 실수의 실제값 표현\n",
        "    - 지수 : 크기를 표현함. 가수의 어디쯤에 소수점이 있는지 나타냄\n",
        "\n",
        "\n",
        "\n",
        "- 장점 : 표현할 수 있는 수의 범위가 넓어진다. (현재 대부분 시스템에서 활용 중)\n",
        "- 단점 : 오차가 발생할 수 있다. (부동소수점으로 표현할 수 있는 방법이 매우 다양함)"
      ],
      "metadata": {
        "id": "xh-ABKSs1cwh"
      }
    },
    {
      "cell_type": "code",
      "source": [
        "0.2 + 0.2"
      ],
      "metadata": {
        "id": "7DlypCmb-3hg",
        "colab": {
          "base_uri": "https://localhost:8080/"
        },
        "outputId": "6b71f9e0-a268-4465-fc28-bfb04186d545"
      },
      "execution_count": null,
      "outputs": [
        {
          "output_type": "execute_result",
          "data": {
            "text/plain": [
              "0.4"
            ]
          },
          "metadata": {},
          "execution_count": 77
        }
      ]
    },
    {
      "cell_type": "code",
      "source": [
        "0.1 + 0.2"
      ],
      "metadata": {
        "colab": {
          "base_uri": "https://localhost:8080/"
        },
        "id": "kpwwptClLl3Y",
        "outputId": "e6baa45b-bd6e-41a7-836c-41e56a09d88e"
      },
      "execution_count": null,
      "outputs": [
        {
          "output_type": "execute_result",
          "data": {
            "text/plain": [
              "0.30000000000000004"
            ]
          },
          "metadata": {},
          "execution_count": 78
        }
      ]
    },
    {
      "cell_type": "markdown",
      "source": [
        "decimal 모듈\n",
        "\n",
        "- 정확한 십진수 기반의 연산이 필요한 경우를 위해서 파이썬에서는 decimal 내장 모듈을 제공하고 있습니다. decimal 내장 모듈의 Decimal 클래스를 사용해서 위에서 했던 연산을 해보겠습니다."
      ],
      "metadata": {
        "id": "tCIaCa9KX6E8"
      }
    },
    {
      "cell_type": "code",
      "source": [
        "# 고정소수점 방식으로 실수를 사용하려면\n",
        "import decimal\n",
        "\n",
        "decimal.Decimal('.1') + decimal.Decimal('.2')"
      ],
      "metadata": {
        "id": "3xLtd7Xo-53d",
        "colab": {
          "base_uri": "https://localhost:8080/"
        },
        "outputId": "2b256c6e-977d-4fdb-8c45-36214ace9ba7"
      },
      "execution_count": null,
      "outputs": [
        {
          "output_type": "execute_result",
          "data": {
            "text/plain": [
              "Decimal('0.3')"
            ]
          },
          "metadata": {},
          "execution_count": 81
        }
      ]
    },
    {
      "cell_type": "code",
      "source": [
        "type(1.2)"
      ],
      "metadata": {
        "id": "LcL0rIIuTJ_N",
        "colab": {
          "base_uri": "https://localhost:8080/"
        },
        "outputId": "75375f21-22e4-4a34-f4e3-f3d8e2738c97"
      },
      "execution_count": null,
      "outputs": [
        {
          "output_type": "execute_result",
          "data": {
            "text/plain": [
              "float"
            ]
          },
          "metadata": {},
          "execution_count": 83
        }
      ]
    },
    {
      "cell_type": "code",
      "source": [
        "type(1.) # 지수부 생략 가능"
      ],
      "metadata": {
        "id": "5NZfw-BiTbU8",
        "colab": {
          "base_uri": "https://localhost:8080/"
        },
        "outputId": "a1654467-bc57-4786-c1f4-d2a58e957596"
      },
      "execution_count": null,
      "outputs": [
        {
          "output_type": "execute_result",
          "data": {
            "text/plain": [
              "float"
            ]
          },
          "metadata": {},
          "execution_count": 84
        }
      ]
    },
    {
      "cell_type": "code",
      "source": [
        "type(.9) # 정수부 생략 가능"
      ],
      "metadata": {
        "id": "5ZwrGUXkThUQ",
        "colab": {
          "base_uri": "https://localhost:8080/"
        },
        "outputId": "2970e733-04de-4472-95a4-7833ee3260af"
      },
      "execution_count": null,
      "outputs": [
        {
          "output_type": "execute_result",
          "data": {
            "text/plain": [
              "float"
            ]
          },
          "metadata": {},
          "execution_count": 86
        }
      ]
    },
    {
      "cell_type": "code",
      "source": [
        "type(.) # . 은 에러가 납니다."
      ],
      "metadata": {
        "id": "T8ImzYp1SJeK",
        "colab": {
          "base_uri": "https://localhost:8080/",
          "height": 110
        },
        "outputId": "5145b1b4-b6d3-4b10-8be0-6a9395555e3f"
      },
      "execution_count": null,
      "outputs": [
        {
          "output_type": "error",
          "ename": "SyntaxError",
          "evalue": "invalid syntax (<ipython-input-89-38da9145431a>, line 1)",
          "traceback": [
            "\u001b[0;36m  File \u001b[0;32m\"<ipython-input-89-38da9145431a>\"\u001b[0;36m, line \u001b[0;32m1\u001b[0m\n\u001b[0;31m    type(.) # . 은 에러가 납니다.\u001b[0m\n\u001b[0m         ^\u001b[0m\n\u001b[0;31mSyntaxError\u001b[0m\u001b[0;31m:\u001b[0m invalid syntax\n"
          ]
        }
      ]
    },
    {
      "cell_type": "code",
      "source": [
        "0.001e3 # 0.001 * 10^3"
      ],
      "metadata": {
        "colab": {
          "base_uri": "https://localhost:8080/"
        },
        "id": "KbfRbqqzMxRj",
        "outputId": "f1ae210d-b16a-42e3-cb2d-1fa89438f120"
      },
      "execution_count": null,
      "outputs": [
        {
          "output_type": "execute_result",
          "data": {
            "text/plain": [
              "1.0"
            ]
          },
          "metadata": {},
          "execution_count": 90
        }
      ]
    },
    {
      "cell_type": "code",
      "source": [
        "0.01e-3 # 0.001 * 10^-3"
      ],
      "metadata": {
        "colab": {
          "base_uri": "https://localhost:8080/"
        },
        "id": "8mPTI4dWM755",
        "outputId": "f2de019e-bf98-48a3-e97c-c33de940915f"
      },
      "execution_count": null,
      "outputs": [
        {
          "output_type": "execute_result",
          "data": {
            "text/plain": [
              "1e-05"
            ]
          },
          "metadata": {},
          "execution_count": 92
        }
      ]
    },
    {
      "cell_type": "code",
      "source": [
        "print(0.01e-3)"
      ],
      "metadata": {
        "colab": {
          "base_uri": "https://localhost:8080/"
        },
        "id": "k80As3wcN5Yt",
        "outputId": "db59a091-32ae-4713-968d-79939f8baee9"
      },
      "execution_count": null,
      "outputs": [
        {
          "output_type": "stream",
          "name": "stdout",
          "text": [
            "1e-05\n"
          ]
        }
      ]
    },
    {
      "cell_type": "code",
      "source": [
        "print(\"%f\"%0.01e-3)"
      ],
      "metadata": {
        "colab": {
          "base_uri": "https://localhost:8080/"
        },
        "id": "5awfQM1AOhV2",
        "outputId": "5e0b4465-c3b0-43f8-e146-924fda9d4992"
      },
      "execution_count": null,
      "outputs": [
        {
          "output_type": "stream",
          "name": "stdout",
          "text": [
            "0.000010\n"
          ]
        }
      ]
    },
    {
      "cell_type": "markdown",
      "source": [
        "## 다. 불리언 (bool)\n",
        "- 참, 거짓을 표현하는 값 (True, False)\n",
        "- True = 1, False = 0"
      ],
      "metadata": {
        "id": "1jw6SimJ2qY4"
      }
    },
    {
      "cell_type": "code",
      "source": [
        "type(True)"
      ],
      "metadata": {
        "id": "rBlrc6ah2nTh",
        "colab": {
          "base_uri": "https://localhost:8080/"
        },
        "outputId": "9d3521bc-bc59-4af6-ee6a-a48c2b8c72bd"
      },
      "execution_count": null,
      "outputs": [
        {
          "output_type": "execute_result",
          "data": {
            "text/plain": [
              "bool"
            ]
          },
          "metadata": {},
          "execution_count": 93
        }
      ]
    },
    {
      "cell_type": "code",
      "source": [
        "True + True"
      ],
      "metadata": {
        "id": "HNIgAFz8SnGg",
        "colab": {
          "base_uri": "https://localhost:8080/"
        },
        "outputId": "4b1b6d94-e5b0-4acd-93e0-82ea785f7463"
      },
      "execution_count": null,
      "outputs": [
        {
          "output_type": "execute_result",
          "data": {
            "text/plain": [
              "2"
            ]
          },
          "metadata": {},
          "execution_count": 95
        }
      ]
    },
    {
      "cell_type": "markdown",
      "source": [
        "# 문자열 (string)\n",
        "- 문자와 문자열은 다른 개념입니다.\n",
        "- 파이썬에서는 문자와 문자열을 따로 구분하지 않고 string으로 취급합니다.\n",
        "- 파이썬에서 문자열을 표현하는 방법은 3가지가 있습니다\n",
        "- '' , \" \", ''' '''\n",
        "  -멀티라인 제외하고는 작은 따옴표와 큰 따옴표의 차이는 없습니다.\n",
        "  - 다만 규칙이라면 처음에 열어준 따옴표로 닫아줘야 합니다.\n",
        "  "
      ],
      "metadata": {
        "id": "_J9sEEpa3NC-"
      }
    },
    {
      "cell_type": "code",
      "source": [
        "'hello' ; \"hello\" ; \"\"\"hello\n",
        "python\"\"\""
      ],
      "metadata": {
        "id": "KKmLlEso3ZKO",
        "colab": {
          "base_uri": "https://localhost:8080/",
          "height": 35
        },
        "outputId": "238f8bd8-f32b-425a-df33-25a8030600ae"
      },
      "execution_count": null,
      "outputs": [
        {
          "output_type": "execute_result",
          "data": {
            "text/plain": [
              "'hello\\npython'"
            ],
            "application/vnd.google.colaboratory.intrinsic+json": {
              "type": "string"
            }
          },
          "metadata": {},
          "execution_count": 104
        }
      ]
    },
    {
      "cell_type": "code",
      "source": [
        "'\"hello\"'"
      ],
      "metadata": {
        "colab": {
          "base_uri": "https://localhost:8080/",
          "height": 35
        },
        "id": "ncIRkwkcQ77b",
        "outputId": "8940ed4e-c4ab-49a5-a027-55c658784ea1"
      },
      "execution_count": null,
      "outputs": [
        {
          "output_type": "execute_result",
          "data": {
            "text/plain": [
              "'\"hello\"'"
            ],
            "application/vnd.google.colaboratory.intrinsic+json": {
              "type": "string"
            }
          },
          "metadata": {},
          "execution_count": 105
        }
      ]
    },
    {
      "cell_type": "markdown",
      "source": [
        "- 파이썬에서는 한줄에 하나의 명령어 또는 하나의 문자열을 입력하는 것이 원칙입니다."
      ],
      "metadata": {
        "id": "STwvXBVH4OpK"
      }
    },
    {
      "cell_type": "code",
      "source": [
        "# 명령어 여러개를 한줄에 쓸 때는 세미콜론을 사용해주세요\n",
        "'hello' ; \"hello\" ; \"\"\"hello\n",
        "python\"\"\""
      ],
      "metadata": {
        "id": "k3Y87p7F4BaX",
        "colab": {
          "base_uri": "https://localhost:8080/",
          "height": 35
        },
        "outputId": "ba2dd19f-2636-43da-f180-1ea584613953"
      },
      "execution_count": null,
      "outputs": [
        {
          "output_type": "execute_result",
          "data": {
            "text/plain": [
              "'hello\\npython'"
            ],
            "application/vnd.google.colaboratory.intrinsic+json": {
              "type": "string"
            }
          },
          "metadata": {},
          "execution_count": 106
        }
      ]
    },
    {
      "cell_type": "code",
      "source": [
        "' ' == '' # 공백도 하나의 문자열의 일부입니다."
      ],
      "metadata": {
        "id": "8RMUAmPt4bwu",
        "colab": {
          "base_uri": "https://localhost:8080/"
        },
        "outputId": "cfa3eeda-3608-4d56-b5d6-1c02e4dbf439"
      },
      "execution_count": null,
      "outputs": [
        {
          "output_type": "execute_result",
          "data": {
            "text/plain": [
              "False"
            ]
          },
          "metadata": {},
          "execution_count": 109
        }
      ]
    },
    {
      "cell_type": "code",
      "source": [
        "'24' == '24 ' # 잘한거 같은데 에러가 나면 앞뒤에 공백이 숨어있는건 아닌지 꼭 확인해주셔야 한다."
      ],
      "metadata": {
        "id": "ROsz-gh04iLm",
        "colab": {
          "base_uri": "https://localhost:8080/"
        },
        "outputId": "884edeb5-da4f-4c99-bb3f-fb8a6928f77e"
      },
      "execution_count": null,
      "outputs": [
        {
          "output_type": "execute_result",
          "data": {
            "text/plain": [
              "False"
            ]
          },
          "metadata": {},
          "execution_count": 111
        }
      ]
    },
    {
      "cell_type": "code",
      "source": [
        "print(\"\"\"hello\n",
        "python     \"\"\")"
      ],
      "metadata": {
        "id": "_IEaEsfw4qT4",
        "colab": {
          "base_uri": "https://localhost:8080/"
        },
        "outputId": "a6757b9b-c58c-489b-8b5d-2eda7a7d8526"
      },
      "execution_count": null,
      "outputs": [
        {
          "output_type": "stream",
          "name": "stdout",
          "text": [
            "hello\n",
            "python     \n"
          ]
        }
      ]
    },
    {
      "cell_type": "code",
      "source": [
        "'a' == 'A' # 아스키코드로 변환해서 구분하기 때문에"
      ],
      "metadata": {
        "id": "T6tvmZPI4yM3",
        "colab": {
          "base_uri": "https://localhost:8080/"
        },
        "outputId": "151c8395-1c59-4c11-92d5-6f7db8de19ba"
      },
      "execution_count": null,
      "outputs": [
        {
          "output_type": "execute_result",
          "data": {
            "text/plain": [
              "False"
            ]
          },
          "metadata": {},
          "execution_count": 116
        }
      ]
    },
    {
      "cell_type": "code",
      "source": [
        "'a' > 'A' # 소문자 a의 아스키코드 값이 대문자 A의 아스키코드 값보다 크기 때문에"
      ],
      "metadata": {
        "id": "ouQGHy53Vft4",
        "colab": {
          "base_uri": "https://localhost:8080/"
        },
        "outputId": "359a6c14-0fe4-4af5-9cee-d28fd9713cfd"
      },
      "execution_count": null,
      "outputs": [
        {
          "output_type": "execute_result",
          "data": {
            "text/plain": [
              "True"
            ]
          },
          "metadata": {},
          "execution_count": 117
        }
      ]
    },
    {
      "cell_type": "markdown",
      "source": [
        "# 문자열 이스케이프\n",
        "  - 문자를 사용할 때 충돌이 발생하는 경우들이 있습니다.\n",
        "  - 파이썬 인터프리터에서 이미 역할이 정해진 문자들이죠.\n",
        "  - This's a dog    - 어퍼스트로피는 파이썬에서 이미 약속된 규칙으로 문자열의 앞뒤를 감싸주는 작은따옴표와 기호가 같습니다. -> 파이썬 인터프리터에서의 역할과 우리가 입력하는 자료로서의 역할이 충돌을 합니다.\n",
        "\n",
        "- 충돌을 막기 위해서 역슬래시(\\)뒤에 그 문자, 혹은 그 문자를 의미하는 약어를 사용하는 방법으로 충돌을 피하는 것 : 이스케이핑 이라고 부릅니다."
      ],
      "metadata": {
        "id": "l6knkXj_7J8R"
      }
    },
    {
      "cell_type": "code",
      "source": [
        "print('안녕하세요\\t김\\b연지입니다') # \\t : tab"
      ],
      "metadata": {
        "id": "Sw5hzR7P7DsW",
        "colab": {
          "base_uri": "https://localhost:8080/"
        },
        "outputId": "fa876f04-1369-4929-811f-15e5a0f365f6"
      },
      "execution_count": null,
      "outputs": [
        {
          "output_type": "stream",
          "name": "stdout",
          "text": [
            "안녕하세요\t김\b연지\\s입니다\n"
          ]
        }
      ]
    },
    {
      "cell_type": "markdown",
      "source": [
        "- 경로를 표현할 때도 많이 씁니다.\n",
        "- 특히 윈도우에서 경로를 표현할 때는 폴더와 폴더 사이의 구분자로 역슬래시를 많이 씁니다.\n",
        "\n",
        "'C:\\ITStudy\\01_pythonBasic'\n",
        "\n",
        "- 문자열 내에서 표현하기 힘든 문자들\n",
        "- 엔터 백스페이스 그리고 탭 이런것들\n",
        "- 표현하기 힘든 문자들을 입력하는 방법으로도 역슬래시는 많이 쓰입니다.\n",
        "\n"
      ],
      "metadata": {
        "id": "HYSjiRtO8LCO"
      }
    },
    {
      "cell_type": "code",
      "source": [
        "print('C:\\ITStudy\\\\01_python')"
      ],
      "metadata": {
        "id": "zPfJdLsf8H5G",
        "colab": {
          "base_uri": "https://localhost:8080/"
        },
        "outputId": "fb4f63b2-1fe6-424d-a1cc-4cc0bb55f10f"
      },
      "execution_count": null,
      "outputs": [
        {
          "output_type": "stream",
          "name": "stdout",
          "text": [
            "C:\\ITStudy\\01_python\n"
          ]
        }
      ]
    },
    {
      "cell_type": "code",
      "source": [
        "\"\"\"hello\n",
        "python     \"\"\""
      ],
      "metadata": {
        "id": "351PtrOW8oYI",
        "colab": {
          "base_uri": "https://localhost:8080/",
          "height": 35
        },
        "outputId": "3be58c93-f58f-45c5-fe49-7fb784dfe607"
      },
      "execution_count": null,
      "outputs": [
        {
          "output_type": "execute_result",
          "data": {
            "text/plain": [
              "'hello\\npython     '"
            ],
            "application/vnd.google.colaboratory.intrinsic+json": {
              "type": "string"
            }
          },
          "metadata": {},
          "execution_count": 126
        }
      ]
    },
    {
      "cell_type": "code",
      "source": [
        "b\"\"\"hello\n",
        "python     \"\"\""
      ],
      "metadata": {
        "colab": {
          "base_uri": "https://localhost:8080/"
        },
        "id": "ZFe23XkiTt8q",
        "outputId": "deba9a13-7856-42c6-85bc-93c6a9e38ee4"
      },
      "execution_count": null,
      "outputs": [
        {
          "output_type": "execute_result",
          "data": {
            "text/plain": [
              "b'hello\\npython     '"
            ]
          },
          "metadata": {},
          "execution_count": 128
        }
      ]
    },
    {
      "cell_type": "markdown",
      "source": [
        "\\n : 뉴라인 - 문자열의 끝을 의미합니다. - 인터프리터가 아 여기서 문자열이 끝이구나 라고 인식을 하게 됩니다.\n"
      ],
      "metadata": {
        "id": "JUnbKSb89Bie"
      }
    },
    {
      "cell_type": "markdown",
      "source": [
        "# 사칙연산 (+, -, /, *)\n",
        "  - 추가적인 사칙연산 : 지수연산(**) 몫연산 (//) 나머지 연산 (%)로 표기합니다.\n",
        "- 부호 (-)\n"
      ],
      "metadata": {
        "id": "KgKFsegC9fUT"
      }
    },
    {
      "cell_type": "code",
      "source": [
        "2 * 3"
      ],
      "metadata": {
        "id": "7t1_kQYhC22r",
        "colab": {
          "base_uri": "https://localhost:8080/"
        },
        "outputId": "3c11aa7a-22d0-46e8-b272-451b0fd83a60"
      },
      "execution_count": null,
      "outputs": [
        {
          "output_type": "execute_result",
          "data": {
            "text/plain": [
              "6"
            ]
          },
          "metadata": {},
          "execution_count": 129
        }
      ]
    },
    {
      "cell_type": "code",
      "source": [
        "2 ** 3 # 지수연산 (제곱) **"
      ],
      "metadata": {
        "id": "Q6y8nhZRC4vb",
        "colab": {
          "base_uri": "https://localhost:8080/"
        },
        "outputId": "99a71f6e-5017-419e-ed17-be56b9e1aacb"
      },
      "execution_count": null,
      "outputs": [
        {
          "output_type": "execute_result",
          "data": {
            "text/plain": [
              "8"
            ]
          },
          "metadata": {},
          "execution_count": 130
        }
      ]
    },
    {
      "cell_type": "code",
      "source": [
        "2 / 3"
      ],
      "metadata": {
        "id": "jZsTh82zC6Yi",
        "colab": {
          "base_uri": "https://localhost:8080/"
        },
        "outputId": "4c302470-f04c-44dd-8f08-78043f1f1601"
      },
      "execution_count": null,
      "outputs": [
        {
          "output_type": "execute_result",
          "data": {
            "text/plain": [
              "0.6666666666666666"
            ]
          },
          "metadata": {},
          "execution_count": 131
        }
      ]
    },
    {
      "cell_type": "code",
      "source": [
        "2 // 3 # 몫연산"
      ],
      "metadata": {
        "id": "Qc2_GXIjB4J4",
        "colab": {
          "base_uri": "https://localhost:8080/"
        },
        "outputId": "9f08c110-e9bd-4787-9cc7-5020a58e06a8"
      },
      "execution_count": null,
      "outputs": [
        {
          "output_type": "execute_result",
          "data": {
            "text/plain": [
              "0"
            ]
          },
          "metadata": {},
          "execution_count": 132
        }
      ]
    },
    {
      "cell_type": "code",
      "source": [
        "2 % 3"
      ],
      "metadata": {
        "colab": {
          "base_uri": "https://localhost:8080/"
        },
        "id": "ic6r8_X3UKqD",
        "outputId": "05a4e8b1-5e0d-4101-85f1-9d4793fe2040"
      },
      "execution_count": null,
      "outputs": [
        {
          "output_type": "execute_result",
          "data": {
            "text/plain": [
              "2"
            ]
          },
          "metadata": {},
          "execution_count": 133
        }
      ]
    },
    {
      "cell_type": "code",
      "source": [
        "4 / 2 # 파이썬에서 나눗셈은 float으로 리턴됩니다."
      ],
      "metadata": {
        "colab": {
          "base_uri": "https://localhost:8080/"
        },
        "id": "ai_NvVpmUP7N",
        "outputId": "1f651aad-7cf3-4264-baec-8551c5ea5ffc"
      },
      "execution_count": null,
      "outputs": [
        {
          "output_type": "execute_result",
          "data": {
            "text/plain": [
              "2.0"
            ]
          },
          "metadata": {},
          "execution_count": 134
        }
      ]
    },
    {
      "cell_type": "code",
      "source": [
        "int(4 / 2)"
      ],
      "metadata": {
        "colab": {
          "base_uri": "https://localhost:8080/"
        },
        "id": "y0hhouf4UXDd",
        "outputId": "6ce72dfe-ca65-4fc8-b659-4e5daca68e17"
      },
      "execution_count": null,
      "outputs": [
        {
          "output_type": "execute_result",
          "data": {
            "text/plain": [
              "2"
            ]
          },
          "metadata": {},
          "execution_count": 135
        }
      ]
    },
    {
      "cell_type": "code",
      "source": [
        "'고건우' + '고건우'"
      ],
      "metadata": {
        "colab": {
          "base_uri": "https://localhost:8080/",
          "height": 35
        },
        "id": "Sx536s3UUa57",
        "outputId": "6f117143-edc5-4e0f-c644-bdf47fc71214"
      },
      "execution_count": null,
      "outputs": [
        {
          "output_type": "execute_result",
          "data": {
            "text/plain": [
              "'김연지김연지'"
            ],
            "application/vnd.google.colaboratory.intrinsic+json": {
              "type": "string"
            }
          },
          "metadata": {},
          "execution_count": 136
        }
      ]
    },
    {
      "cell_type": "code",
      "source": [
        "'고건우' * 3"
      ],
      "metadata": {
        "colab": {
          "base_uri": "https://localhost:8080/",
          "height": 35
        },
        "id": "hdbnx7pQUfMi",
        "outputId": "eb2f20d2-caa7-4abb-c16d-15bf8aa7deea"
      },
      "execution_count": null,
      "outputs": [
        {
          "output_type": "execute_result",
          "data": {
            "text/plain": [
              "'김연지김연지김연지'"
            ],
            "application/vnd.google.colaboratory.intrinsic+json": {
              "type": "string"
            }
          },
          "metadata": {},
          "execution_count": 137
        }
      ]
    },
    {
      "cell_type": "code",
      "source": [
        "'고건우' *2 # 문자열끼리 덧셈, 문자열 * 숫자 만큼 곱셈은 가능"
      ],
      "metadata": {
        "colab": {
          "base_uri": "https://localhost:8080/",
          "height": 35
        },
        "id": "UKwlIHZ7UhQB",
        "outputId": "ebdcffdf-b424-4978-e217-90196361ce36"
      },
      "execution_count": null,
      "outputs": [
        {
          "output_type": "execute_result",
          "data": {
            "text/plain": [
              "'김연지김연지'"
            ],
            "application/vnd.google.colaboratory.intrinsic+json": {
              "type": "string"
            }
          },
          "metadata": {},
          "execution_count": 142
        }
      ]
    },
    {
      "cell_type": "code",
      "source": [
        "print('고건우'+'고건우')"
      ],
      "metadata": {
        "colab": {
          "base_uri": "https://localhost:8080/"
        },
        "id": "6S6QhjzCU6nA",
        "outputId": "0506acf9-9df7-4f0b-edcf-83c42549319f"
      },
      "execution_count": null,
      "outputs": [
        {
          "output_type": "stream",
          "name": "stdout",
          "text": [
            "김연지김연지\n"
          ]
        }
      ]
    },
    {
      "cell_type": "code",
      "source": [
        "print('고건우', '고건우')"
      ],
      "metadata": {
        "colab": {
          "base_uri": "https://localhost:8080/"
        },
        "id": "bLwy0tsjU__T",
        "outputId": "c7768f51-16ee-4810-a2c3-05154c4805a2"
      },
      "execution_count": null,
      "outputs": [
        {
          "output_type": "stream",
          "name": "stdout",
          "text": [
            "김연지 김연지\n"
          ]
        }
      ]
    },
    {
      "cell_type": "markdown",
      "source": [
        "### 산술 연산 후 할당 연산자 사용"
      ],
      "metadata": {
        "id": "5RR9G04LmakP"
      }
    },
    {
      "cell_type": "code",
      "source": [
        "a, b = 30, 10\n",
        "a, b"
      ],
      "metadata": {
        "colab": {
          "base_uri": "https://localhost:8080/"
        },
        "id": "XzM5B0dYmU-j",
        "outputId": "662fdcbf-6e7c-459c-ac0f-536a7ebc6a59"
      },
      "execution_count": null,
      "outputs": [
        {
          "output_type": "execute_result",
          "data": {
            "text/plain": [
              "(30, 10)"
            ]
          },
          "metadata": {},
          "execution_count": 146
        }
      ]
    },
    {
      "cell_type": "markdown",
      "source": [
        "* 변수 한 개에서 값의 변화를 계속 유지하려면 계산 결과를 다시 변수에 저장해야 함"
      ],
      "metadata": {
        "id": "5ai3Cdrymneh"
      }
    },
    {
      "cell_type": "code",
      "source": [
        "a = a + b\n",
        "a"
      ],
      "metadata": {
        "id": "i9RI-mdxmhld",
        "colab": {
          "base_uri": "https://localhost:8080/"
        },
        "outputId": "282550d3-9c1a-422f-ae95-9c7997577205"
      },
      "execution_count": null,
      "outputs": [
        {
          "output_type": "execute_result",
          "data": {
            "text/plain": [
              "40"
            ]
          },
          "metadata": {},
          "execution_count": 147
        }
      ]
    },
    {
      "cell_type": "markdown",
      "source": [
        "* 파이썬에서는 변수를 두 번 입력하지 않도록 산술 연산 후 할당 연산자를 제공"
      ],
      "metadata": {
        "id": "9fP1VdJkmsWK"
      }
    },
    {
      "cell_type": "code",
      "source": [
        "b"
      ],
      "metadata": {
        "colab": {
          "base_uri": "https://localhost:8080/"
        },
        "id": "bHA4FS32VwXk",
        "outputId": "01ee4ac4-7c61-44a7-96f5-9621bc58485f"
      },
      "execution_count": null,
      "outputs": [
        {
          "output_type": "execute_result",
          "data": {
            "text/plain": [
              "10"
            ]
          },
          "metadata": {},
          "execution_count": 149
        }
      ]
    },
    {
      "cell_type": "code",
      "source": [
        "a += b # a = a+b 와 같은 뜻입니다.\n",
        "a"
      ],
      "metadata": {
        "id": "tFGI5d1Mmp5H",
        "colab": {
          "base_uri": "https://localhost:8080/"
        },
        "outputId": "26010996-d21b-4a22-eea1-770b7613c755"
      },
      "execution_count": null,
      "outputs": [
        {
          "output_type": "execute_result",
          "data": {
            "text/plain": [
              "50"
            ]
          },
          "metadata": {},
          "execution_count": 148
        }
      ]
    },
    {
      "cell_type": "markdown",
      "source": [
        "* 덧셈(+=) 외에도 뺄셈(-=), 곱셈(\\*=), 나눗셈(/=, //=), 나머지(%=)도 같은 방식\n",
        "* 똑같이 연산(-, *, /, //) 후 할당(=) 한다는 뜻입니다.\n"
      ],
      "metadata": {
        "id": "GT_ivIJbm0BI"
      }
    },
    {
      "cell_type": "code",
      "source": [
        "a, b = 30, 10\n",
        "a = a / b\n",
        "a"
      ],
      "metadata": {
        "colab": {
          "base_uri": "https://localhost:8080/"
        },
        "id": "UBCjK2b3WAYq",
        "outputId": "83373956-7f3c-4ec5-e01c-a9a76c9d387e"
      },
      "execution_count": null,
      "outputs": [
        {
          "output_type": "execute_result",
          "data": {
            "text/plain": [
              "3.0"
            ]
          },
          "metadata": {},
          "execution_count": 151
        }
      ]
    },
    {
      "cell_type": "code",
      "source": [
        "a, b = 30, 10\n",
        "a /= b # a = a / b\n",
        "a"
      ],
      "metadata": {
        "id": "Zu3H36Ty9YpA"
      },
      "execution_count": null,
      "outputs": []
    },
    {
      "cell_type": "code",
      "source": [
        "c /= b # c = c/b"
      ],
      "metadata": {
        "id": "GsJJ5fvPCSiI",
        "colab": {
          "base_uri": "https://localhost:8080/",
          "height": 147
        },
        "outputId": "7a344404-c471-4f16-a96b-ac26cc4d0e30"
      },
      "execution_count": null,
      "outputs": [
        {
          "output_type": "error",
          "ename": "NameError",
          "evalue": "name 'c' is not defined",
          "traceback": [
            "\u001b[0;31m---------------------------------------------------------------------------\u001b[0m",
            "\u001b[0;31mNameError\u001b[0m                                 Traceback (most recent call last)",
            "\u001b[0;32m<ipython-input-156-8e61c5d57547>\u001b[0m in \u001b[0;36m<cell line: 1>\u001b[0;34m()\u001b[0m\n\u001b[0;32m----> 1\u001b[0;31m \u001b[0mc\u001b[0m \u001b[0;34m/=\u001b[0m \u001b[0mb\u001b[0m\u001b[0;34m\u001b[0m\u001b[0;34m\u001b[0m\u001b[0m\n\u001b[0m",
            "\u001b[0;31mNameError\u001b[0m: name 'c' is not defined"
          ]
        }
      ]
    },
    {
      "cell_type": "markdown",
      "source": [
        "# 비교 연산\n",
        "  - `=` 같다라는 뜻 아닙니다 -> 프로그래밍 언어에서는 할당 연산자로 사용을 합니다.\n",
        "  - `==` 같다라는 뜻 -> 항등 연산자, 자료형 타입과 값을 함께 비교\n",
        "  - a = 3 a라는 변수명에 3을 넣겠다\n",
        "  - ==, !=, > < >= <="
      ],
      "metadata": {
        "id": "v5_mGNNF93S_"
      }
    },
    {
      "cell_type": "code",
      "source": [
        "1 == '1'"
      ],
      "metadata": {
        "id": "DJuqOx_g9zps",
        "colab": {
          "base_uri": "https://localhost:8080/"
        },
        "outputId": "dba016f1-877b-4d74-bcc3-106a9e8b396b"
      },
      "execution_count": null,
      "outputs": [
        {
          "output_type": "execute_result",
          "data": {
            "text/plain": [
              "False"
            ]
          },
          "metadata": {},
          "execution_count": 157
        }
      ]
    },
    {
      "cell_type": "code",
      "source": [
        "1 == int('1')"
      ],
      "metadata": {
        "id": "G0LzEuJDAyMg",
        "colab": {
          "base_uri": "https://localhost:8080/"
        },
        "outputId": "cf1da1ae-a168-4c9b-f333-187c894b3e13"
      },
      "execution_count": null,
      "outputs": [
        {
          "output_type": "execute_result",
          "data": {
            "text/plain": [
              "True"
            ]
          },
          "metadata": {},
          "execution_count": 158
        }
      ]
    },
    {
      "cell_type": "code",
      "source": [
        "# === 완전항등연산자 : 값/자료형/같은메모리주소에서 나오는지"
      ],
      "metadata": {
        "id": "4eUQsJpnDfx8"
      },
      "execution_count": null,
      "outputs": []
    },
    {
      "cell_type": "markdown",
      "source": [
        "우선순위\n",
        "```\n",
        " ()  >  **  > -(negative)  >  *, /, //, %  > +, -\n",
        "```\n",
        "\n",
        " - 따로 우선순위를 외우시는 건 추천하지 않습니다.\n",
        " - ( ) 괄호로 우선 연산해야 하는 것들을 꼭 묶어주세요.\n",
        " - 남들이랑 같이 개발할 거잖아요 - 가독성 면에서도 큰 도움이 됩니다."
      ],
      "metadata": {
        "id": "1s7NXg2tCNPH"
      }
    },
    {
      "cell_type": "code",
      "source": [
        "1+4/2"
      ],
      "metadata": {
        "id": "829iEC5pCHBw",
        "colab": {
          "base_uri": "https://localhost:8080/"
        },
        "outputId": "a0e7d18b-aa24-44fe-8bfd-34874d5a1986"
      },
      "execution_count": null,
      "outputs": [
        {
          "output_type": "execute_result",
          "data": {
            "text/plain": [
              "3.0"
            ]
          },
          "metadata": {},
          "execution_count": 159
        }
      ]
    },
    {
      "cell_type": "code",
      "source": [
        "(1+4)/2"
      ],
      "metadata": {
        "id": "1Joy7zFcEklt",
        "colab": {
          "base_uri": "https://localhost:8080/"
        },
        "outputId": "84721ffd-0c28-4541-98ad-402dd835131b"
      },
      "execution_count": null,
      "outputs": [
        {
          "output_type": "execute_result",
          "data": {
            "text/plain": [
              "2.5"
            ]
          },
          "metadata": {},
          "execution_count": 160
        }
      ]
    },
    {
      "cell_type": "code",
      "source": [
        "1 != '3'"
      ],
      "metadata": {
        "colab": {
          "base_uri": "https://localhost:8080/"
        },
        "id": "zPdqbz-9XIgI",
        "outputId": "e19ba49f-236b-4634-b0b4-bde75cc5c070"
      },
      "execution_count": null,
      "outputs": [
        {
          "output_type": "execute_result",
          "data": {
            "text/plain": [
              "True"
            ]
          },
          "metadata": {},
          "execution_count": 162
        }
      ]
    },
    {
      "cell_type": "code",
      "source": [
        "3 > 2"
      ],
      "metadata": {
        "colab": {
          "base_uri": "https://localhost:8080/"
        },
        "id": "Z9vXIDNkXMW-",
        "outputId": "08565449-f58f-4aca-bc07-9718bf6391ae"
      },
      "execution_count": null,
      "outputs": [
        {
          "output_type": "execute_result",
          "data": {
            "text/plain": [
              "True"
            ]
          },
          "metadata": {},
          "execution_count": 165
        }
      ]
    },
    {
      "cell_type": "code",
      "source": [
        "3 < 2"
      ],
      "metadata": {
        "colab": {
          "base_uri": "https://localhost:8080/"
        },
        "id": "A6Nb_gSiXXH3",
        "outputId": "cfd22f9b-8dab-4e37-e9a0-d9adedae4d06"
      },
      "execution_count": null,
      "outputs": [
        {
          "output_type": "execute_result",
          "data": {
            "text/plain": [
              "False"
            ]
          },
          "metadata": {},
          "execution_count": 166
        }
      ]
    },
    {
      "cell_type": "code",
      "source": [
        "3 >= 2"
      ],
      "metadata": {
        "colab": {
          "base_uri": "https://localhost:8080/"
        },
        "id": "SjNRuMThXYQX",
        "outputId": "fa088fc9-eae3-49f6-9679-63bd51b5239f"
      },
      "execution_count": null,
      "outputs": [
        {
          "output_type": "execute_result",
          "data": {
            "text/plain": [
              "True"
            ]
          },
          "metadata": {},
          "execution_count": 167
        }
      ]
    },
    {
      "cell_type": "code",
      "source": [
        "3 <= 2"
      ],
      "metadata": {
        "colab": {
          "base_uri": "https://localhost:8080/"
        },
        "id": "5crI0vWgXZav",
        "outputId": "c3a4e53a-5961-48ef-e34e-f6c17b57f9a3"
      },
      "execution_count": null,
      "outputs": [
        {
          "output_type": "execute_result",
          "data": {
            "text/plain": [
              "False"
            ]
          },
          "metadata": {},
          "execution_count": 168
        }
      ]
    },
    {
      "cell_type": "code",
      "source": [
        "x = 2"
      ],
      "metadata": {
        "id": "VsxSDMlBXuB6"
      },
      "execution_count": null,
      "outputs": []
    },
    {
      "cell_type": "code",
      "source": [
        "3 >= x and x >=1"
      ],
      "metadata": {
        "colab": {
          "base_uri": "https://localhost:8080/"
        },
        "id": "YF2DZ_EZXbBn",
        "outputId": "ef2eae3e-1b44-4aa3-baec-0a550677a55a"
      },
      "execution_count": null,
      "outputs": [
        {
          "output_type": "execute_result",
          "data": {
            "text/plain": [
              "True"
            ]
          },
          "metadata": {},
          "execution_count": 171
        }
      ]
    },
    {
      "cell_type": "code",
      "source": [
        "1 <= x <= 3 # 파이썬에서는 가능"
      ],
      "metadata": {
        "colab": {
          "base_uri": "https://localhost:8080/"
        },
        "id": "ywGJmhiOXtVW",
        "outputId": "0901268f-259f-444e-c67d-f991c3e5cc94"
      },
      "execution_count": null,
      "outputs": [
        {
          "output_type": "execute_result",
          "data": {
            "text/plain": [
              "True"
            ]
          },
          "metadata": {},
          "execution_count": 172
        }
      ]
    },
    {
      "cell_type": "markdown",
      "source": [
        "# 논리 연산\n",
        "- and, or, not\n",
        "- 명제들간의 연산의 결과를 논리적으로 표현하는 방법입니다.\n",
        "\n",
        "  - 명제? 참/거짓을 구분할 수 있는 모든 문장\n",
        "  - True / False를 실행결과로 반환할 수 있는 모든 명령어를 의미합니다.\n",
        "  - 논리 연산자를 불리언 연산자라고도 부릅니다.\n",
        "\n",
        "  \n",
        "| A | B |AND | OR | not A | not B |\n",
        "|:---:|:---:|:---:|:---:|:---:|:---:|\n",
        "|T|T|T|T|F|F|\n",
        "|T|F|F|T|F|T|\n",
        "|F|T|F|T|T|F|\n",
        "|F|F|F|F|T|T|\n",
        "\n",
        "\n",
        "- 세상에 완전히 새로운 생각은 없다.\n",
        "- 기존에 했던 생각에 and, or, not 세개를 붙인 생각만이 있을 뿐이다.\n",
        "\n",
        "\n",
        "- 우선순위\n",
        "not > and > or"
      ],
      "metadata": {
        "id": "iTmE2bQVCtJE"
      }
    },
    {
      "cell_type": "code",
      "source": [
        "(1 == 1) and (1 == 2)"
      ],
      "metadata": {
        "colab": {
          "base_uri": "https://localhost:8080/"
        },
        "id": "vDbmrA06Ysgp",
        "outputId": "5b4904ba-b92a-4665-c0ed-fdb324a240b6"
      },
      "execution_count": null,
      "outputs": [
        {
          "output_type": "execute_result",
          "data": {
            "text/plain": [
              "False"
            ]
          },
          "metadata": {},
          "execution_count": 176
        }
      ]
    },
    {
      "cell_type": "code",
      "source": [
        "(1 == 1) or (1 == 2)\n",
        "# circuit evalution\n",
        "# 하나라도 참이 있으면 참입니다."
      ],
      "metadata": {
        "colab": {
          "base_uri": "https://localhost:8080/"
        },
        "id": "1yRCbeBaYuyb",
        "outputId": "78da5342-c4c4-4fad-b5c5-109b7c813789"
      },
      "execution_count": null,
      "outputs": [
        {
          "output_type": "execute_result",
          "data": {
            "text/plain": [
              "True"
            ]
          },
          "metadata": {},
          "execution_count": 177
        }
      ]
    },
    {
      "cell_type": "code",
      "source": [
        "(1 == 2) or (1 == 1)"
      ],
      "metadata": {
        "colab": {
          "base_uri": "https://localhost:8080/"
        },
        "id": "pOeoGlroY_x-",
        "outputId": "ce55ef89-22ae-4d8f-87c0-b83fe50849cb"
      },
      "execution_count": null,
      "outputs": [
        {
          "output_type": "execute_result",
          "data": {
            "text/plain": [
              "True"
            ]
          },
          "metadata": {},
          "execution_count": 179
        }
      ]
    },
    {
      "cell_type": "code",
      "source": [
        "1 == 1 and 1 == 2"
      ],
      "metadata": {
        "id": "DTt5qC6_CaPX",
        "colab": {
          "base_uri": "https://localhost:8080/"
        },
        "outputId": "a6bb3494-9a21-43dc-f246-b5ecafef2ec6"
      },
      "execution_count": null,
      "outputs": [
        {
          "output_type": "execute_result",
          "data": {
            "text/plain": [
              "False"
            ]
          },
          "metadata": {},
          "execution_count": 173
        }
      ]
    },
    {
      "cell_type": "code",
      "source": [
        "not (1 == 1) or (1 == 2)"
      ],
      "metadata": {
        "id": "BznmtSyqD1N-",
        "colab": {
          "base_uri": "https://localhost:8080/"
        },
        "outputId": "0c721e5b-bd3a-4629-ea42-911c56e616d0"
      },
      "execution_count": null,
      "outputs": [
        {
          "output_type": "execute_result",
          "data": {
            "text/plain": [
              "False"
            ]
          },
          "metadata": {},
          "execution_count": 182
        }
      ]
    },
    {
      "cell_type": "markdown",
      "source": [
        " not > and > or"
      ],
      "metadata": {
        "id": "vaB9HiXLEhlv"
      }
    },
    {
      "cell_type": "code",
      "source": [
        "2*3 == 6"
      ],
      "metadata": {
        "colab": {
          "base_uri": "https://localhost:8080/"
        },
        "id": "A1-KXSmhf3sU",
        "outputId": "3ad4461c-5b58-4343-c837-b33c18038ccd"
      },
      "execution_count": null,
      "outputs": [
        {
          "output_type": "execute_result",
          "data": {
            "text/plain": [
              "True"
            ]
          },
          "metadata": {},
          "execution_count": 192
        }
      ]
    },
    {
      "cell_type": "code",
      "source": [
        "(9%2 == 1) and (2**3 == 8) or not(2*3 == 6)\n",
        "# True and True or not True\n",
        "#                    False\n",
        "# True and True\n",
        "\n",
        "# 왼쪽 -> 오른쪽\n",
        "# ( ) 안에 있는 것\n",
        "# - 사칙연산/ + -\n",
        "# 비교연산\n",
        "# 논리 연상"
      ],
      "metadata": {
        "id": "VLR_viTlEQd3",
        "colab": {
          "base_uri": "https://localhost:8080/"
        },
        "outputId": "10fbd434-585b-4a3c-94a2-346fe4dc6d39"
      },
      "execution_count": null,
      "outputs": [
        {
          "output_type": "execute_result",
          "data": {
            "text/plain": [
              "True"
            ]
          },
          "metadata": {},
          "execution_count": 184
        }
      ]
    },
    {
      "cell_type": "code",
      "source": [
        "9%2 == 1 and 2**3 == 8 or not 2*3 == 6"
      ],
      "metadata": {
        "id": "qT1bERtJIaIy",
        "colab": {
          "base_uri": "https://localhost:8080/"
        },
        "outputId": "c2027fec-9749-42f5-eff4-96f88b165503"
      },
      "execution_count": null,
      "outputs": [
        {
          "output_type": "execute_result",
          "data": {
            "text/plain": [
              "True"
            ]
          },
          "metadata": {},
          "execution_count": 185
        }
      ]
    },
    {
      "cell_type": "code",
      "source": [],
      "metadata": {
        "colab": {
          "base_uri": "https://localhost:8080/"
        },
        "id": "6fQ_GJ2FgPTc",
        "outputId": "5d611be5-89d3-417b-a72b-10322a149c35"
      },
      "execution_count": null,
      "outputs": [
        {
          "output_type": "execute_result",
          "data": {
            "text/plain": [
              "True"
            ]
          },
          "metadata": {},
          "execution_count": 193
        }
      ]
    },
    {
      "cell_type": "code",
      "source": [
        "not(1 != 1) and (4/2 == 2) or (True == False)\n",
        "# not False and True or False"
      ],
      "metadata": {
        "id": "bJXMhRG6Jmdj",
        "colab": {
          "base_uri": "https://localhost:8080/"
        },
        "outputId": "0ef34247-10f0-4d7f-cf58-d73befe996d6"
      },
      "execution_count": null,
      "outputs": [
        {
          "output_type": "execute_result",
          "data": {
            "text/plain": [
              "True"
            ]
          },
          "metadata": {},
          "execution_count": 186
        }
      ]
    },
    {
      "cell_type": "code",
      "source": [
        "'무' not in '사과나무'"
      ],
      "metadata": {
        "colab": {
          "base_uri": "https://localhost:8080/"
        },
        "id": "zaAFkVewgfFH",
        "outputId": "fac644f7-4675-4a9d-964f-04a70c641306"
      },
      "execution_count": null,
      "outputs": [
        {
          "output_type": "execute_result",
          "data": {
            "text/plain": [
              "False"
            ]
          },
          "metadata": {},
          "execution_count": 197
        }
      ]
    },
    {
      "cell_type": "markdown",
      "source": [
        "## 점심 이후 확인"
      ],
      "metadata": {
        "id": "-ZNsMPrhnZXv"
      }
    },
    {
      "cell_type": "code",
      "source": [
        "1 == '1'"
      ],
      "metadata": {
        "colab": {
          "base_uri": "https://localhost:8080/"
        },
        "id": "lnn_7kl54OM4",
        "outputId": "f4bba6dd-9568-4f9a-9b90-d0eaf1be7379"
      },
      "execution_count": null,
      "outputs": [
        {
          "output_type": "execute_result",
          "data": {
            "text/plain": [
              "False"
            ]
          },
          "metadata": {},
          "execution_count": 248
        }
      ]
    },
    {
      "cell_type": "code",
      "source": [
        "(.1 == 0.1) and (1. == 1)"
      ],
      "metadata": {
        "colab": {
          "base_uri": "https://localhost:8080/"
        },
        "id": "VEUcpG7z4T0L",
        "outputId": "b0e72956-f08c-495e-c3ca-03c7afde937b"
      },
      "execution_count": null,
      "outputs": [
        {
          "output_type": "execute_result",
          "data": {
            "text/plain": [
              "True"
            ]
          },
          "metadata": {},
          "execution_count": 247
        }
      ]
    },
    {
      "cell_type": "code",
      "source": [
        "# 동일성(identity)과 동등성(equality)\n",
        "# is (동일성 비교, 타 언어의 ===과 같은 역할) / == (동등성 비교, 값/자료형 확인)"
      ],
      "metadata": {
        "id": "ubuIJbiCmf4W"
      },
      "execution_count": null,
      "outputs": []
    },
    {
      "cell_type": "code",
      "source": [
        "True == 1 # 숫자 자료형(int/float/bool)끼리는 비교연산자가 호환됩니다"
      ],
      "metadata": {
        "id": "hh-YzfepcBHk",
        "colab": {
          "base_uri": "https://localhost:8080/"
        },
        "outputId": "77bcea94-0925-40a5-900b-32891a532399"
      },
      "execution_count": null,
      "outputs": [
        {
          "output_type": "execute_result",
          "data": {
            "text/plain": [
              "True"
            ]
          },
          "metadata": {},
          "execution_count": 234
        }
      ]
    },
    {
      "cell_type": "code",
      "source": [
        "1. <= 1 # 숫자 자료형끼리는 비교연산자가 호환됩니다."
      ],
      "metadata": {
        "id": "5TkVQDeBuoYT",
        "colab": {
          "base_uri": "https://localhost:8080/"
        },
        "outputId": "0f885848-b5ed-4e7f-e23c-3355d8214740"
      },
      "execution_count": null,
      "outputs": [
        {
          "output_type": "execute_result",
          "data": {
            "text/plain": [
              "True"
            ]
          },
          "metadata": {},
          "execution_count": 240
        }
      ]
    },
    {
      "cell_type": "code",
      "source": [
        "'1.' == 1 # 문자 자료형과는 호환 안 됩니다."
      ],
      "metadata": {
        "colab": {
          "base_uri": "https://localhost:8080/"
        },
        "id": "WJk4DnuJl2LD",
        "outputId": "a36ccaf2-36e1-4e2f-fe8b-02fbaa952caf"
      },
      "execution_count": null,
      "outputs": [
        {
          "output_type": "execute_result",
          "data": {
            "text/plain": [
              "False"
            ]
          },
          "metadata": {},
          "execution_count": 236
        }
      ]
    },
    {
      "cell_type": "code",
      "source": [
        "a = 1 # int\n",
        "b = 1.0 # float\n",
        "c = '1' # str\n",
        "# === 같은 메모리주소에서 나오는지\n",
        "a is b # === 과 같은 역할(같은 주소에서 나오는지 확인)"
      ],
      "metadata": {
        "id": "B19gHVJ6uOQI",
        "colab": {
          "base_uri": "https://localhost:8080/"
        },
        "outputId": "a08a239f-43ed-4812-b5ae-dded81738cfa"
      },
      "execution_count": null,
      "outputs": [
        {
          "output_type": "execute_result",
          "data": {
            "text/plain": [
              "False"
            ]
          },
          "metadata": {},
          "execution_count": 249
        }
      ]
    },
    {
      "cell_type": "code",
      "source": [
        "id(a), id(b)"
      ],
      "metadata": {
        "colab": {
          "base_uri": "https://localhost:8080/"
        },
        "id": "xwfieLBKmRud",
        "outputId": "6942487a-f8dd-4a2b-c155-f116d27d2871"
      },
      "execution_count": null,
      "outputs": [
        {
          "output_type": "execute_result",
          "data": {
            "text/plain": [
              "(134659185295600, 134657825375376)"
            ]
          },
          "metadata": {},
          "execution_count": 250
        }
      ]
    },
    {
      "cell_type": "code",
      "source": [
        "a == b  # 서로 호환이 되는 숫자 자료형이니까"
      ],
      "metadata": {
        "colab": {
          "base_uri": "https://localhost:8080/"
        },
        "id": "tumS_-uMnWqB",
        "outputId": "279955d2-d0a9-4f8e-ed35-7575b53546d5"
      },
      "execution_count": null,
      "outputs": [
        {
          "output_type": "execute_result",
          "data": {
            "text/plain": [
              "True"
            ]
          },
          "metadata": {},
          "execution_count": 251
        }
      ]
    },
    {
      "cell_type": "code",
      "source": [
        "a == c"
      ],
      "metadata": {
        "colab": {
          "base_uri": "https://localhost:8080/"
        },
        "id": "Y1iaRdcVniSE",
        "outputId": "52a5d6c1-826a-4361-e386-2cf55418a84a"
      },
      "execution_count": null,
      "outputs": [
        {
          "output_type": "execute_result",
          "data": {
            "text/plain": [
              "False"
            ]
          },
          "metadata": {},
          "execution_count": 244
        }
      ]
    },
    {
      "cell_type": "markdown",
      "source": [
        "# 타입변환\n",
        "\n",
        "- 파이썬은 우리가 자료형을 명시하지 않아도 인터프리터가 알아서 자료형을 지정해줍니다.\n",
        "- 자유롭게 형변환도 허락합니다.\n",
        "- str(), int(), float(), bool()"
      ],
      "metadata": {
        "id": "904mzqzEH3Y6"
      }
    },
    {
      "cell_type": "code",
      "source": [
        "str(4/2)"
      ],
      "metadata": {
        "id": "JoGXDsnqHVG4",
        "colab": {
          "base_uri": "https://localhost:8080/",
          "height": 35
        },
        "outputId": "f829d73b-b82d-4e3b-dc33-a11f29454f8b"
      },
      "execution_count": null,
      "outputs": [
        {
          "output_type": "execute_result",
          "data": {
            "text/plain": [
              "'2.0'"
            ],
            "application/vnd.google.colaboratory.intrinsic+json": {
              "type": "string"
            }
          },
          "metadata": {},
          "execution_count": 199
        }
      ]
    },
    {
      "cell_type": "code",
      "source": [
        "int(4/2)"
      ],
      "metadata": {
        "id": "1__Siiy-IJ8q",
        "colab": {
          "base_uri": "https://localhost:8080/"
        },
        "outputId": "a3a31e0d-5b60-4fbc-e1b2-c58c1c9ea859"
      },
      "execution_count": null,
      "outputs": [
        {
          "output_type": "execute_result",
          "data": {
            "text/plain": [
              "2"
            ]
          },
          "metadata": {},
          "execution_count": 200
        }
      ]
    },
    {
      "cell_type": "code",
      "source": [
        "# 어떤 경우에 False가 나오는지\n",
        "bool()"
      ],
      "metadata": {
        "id": "yzFhvHrVIQfu",
        "colab": {
          "base_uri": "https://localhost:8080/"
        },
        "outputId": "6195e431-cbb6-4b72-99df-d7e860565663"
      },
      "execution_count": null,
      "outputs": [
        {
          "output_type": "execute_result",
          "data": {
            "text/plain": [
              "False"
            ]
          },
          "metadata": {},
          "execution_count": 201
        }
      ]
    },
    {
      "cell_type": "code",
      "source": [
        "bool(0)"
      ],
      "metadata": {
        "id": "wmboKCBSITyy",
        "colab": {
          "base_uri": "https://localhost:8080/"
        },
        "outputId": "985c4a36-f1a1-4bda-9a06-2220df67efc2"
      },
      "execution_count": null,
      "outputs": [
        {
          "output_type": "execute_result",
          "data": {
            "text/plain": [
              "False"
            ]
          },
          "metadata": {},
          "execution_count": 202
        }
      ]
    },
    {
      "cell_type": "code",
      "source": [
        "bool('')"
      ],
      "metadata": {
        "id": "1_fIWICi_kTe",
        "colab": {
          "base_uri": "https://localhost:8080/"
        },
        "outputId": "85a9373a-7bba-450d-d546-9f655fff490d"
      },
      "execution_count": null,
      "outputs": [
        {
          "output_type": "execute_result",
          "data": {
            "text/plain": [
              "False"
            ]
          },
          "metadata": {},
          "execution_count": 204
        }
      ]
    },
    {
      "cell_type": "code",
      "source": [
        "bool(None)"
      ],
      "metadata": {
        "id": "9iHftEUkIbtn",
        "colab": {
          "base_uri": "https://localhost:8080/"
        },
        "outputId": "07d2911e-51db-43cc-ac34-9a1445b74f31"
      },
      "execution_count": null,
      "outputs": [
        {
          "output_type": "execute_result",
          "data": {
            "text/plain": [
              "False"
            ]
          },
          "metadata": {},
          "execution_count": 205
        }
      ]
    },
    {
      "cell_type": "code",
      "source": [
        "bool([])"
      ],
      "metadata": {
        "id": "Cmqc0TXRIkyv",
        "colab": {
          "base_uri": "https://localhost:8080/"
        },
        "outputId": "9692c624-5460-46cb-f3db-2b8b0697a00b"
      },
      "execution_count": null,
      "outputs": [
        {
          "output_type": "execute_result",
          "data": {
            "text/plain": [
              "False"
            ]
          },
          "metadata": {},
          "execution_count": 206
        }
      ]
    },
    {
      "cell_type": "code",
      "source": [
        "bool({})"
      ],
      "metadata": {
        "id": "Q7JUTRRSIq6n",
        "colab": {
          "base_uri": "https://localhost:8080/"
        },
        "outputId": "fc02bad8-e729-450e-ee2c-99b7cf0f00a5"
      },
      "execution_count": null,
      "outputs": [
        {
          "output_type": "execute_result",
          "data": {
            "text/plain": [
              "False"
            ]
          },
          "metadata": {},
          "execution_count": 207
        }
      ]
    },
    {
      "cell_type": "code",
      "source": [
        "bool(())"
      ],
      "metadata": {
        "id": "kzM6WTOeIsG_",
        "colab": {
          "base_uri": "https://localhost:8080/"
        },
        "outputId": "b03c0fb3-d499-41d3-8d68-1a0e6a5e23bc"
      },
      "execution_count": null,
      "outputs": [
        {
          "output_type": "execute_result",
          "data": {
            "text/plain": [
              "False"
            ]
          },
          "metadata": {},
          "execution_count": 208
        }
      ]
    },
    {
      "cell_type": "code",
      "source": [
        "bool(0.)"
      ],
      "metadata": {
        "id": "u8b93T8mItbv",
        "colab": {
          "base_uri": "https://localhost:8080/"
        },
        "outputId": "28f84b13-66e2-4b54-bec2-f6d1571f33ad"
      },
      "execution_count": null,
      "outputs": [
        {
          "output_type": "execute_result",
          "data": {
            "text/plain": [
              "False"
            ]
          },
          "metadata": {},
          "execution_count": 211
        }
      ]
    },
    {
      "cell_type": "code",
      "source": [
        "# '2231.66' 값을 str으로 받아왔어요. int로 변경하려면 어떻게 해야 할까요?\n",
        "int(float('2231.66'))"
      ],
      "metadata": {
        "id": "jbp2K4kPIwku",
        "colab": {
          "base_uri": "https://localhost:8080/"
        },
        "outputId": "2acdd1d1-37c1-458c-f665-2b884caeaafa"
      },
      "execution_count": null,
      "outputs": [
        {
          "output_type": "execute_result",
          "data": {
            "text/plain": [
              "2231"
            ]
          },
          "metadata": {},
          "execution_count": 217
        }
      ]
    },
    {
      "cell_type": "code",
      "source": [
        "round(float('2231.66'))"
      ],
      "metadata": {
        "id": "3UjOWouLIx79",
        "colab": {
          "base_uri": "https://localhost:8080/"
        },
        "outputId": "cfc194bc-0c39-4570-8349-1cc8fe5b92ec"
      },
      "execution_count": null,
      "outputs": [
        {
          "output_type": "execute_result",
          "data": {
            "text/plain": [
              "2232"
            ]
          },
          "metadata": {},
          "execution_count": 218
        }
      ]
    },
    {
      "cell_type": "markdown",
      "source": [
        "문자열을 정수나 실수로 반환하는 경우\n",
        "- 문자열 내에 문자들이 전부 10진수 정수 형태의 문자만 있어야 합니다."
      ],
      "metadata": {
        "id": "vAGNoudGJHU4"
      }
    },
    {
      "cell_type": "code",
      "source": [
        "round(float('2231.66점입니다'))"
      ],
      "metadata": {
        "id": "Y_uEdLnRJA1H",
        "colab": {
          "base_uri": "https://localhost:8080/",
          "height": 147
        },
        "outputId": "7b6453f4-60eb-4e01-df53-825e6db468d7"
      },
      "execution_count": null,
      "outputs": [
        {
          "output_type": "error",
          "ename": "ValueError",
          "evalue": "could not convert string to float: '2231.66점입니다'",
          "traceback": [
            "\u001b[0;31m---------------------------------------------------------------------------\u001b[0m",
            "\u001b[0;31mValueError\u001b[0m                                Traceback (most recent call last)",
            "\u001b[0;32m<ipython-input-219-f541c033a634>\u001b[0m in \u001b[0;36m<cell line: 1>\u001b[0;34m()\u001b[0m\n\u001b[0;32m----> 1\u001b[0;31m \u001b[0mround\u001b[0m\u001b[0;34m(\u001b[0m\u001b[0mfloat\u001b[0m\u001b[0;34m(\u001b[0m\u001b[0;34m'2231.66점입니다'\u001b[0m\u001b[0;34m)\u001b[0m\u001b[0;34m)\u001b[0m\u001b[0;34m\u001b[0m\u001b[0;34m\u001b[0m\u001b[0m\n\u001b[0m",
            "\u001b[0;31mValueError\u001b[0m: could not convert string to float: '2231.66점입니다'"
          ]
        }
      ]
    },
    {
      "cell_type": "markdown",
      "source": [
        "# bool은!\n",
        "- 변환하는데 규칙이 있습니다.\n",
        "  - 어떤 타입이든 다 변환이 가능해요. True/False\n",
        "  - True인 경우 0이 아닌 비어있지 않은 모든 값\n",
        "  - False - 빈문자, 빈객체, 0이 다 거짓이 되겠죠"
      ],
      "metadata": {
        "id": "NGDaI76OJRZH"
      }
    },
    {
      "cell_type": "markdown",
      "source": [
        "# 컨테이너(Container) 자료형\n",
        "- 여러 개의 자료를 원소로 묶어 하나의 변수에 담는 형태의 자료형들을 컨테이너 자료형이라고 부릅니다. 컨테이너 자료형은 순서로 값을 관리하는 시퀀스(Sequence)형과 키-값으로 자료를 관리하는 매핑(Mapping)형, 키만으로 자료를 관리하는 집합(Set)형으로 나뉩니다."
      ],
      "metadata": {
        "id": "E87f3wIvKPZq"
      }
    },
    {
      "cell_type": "markdown",
      "source": [
        "# 시퀀스 타입 - 순서\n",
        "- 기본 타입(숫자, 문자열)을 여러개 모아서 하나의 자료형으로 관리하기 위한 방법으로 선형자료구조라고 부릅니다.\n",
        "  - '배열'\n",
        "  - 한개 식빵 -> 숫자, 문자열이라면\n",
        "  - 시퀀스 타입 -> 식빵들 ... 자료구조의 종류\n",
        "\n",
        "\n",
        "## 1) 리스트(list)\n",
        "- 다수의 자료값을 콤마(,)로 구분해 꺽은 괄호 [ ] 로 묶어서 배열 형태로 만든 자료형\n",
        "- 리스트 안에 담긴 원소들 간에 순서가 있어서 0, 1, 2, …의 인덱스를 붙여 각 원소를 호출할 수 있습니다\n",
        "- 원소의 내용을 변경할 수 있습니다.\n",
        "(예시) a = [‘신짱구’, 40000, True]\n",
        "\n",
        "## 2) 튜플(tuple)\n",
        "- 리스트와 달리 꺾은 괄호가 아닌 둥근 괄호 ( )를 사용합니다.\n",
        "- 원소들 간에 순서가 있고 인덱스로 호출할 수 있는 등 리스트와 성질이 거의 유사합니다\n",
        "- 변수를 한번 생성하면 원소의 내용을 변경할 수 없다는 점에서 리스트와 구별됩니다.\n",
        "(예시) b = (None, [1,2], 3, 3, 3)\n",
        "\n",
        "## 3) 레인지(range)\n",
        "- 정수 수열을 만듭니다\n",
        "- 원소의 내용을 변경할 수 없습니다\n",
        "\n",
        "```\n",
        "참고. 가변형 타입 vs 불가변형 타입\n",
        "  - 튜플 -> 불가변형 타입\n",
        "    - 자료들의 값을 바꿀 수 없고\n",
        "\n",
        "  - 리스트 -> 가변형 타입\n",
        "    - 자료들의 값을 변경할 수 있습니다.\n",
        "\n",
        "  - 가변형 타입에서만 사용할 수 있는 연산자가 따로 있습니다.\n",
        "```\n",
        "\n",
        "\n",
        "\n",
        "\n",
        "\n"
      ],
      "metadata": {
        "id": "YOkS2eUJcBHj"
      }
    },
    {
      "cell_type": "code",
      "source": [
        "li = [1,2,3,4,5]"
      ],
      "metadata": {
        "id": "7zsRflN7tgeW"
      },
      "execution_count": null,
      "outputs": []
    },
    {
      "cell_type": "code",
      "source": [
        "type(li)"
      ],
      "metadata": {
        "id": "2K2KZ4BetmFD",
        "colab": {
          "base_uri": "https://localhost:8080/"
        },
        "outputId": "c411483f-ea62-4958-a834-ccc620a6f4eb"
      },
      "execution_count": null,
      "outputs": [
        {
          "output_type": "execute_result",
          "data": {
            "text/plain": [
              "list"
            ]
          },
          "metadata": {},
          "execution_count": 221
        }
      ]
    },
    {
      "cell_type": "code",
      "source": [
        "tu = (1,2,3,4,5)\n",
        "type(tu)"
      ],
      "metadata": {
        "id": "7By0yBpicBHj",
        "colab": {
          "base_uri": "https://localhost:8080/"
        },
        "outputId": "8f07906d-6bc8-4a3a-defb-67feed0d96ab"
      },
      "execution_count": null,
      "outputs": [
        {
          "output_type": "execute_result",
          "data": {
            "text/plain": [
              "tuple"
            ]
          },
          "metadata": {},
          "execution_count": 222
        }
      ]
    },
    {
      "cell_type": "code",
      "source": [
        "ra = range(5)\n",
        "type(ra)"
      ],
      "metadata": {
        "id": "djboqhS-cBHj",
        "colab": {
          "base_uri": "https://localhost:8080/"
        },
        "outputId": "3de773e2-6e39-4b50-9d43-bd3aa9798182"
      },
      "execution_count": null,
      "outputs": [
        {
          "output_type": "execute_result",
          "data": {
            "text/plain": [
              "range"
            ]
          },
          "metadata": {},
          "execution_count": 223
        }
      ]
    },
    {
      "cell_type": "code",
      "source": [
        "li, tu, ra"
      ],
      "metadata": {
        "id": "fl4RqMTwcBHj",
        "colab": {
          "base_uri": "https://localhost:8080/"
        },
        "outputId": "c3bc904b-12d5-46b2-de2b-6fcec3eab25d"
      },
      "execution_count": null,
      "outputs": [
        {
          "output_type": "execute_result",
          "data": {
            "text/plain": [
              "([1, 2, 3, 4, 5], (1, 2, 3, 4, 5), range(0, 5))"
            ]
          },
          "metadata": {},
          "execution_count": 224
        }
      ]
    },
    {
      "cell_type": "code",
      "source": [
        "print(li) ; print(tu) ; print(list(ra))"
      ],
      "metadata": {
        "id": "HBkC0hfacBHj",
        "colab": {
          "base_uri": "https://localhost:8080/"
        },
        "outputId": "259e1ad0-6988-4266-92cd-05c9e750e07a"
      },
      "execution_count": null,
      "outputs": [
        {
          "output_type": "stream",
          "name": "stdout",
          "text": [
            "[1, 2, 3, 4, 5]\n",
            "(1, 2, 3, 4, 5)\n",
            "[0, 1, 2, 3, 4]\n"
          ]
        }
      ]
    },
    {
      "cell_type": "code",
      "source": [
        "ra"
      ],
      "metadata": {
        "colab": {
          "base_uri": "https://localhost:8080/"
        },
        "id": "TyKs7Y2ek_aH",
        "outputId": "ebb6b4e4-cd2f-4317-d253-325c6af83126"
      },
      "execution_count": null,
      "outputs": [
        {
          "output_type": "execute_result",
          "data": {
            "text/plain": [
              "range(0, 5)"
            ]
          },
          "metadata": {},
          "execution_count": 230
        }
      ]
    },
    {
      "cell_type": "code",
      "source": [
        "ra[2]"
      ],
      "metadata": {
        "id": "qLXNgoNQcBHj",
        "colab": {
          "base_uri": "https://localhost:8080/"
        },
        "outputId": "7b1d40e8-6ab4-408f-8961-46f4bb6c4d6b"
      },
      "execution_count": null,
      "outputs": [
        {
          "output_type": "execute_result",
          "data": {
            "text/plain": [
              "2"
            ]
          },
          "metadata": {},
          "execution_count": 229
        }
      ]
    },
    {
      "cell_type": "markdown",
      "source": [
        "type 확인을 해주시고요.\n"
      ],
      "metadata": {
        "id": "AeO-79MJcBHk"
      }
    },
    {
      "cell_type": "code",
      "source": [
        "# 1 이라는 값이 하나만 들어있는 tu1, li1, ra1\n",
        "tu1 = (1, ) # 콤마가 있다 = 값은 하나지만 연속된 자료형이구나 라고 파이썬 인터프리터가 판단하도록 # () 우선순위 연산자, int('112') 함수의 호출연산자로도 쓰입니다.\n",
        "li1 = [1]\n",
        "ra1 = range(1)\n",
        "print(type(tu1), type(li1), type(ra1))"
      ],
      "metadata": {
        "id": "oav9WcdIu5XE",
        "colab": {
          "base_uri": "https://localhost:8080/"
        },
        "outputId": "af08067b-4157-4a6c-8990-d3da4af76926"
      },
      "execution_count": null,
      "outputs": [
        {
          "output_type": "stream",
          "name": "stdout",
          "text": [
            "<class 'tuple'> <class 'list'> <class 'range'>\n"
          ]
        }
      ]
    },
    {
      "cell_type": "code",
      "source": [
        "tu1[0], li1[0], ra1[0] # 시퀀스 자료형은 변수명 뒤에 대괄호를 쓰고 그 안에 방번호를 넣어서 호출합니다."
      ],
      "metadata": {
        "id": "CnJ84_lwvH9Q",
        "colab": {
          "base_uri": "https://localhost:8080/"
        },
        "outputId": "211d3497-1226-43a0-ef2e-87256b6e5d98"
      },
      "execution_count": null,
      "outputs": [
        {
          "output_type": "execute_result",
          "data": {
            "text/plain": [
              "(1, 1, 0)"
            ]
          },
          "metadata": {},
          "execution_count": 258
        }
      ]
    },
    {
      "cell_type": "code",
      "source": [
        "ra1 = range(1, 2) # 끝점 하나 앞까지 출력"
      ],
      "metadata": {
        "id": "8TQnAnJXvPTq"
      },
      "execution_count": null,
      "outputs": []
    },
    {
      "cell_type": "code",
      "source": [
        "ra1[0]"
      ],
      "metadata": {
        "id": "jHhgcFmuvWsc",
        "colab": {
          "base_uri": "https://localhost:8080/"
        },
        "outputId": "9d41432d-6892-4f36-cfc9-7dc3749d7220"
      },
      "execution_count": null,
      "outputs": [
        {
          "output_type": "execute_result",
          "data": {
            "text/plain": [
              "1"
            ]
          },
          "metadata": {},
          "execution_count": 260
        }
      ]
    },
    {
      "cell_type": "code",
      "source": [
        "ra1 = range(2, 7, 2) # 시작점, 끝점+1, 몇칸씩 건너뛸지(step)"
      ],
      "metadata": {
        "id": "ot3Brx1ovVPY"
      },
      "execution_count": null,
      "outputs": []
    },
    {
      "cell_type": "code",
      "source": [
        "list(ra1)"
      ],
      "metadata": {
        "id": "HGv4kL6wvS6O",
        "colab": {
          "base_uri": "https://localhost:8080/"
        },
        "outputId": "ac7af99a-ba6e-405a-bd36-684034e9d1dd"
      },
      "execution_count": null,
      "outputs": [
        {
          "output_type": "execute_result",
          "data": {
            "text/plain": [
              "[2, 4, 6]"
            ]
          },
          "metadata": {},
          "execution_count": 262
        }
      ]
    },
    {
      "cell_type": "code",
      "source": [
        "li1 = [1, '고건우', (1,2), 3.15, None] # 서로 다른 자료형을 간직할 수 있습니다."
      ],
      "metadata": {
        "id": "LcprAHf0vZo3"
      },
      "execution_count": null,
      "outputs": []
    },
    {
      "cell_type": "code",
      "source": [
        "li1"
      ],
      "metadata": {
        "id": "6JvS9EL_vdJx",
        "colab": {
          "base_uri": "https://localhost:8080/"
        },
        "outputId": "a82c72ee-4d00-45cd-b11f-5224fea685d3"
      },
      "execution_count": null,
      "outputs": [
        {
          "output_type": "execute_result",
          "data": {
            "text/plain": [
              "[1, '김연지', (1, 2), 3.15, None]"
            ]
          },
          "metadata": {},
          "execution_count": 264
        }
      ]
    },
    {
      "cell_type": "code",
      "source": [
        "li1[1] = ['짱구', '짱아']"
      ],
      "metadata": {
        "id": "hiQtW7zEvgrX"
      },
      "execution_count": null,
      "outputs": []
    },
    {
      "cell_type": "code",
      "source": [
        "li1"
      ],
      "metadata": {
        "id": "oDZYkSocvqyg",
        "colab": {
          "base_uri": "https://localhost:8080/"
        },
        "outputId": "28edc110-7c76-4775-926b-ff33f370cd73"
      },
      "execution_count": null,
      "outputs": [
        {
          "output_type": "execute_result",
          "data": {
            "text/plain": [
              "[1, ['짱구', '짱아'], (1, 2), 3.15, None]"
            ]
          },
          "metadata": {},
          "execution_count": 266
        }
      ]
    },
    {
      "cell_type": "code",
      "source": [
        "tu1 = (1, '고건우', (1,2), 3.15, None) # 서로 다른 자료형을 간직할 수 있습니다."
      ],
      "metadata": {
        "id": "9Ecmv6tbvzUC"
      },
      "execution_count": null,
      "outputs": []
    },
    {
      "cell_type": "code",
      "source": [
        "tu1[1] = ['짱구', '짱아'] # TypeError: 'tuple' object does not support item assignment"
      ],
      "metadata": {
        "id": "WMnw2-vAwDED",
        "colab": {
          "base_uri": "https://localhost:8080/",
          "height": 147
        },
        "outputId": "15fb4591-6e69-4474-850f-f13329cfb016"
      },
      "execution_count": null,
      "outputs": [
        {
          "output_type": "error",
          "ename": "TypeError",
          "evalue": "'tuple' object does not support item assignment",
          "traceback": [
            "\u001b[0;31m---------------------------------------------------------------------------\u001b[0m",
            "\u001b[0;31mTypeError\u001b[0m                                 Traceback (most recent call last)",
            "\u001b[0;32m<ipython-input-269-0e4bc5de419a>\u001b[0m in \u001b[0;36m<cell line: 1>\u001b[0;34m()\u001b[0m\n\u001b[0;32m----> 1\u001b[0;31m \u001b[0mtu1\u001b[0m\u001b[0;34m[\u001b[0m\u001b[0;36m1\u001b[0m\u001b[0;34m]\u001b[0m \u001b[0;34m=\u001b[0m \u001b[0;34m[\u001b[0m\u001b[0;34m'짱구'\u001b[0m\u001b[0;34m,\u001b[0m \u001b[0;34m'짱아'\u001b[0m\u001b[0;34m]\u001b[0m\u001b[0;34m\u001b[0m\u001b[0;34m\u001b[0m\u001b[0m\n\u001b[0m",
            "\u001b[0;31mTypeError\u001b[0m: 'tuple' object does not support item assignment"
          ]
        }
      ]
    },
    {
      "cell_type": "code",
      "source": [
        "range('가', '마', 2) # TypeError: 'str' object cannot be interpreted as an integer"
      ],
      "metadata": {
        "colab": {
          "base_uri": "https://localhost:8080/",
          "height": 147
        },
        "id": "MuVTrWx28U7A",
        "outputId": "c0e1b3fc-c046-4036-dc49-2a1fd7cf7678"
      },
      "execution_count": null,
      "outputs": [
        {
          "output_type": "error",
          "ename": "TypeError",
          "evalue": "'str' object cannot be interpreted as an integer",
          "traceback": [
            "\u001b[0;31m---------------------------------------------------------------------------\u001b[0m",
            "\u001b[0;31mTypeError\u001b[0m                                 Traceback (most recent call last)",
            "\u001b[0;32m<ipython-input-270-b4b4a0633463>\u001b[0m in \u001b[0;36m<cell line: 1>\u001b[0;34m()\u001b[0m\n\u001b[0;32m----> 1\u001b[0;31m \u001b[0mrange\u001b[0m\u001b[0;34m(\u001b[0m\u001b[0;34m'가'\u001b[0m\u001b[0;34m,\u001b[0m \u001b[0;34m'마'\u001b[0m\u001b[0;34m,\u001b[0m \u001b[0;36m2\u001b[0m\u001b[0;34m)\u001b[0m\u001b[0;34m\u001b[0m\u001b[0;34m\u001b[0m\u001b[0m\n\u001b[0m",
            "\u001b[0;31mTypeError\u001b[0m: 'str' object cannot be interpreted as an integer"
          ]
        }
      ]
    },
    {
      "cell_type": "markdown",
      "source": [
        "# 공통 연산자\n",
        "- 가변형 타입과 불가변형 타입 모두에게 동일하게 사용할 수 있는 연산자 몇개"
      ],
      "metadata": {
        "id": "sEcVTlEpcBHk"
      }
    },
    {
      "cell_type": "code",
      "source": [
        "dir(li1)"
      ],
      "metadata": {
        "id": "wH5jV7I9wRz4",
        "colab": {
          "base_uri": "https://localhost:8080/"
        },
        "outputId": "c4e95436-3f46-4c37-e68c-ebcfd041e345"
      },
      "execution_count": null,
      "outputs": [
        {
          "output_type": "execute_result",
          "data": {
            "text/plain": [
              "['__add__',\n",
              " '__class__',\n",
              " '__class_getitem__',\n",
              " '__contains__',\n",
              " '__delattr__',\n",
              " '__delitem__',\n",
              " '__dir__',\n",
              " '__doc__',\n",
              " '__eq__',\n",
              " '__format__',\n",
              " '__ge__',\n",
              " '__getattribute__',\n",
              " '__getitem__',\n",
              " '__gt__',\n",
              " '__hash__',\n",
              " '__iadd__',\n",
              " '__imul__',\n",
              " '__init__',\n",
              " '__init_subclass__',\n",
              " '__iter__',\n",
              " '__le__',\n",
              " '__len__',\n",
              " '__lt__',\n",
              " '__mul__',\n",
              " '__ne__',\n",
              " '__new__',\n",
              " '__reduce__',\n",
              " '__reduce_ex__',\n",
              " '__repr__',\n",
              " '__reversed__',\n",
              " '__rmul__',\n",
              " '__setattr__',\n",
              " '__setitem__',\n",
              " '__sizeof__',\n",
              " '__str__',\n",
              " '__subclasshook__',\n",
              " 'append',\n",
              " 'clear',\n",
              " 'copy',\n",
              " 'count',\n",
              " 'extend',\n",
              " 'index',\n",
              " 'insert',\n",
              " 'pop',\n",
              " 'remove',\n",
              " 'reverse',\n",
              " 'sort']"
            ]
          },
          "metadata": {},
          "execution_count": 271
        }
      ]
    },
    {
      "cell_type": "code",
      "source": [
        "dir(tu1)"
      ],
      "metadata": {
        "id": "X8g_IbolcBHk",
        "colab": {
          "base_uri": "https://localhost:8080/"
        },
        "outputId": "80e251ac-5f6a-4b38-af7a-e015bc6ccbc0"
      },
      "execution_count": null,
      "outputs": [
        {
          "output_type": "execute_result",
          "data": {
            "text/plain": [
              "['__add__',\n",
              " '__class__',\n",
              " '__class_getitem__',\n",
              " '__contains__',\n",
              " '__delattr__',\n",
              " '__dir__',\n",
              " '__doc__',\n",
              " '__eq__',\n",
              " '__format__',\n",
              " '__ge__',\n",
              " '__getattribute__',\n",
              " '__getitem__',\n",
              " '__getnewargs__',\n",
              " '__gt__',\n",
              " '__hash__',\n",
              " '__init__',\n",
              " '__init_subclass__',\n",
              " '__iter__',\n",
              " '__le__',\n",
              " '__len__',\n",
              " '__lt__',\n",
              " '__mul__',\n",
              " '__ne__',\n",
              " '__new__',\n",
              " '__reduce__',\n",
              " '__reduce_ex__',\n",
              " '__repr__',\n",
              " '__rmul__',\n",
              " '__setattr__',\n",
              " '__sizeof__',\n",
              " '__str__',\n",
              " '__subclasshook__',\n",
              " 'count',\n",
              " 'index']"
            ]
          },
          "metadata": {},
          "execution_count": 273
        }
      ]
    },
    {
      "cell_type": "code",
      "source": [
        "tu1"
      ],
      "metadata": {
        "colab": {
          "base_uri": "https://localhost:8080/"
        },
        "id": "0kAxwvvy9OlQ",
        "outputId": "0c3b0b8a-6ffc-428c-aba1-19e0974abdca"
      },
      "execution_count": null,
      "outputs": [
        {
          "output_type": "execute_result",
          "data": {
            "text/plain": [
              "(1, '김연지', (1, 2), 3.15, None)"
            ]
          },
          "metadata": {},
          "execution_count": 276
        }
      ]
    },
    {
      "cell_type": "code",
      "source": [
        "tu1.index((1, 2)) # 해당 원소가 있는 방번호(index)를 출력해줍니다."
      ],
      "metadata": {
        "id": "RYGCH9KRcBHk",
        "colab": {
          "base_uri": "https://localhost:8080/"
        },
        "outputId": "25a297f0-eb16-4b2e-c5b6-455efbb5d85b"
      },
      "execution_count": null,
      "outputs": [
        {
          "output_type": "execute_result",
          "data": {
            "text/plain": [
              "2"
            ]
          },
          "metadata": {},
          "execution_count": 277
        }
      ]
    },
    {
      "cell_type": "code",
      "source": [
        "tu1.count(1)"
      ],
      "metadata": {
        "id": "VX_7wXfacBHk",
        "colab": {
          "base_uri": "https://localhost:8080/"
        },
        "outputId": "bd07bffa-9fe4-425b-b95e-01a6da6cbd56"
      },
      "execution_count": null,
      "outputs": [
        {
          "output_type": "execute_result",
          "data": {
            "text/plain": [
              "1"
            ]
          },
          "metadata": {},
          "execution_count": 279
        }
      ]
    },
    {
      "cell_type": "code",
      "source": [
        "li1"
      ],
      "metadata": {
        "colab": {
          "base_uri": "https://localhost:8080/"
        },
        "id": "PboPF19e90MG",
        "outputId": "e359090a-bf32-40b9-c15c-9f6761dade79"
      },
      "execution_count": null,
      "outputs": [
        {
          "output_type": "execute_result",
          "data": {
            "text/plain": [
              "[1, ['짱구', '짱아'], (1, 2), 3.15, None]"
            ]
          },
          "metadata": {},
          "execution_count": 281
        }
      ]
    },
    {
      "cell_type": "code",
      "source": [
        "li1[-1] = 1 # 음수 인덱싱\n",
        "li1"
      ],
      "metadata": {
        "id": "r2IeDJNmcBHk",
        "colab": {
          "base_uri": "https://localhost:8080/"
        },
        "outputId": "b14846c7-f7a9-477e-ffc8-146f21011af4"
      },
      "execution_count": null,
      "outputs": [
        {
          "output_type": "execute_result",
          "data": {
            "text/plain": [
              "[1, ['짱구', '짱아'], (1, 2), 3.15, 1]"
            ]
          },
          "metadata": {},
          "execution_count": 282
        }
      ]
    },
    {
      "cell_type": "code",
      "source": [
        "li1.count(1) # 해당 값이 몇개 있는지 확인할 때"
      ],
      "metadata": {
        "colab": {
          "base_uri": "https://localhost:8080/"
        },
        "id": "JI8Wlnyl9tmr",
        "outputId": "b0513c86-5690-4740-ca10-9afaf128117e"
      },
      "execution_count": null,
      "outputs": [
        {
          "output_type": "execute_result",
          "data": {
            "text/plain": [
              "2"
            ]
          },
          "metadata": {},
          "execution_count": 284
        }
      ]
    },
    {
      "cell_type": "code",
      "source": [
        "'무' in '사과나무'"
      ],
      "metadata": {
        "colab": {
          "base_uri": "https://localhost:8080/"
        },
        "id": "ogRy4gKS-BcG",
        "outputId": "11822c48-89bd-4ec1-ec4f-94415ec81bc9"
      },
      "execution_count": null,
      "outputs": [
        {
          "output_type": "execute_result",
          "data": {
            "text/plain": [
              "True"
            ]
          },
          "metadata": {},
          "execution_count": 285
        }
      ]
    },
    {
      "cell_type": "code",
      "source": [
        "1 in li1 # 값이 있는지 확인 T/F"
      ],
      "metadata": {
        "colab": {
          "base_uri": "https://localhost:8080/"
        },
        "id": "hLqMorjN-H4o",
        "outputId": "4d1d2fe1-9ebb-45dd-aff1-d550756924bb"
      },
      "execution_count": null,
      "outputs": [
        {
          "output_type": "execute_result",
          "data": {
            "text/plain": [
              "True"
            ]
          },
          "metadata": {},
          "execution_count": 288
        }
      ]
    },
    {
      "cell_type": "code",
      "source": [
        "a = '사과나무'"
      ],
      "metadata": {
        "id": "wKpQys3H-Z3j"
      },
      "execution_count": null,
      "outputs": []
    },
    {
      "cell_type": "code",
      "source": [
        "a[2] = '가' # TypeError: 'str' object does not support item assignment"
      ],
      "metadata": {
        "colab": {
          "base_uri": "https://localhost:8080/",
          "height": 147
        },
        "id": "wP9lL7dg-bk1",
        "outputId": "c7f4ccec-50af-43b5-c735-51742f721f33"
      },
      "execution_count": null,
      "outputs": [
        {
          "output_type": "error",
          "ename": "TypeError",
          "evalue": "'str' object does not support item assignment",
          "traceback": [
            "\u001b[0;31m---------------------------------------------------------------------------\u001b[0m",
            "\u001b[0;31mTypeError\u001b[0m                                 Traceback (most recent call last)",
            "\u001b[0;32m<ipython-input-291-192703b14d11>\u001b[0m in \u001b[0;36m<cell line: 1>\u001b[0;34m()\u001b[0m\n\u001b[0;32m----> 1\u001b[0;31m \u001b[0ma\u001b[0m\u001b[0;34m[\u001b[0m\u001b[0;36m2\u001b[0m\u001b[0;34m]\u001b[0m \u001b[0;34m=\u001b[0m \u001b[0;34m'가'\u001b[0m\u001b[0;34m\u001b[0m\u001b[0;34m\u001b[0m\u001b[0m\n\u001b[0m",
            "\u001b[0;31mTypeError\u001b[0m: 'str' object does not support item assignment"
          ]
        }
      ]
    },
    {
      "cell_type": "code",
      "source": [
        "# str은 튜플의 형태로 (불가변)"
      ],
      "metadata": {
        "id": "e-kuIK5f-Vv8"
      },
      "execution_count": null,
      "outputs": []
    },
    {
      "cell_type": "code",
      "source": [
        "ra1"
      ],
      "metadata": {
        "id": "A1IFjpZscBHk",
        "colab": {
          "base_uri": "https://localhost:8080/"
        },
        "outputId": "5efad5da-f421-4a29-9849-009df273ca8e"
      },
      "execution_count": null,
      "outputs": [
        {
          "output_type": "execute_result",
          "data": {
            "text/plain": [
              "range(2, 7, 2)"
            ]
          },
          "metadata": {},
          "execution_count": 292
        }
      ]
    },
    {
      "cell_type": "code",
      "source": [
        "ra1.index(2) # ValueError: 3 is not in range"
      ],
      "metadata": {
        "id": "Egh1C_86cBHk",
        "colab": {
          "base_uri": "https://localhost:8080/"
        },
        "outputId": "37ccb336-ccbc-472a-a955-ceb7f033979b"
      },
      "execution_count": null,
      "outputs": [
        {
          "output_type": "execute_result",
          "data": {
            "text/plain": [
              "0"
            ]
          },
          "metadata": {},
          "execution_count": 295
        }
      ]
    },
    {
      "cell_type": "code",
      "source": [
        "ra1.count(2) # 1"
      ],
      "metadata": {
        "id": "9XG9f-9RcBHk",
        "colab": {
          "base_uri": "https://localhost:8080/"
        },
        "outputId": "5e43fb37-b54d-4eb6-f9c2-012b0489a175"
      },
      "execution_count": null,
      "outputs": [
        {
          "output_type": "execute_result",
          "data": {
            "text/plain": [
              "1"
            ]
          },
          "metadata": {},
          "execution_count": 296
        }
      ]
    },
    {
      "cell_type": "code",
      "source": [
        "tu1 + tu1 # 불가변형이라고 했는데 왜??\n",
        "# 원본을 변형시킬수 있는지로 가변형/불가변형을 따집니다."
      ],
      "metadata": {
        "id": "sky5odCZxe23",
        "colab": {
          "base_uri": "https://localhost:8080/"
        },
        "outputId": "48eb967a-a091-48e7-c68e-984339b97bb7"
      },
      "execution_count": null,
      "outputs": [
        {
          "output_type": "execute_result",
          "data": {
            "text/plain": [
              "(1, '김연지', (1, 2), 3.15, None, 1, '김연지', (1, 2), 3.15, None)"
            ]
          },
          "metadata": {},
          "execution_count": 298
        }
      ]
    },
    {
      "cell_type": "code",
      "source": [
        "tu1"
      ],
      "metadata": {
        "id": "BKhr4qAOx_hy",
        "colab": {
          "base_uri": "https://localhost:8080/"
        },
        "outputId": "bcebeb83-8c06-47c5-e2ea-968cd5112601"
      },
      "execution_count": null,
      "outputs": [
        {
          "output_type": "execute_result",
          "data": {
            "text/plain": [
              "(1, '김연지', (1, 2), 3.15, None)"
            ]
          },
          "metadata": {},
          "execution_count": 299
        }
      ]
    },
    {
      "cell_type": "code",
      "source": [
        "abc = tu1 + li1\n",
        "abc"
      ],
      "metadata": {
        "id": "1yuclWDAzI34",
        "colab": {
          "base_uri": "https://localhost:8080/",
          "height": 165
        },
        "outputId": "23e87f6b-0a8e-4301-a6d9-1b29b4caddc9"
      },
      "execution_count": null,
      "outputs": [
        {
          "output_type": "error",
          "ename": "TypeError",
          "evalue": "can only concatenate tuple (not \"list\") to tuple",
          "traceback": [
            "\u001b[0;31m---------------------------------------------------------------------------\u001b[0m",
            "\u001b[0;31mTypeError\u001b[0m                                 Traceback (most recent call last)",
            "\u001b[0;32m<ipython-input-301-34aeec1668a8>\u001b[0m in \u001b[0;36m<cell line: 1>\u001b[0;34m()\u001b[0m\n\u001b[0;32m----> 1\u001b[0;31m \u001b[0mabc\u001b[0m \u001b[0;34m=\u001b[0m \u001b[0mtu1\u001b[0m \u001b[0;34m+\u001b[0m \u001b[0mli1\u001b[0m\u001b[0;34m\u001b[0m\u001b[0;34m\u001b[0m\u001b[0m\n\u001b[0m\u001b[1;32m      2\u001b[0m \u001b[0mabc\u001b[0m\u001b[0;34m\u001b[0m\u001b[0;34m\u001b[0m\u001b[0m\n",
            "\u001b[0;31mTypeError\u001b[0m: can only concatenate tuple (not \"list\") to tuple"
          ]
        }
      ]
    },
    {
      "cell_type": "markdown",
      "source": [
        "- 원본은 변하지 않고\n",
        "- 원본에 새로운 튜플을 합친 새로운 튜플을 반환할 뿐입니다."
      ],
      "metadata": {
        "id": "tuXm8ENRcBHl"
      }
    },
    {
      "cell_type": "markdown",
      "source": [
        "# 인덱싱과 슬라이싱\n",
        "  - 파이썬의 시퀀스 타입은 자동으로 인덱스를 생성해줍니다.\n",
        "    - 0부터 순서대로 1씩 증가하면서 자동으로 만들어줍니다.\n",
        "    - 0부터 시작한다라는 겁니다.\n",
        "    - 첫번재 원소 인덱스가 0이고,\n",
        "    - `[ ]` 안에 인덱스 숫자로 참조하길 원하는 원소를 선택을 합니다\n",
        "\n",
        "    - 슬라이스는 시퀀스 내에서 원하는 범위를 잘라서 가져오는 개념입니다.\n",
        "    - 프로그래밍에서는 반복문, 반복문을 활용한 인덱싱/슬라이싱을 많이 하게 됩니다"
      ],
      "metadata": {
        "id": "a30tX7gncBHl"
      }
    },
    {
      "cell_type": "code",
      "source": [
        "tu1"
      ],
      "metadata": {
        "id": "BflgmVD0cBHl",
        "colab": {
          "base_uri": "https://localhost:8080/"
        },
        "outputId": "76f5a52d-bbf4-47f0-96e0-2221bd5e385b"
      },
      "execution_count": null,
      "outputs": [
        {
          "output_type": "execute_result",
          "data": {
            "text/plain": [
              "(1, '김연지', (1, 2), 3.15, None)"
            ]
          },
          "metadata": {},
          "execution_count": 302
        }
      ]
    },
    {
      "cell_type": "code",
      "source": [
        "tu1[1]"
      ],
      "metadata": {
        "id": "fuB9Z8vS5Qpf",
        "colab": {
          "base_uri": "https://localhost:8080/",
          "height": 35
        },
        "outputId": "6ec45c62-da61-4d59-d857-7f76e4133866"
      },
      "execution_count": null,
      "outputs": [
        {
          "output_type": "execute_result",
          "data": {
            "text/plain": [
              "'김연지'"
            ],
            "application/vnd.google.colaboratory.intrinsic+json": {
              "type": "string"
            }
          },
          "metadata": {},
          "execution_count": 303
        }
      ]
    },
    {
      "cell_type": "code",
      "source": [
        "tu1[1:4] # 1~ 3 변수명[시작인덱스:끝인덱스+1]"
      ],
      "metadata": {
        "id": "85JK1wy5cBHm",
        "colab": {
          "base_uri": "https://localhost:8080/"
        },
        "outputId": "d67cbd64-cba2-4213-cc9f-8b99f839f10f"
      },
      "execution_count": null,
      "outputs": [
        {
          "output_type": "execute_result",
          "data": {
            "text/plain": [
              "('김연지', (1, 2), 3.15)"
            ]
          },
          "metadata": {},
          "execution_count": 304
        }
      ]
    },
    {
      "cell_type": "code",
      "source": [
        "tu1[1:4:2] # 변수명[시작인덱스:끝인덱스+1:step(얼마만큼 건너뛸 것인지)]"
      ],
      "metadata": {
        "id": "iTRqiFMxcBHm",
        "colab": {
          "base_uri": "https://localhost:8080/"
        },
        "outputId": "60f55719-9c13-42e0-ebec-4334c9370356"
      },
      "execution_count": null,
      "outputs": [
        {
          "output_type": "execute_result",
          "data": {
            "text/plain": [
              "('김연지', 3.15)"
            ]
          },
          "metadata": {},
          "execution_count": 305
        }
      ]
    },
    {
      "cell_type": "code",
      "source": [
        "tu1[7] # IndexError: tuple index out of range"
      ],
      "metadata": {
        "id": "_vsUAG21cBHm",
        "colab": {
          "base_uri": "https://localhost:8080/",
          "height": 147
        },
        "outputId": "9a5e1ad2-f0ca-4b71-943d-393b00bf11e5"
      },
      "execution_count": null,
      "outputs": [
        {
          "output_type": "error",
          "ename": "IndexError",
          "evalue": "tuple index out of range",
          "traceback": [
            "\u001b[0;31m---------------------------------------------------------------------------\u001b[0m",
            "\u001b[0;31mIndexError\u001b[0m                                Traceback (most recent call last)",
            "\u001b[0;32m<ipython-input-306-d52655d703c0>\u001b[0m in \u001b[0;36m<cell line: 1>\u001b[0;34m()\u001b[0m\n\u001b[0;32m----> 1\u001b[0;31m \u001b[0mtu1\u001b[0m\u001b[0;34m[\u001b[0m\u001b[0;36m7\u001b[0m\u001b[0;34m]\u001b[0m\u001b[0;34m\u001b[0m\u001b[0;34m\u001b[0m\u001b[0m\n\u001b[0m",
            "\u001b[0;31mIndexError\u001b[0m: tuple index out of range"
          ]
        }
      ]
    },
    {
      "cell_type": "code",
      "source": [
        "tu1[0:7:2] # slicing은 끝점을 초과하는 인덱스번호를 지정해줘도 out of range 에러가 나지 않습니다."
      ],
      "metadata": {
        "id": "_LFGAZYh5tmG",
        "colab": {
          "base_uri": "https://localhost:8080/"
        },
        "outputId": "261edad2-409c-4cbc-bc1c-8394020c060c"
      },
      "execution_count": null,
      "outputs": [
        {
          "output_type": "execute_result",
          "data": {
            "text/plain": [
              "(1, (1, 2), None)"
            ]
          },
          "metadata": {},
          "execution_count": 307
        }
      ]
    },
    {
      "cell_type": "code",
      "source": [
        "tu1[0::2]  # 끝점 생략 가능"
      ],
      "metadata": {
        "id": "9AL4obdNcBHm",
        "colab": {
          "base_uri": "https://localhost:8080/"
        },
        "outputId": "cda5635e-6b2d-4366-952d-fa5bb29a769d"
      },
      "execution_count": null,
      "outputs": [
        {
          "output_type": "execute_result",
          "data": {
            "text/plain": [
              "(1, (1, 2), None)"
            ]
          },
          "metadata": {},
          "execution_count": 308
        }
      ]
    },
    {
      "cell_type": "code",
      "source": [
        "tu1[::2] # 시작점 생략 가능"
      ],
      "metadata": {
        "id": "8FphBMNr6ofO",
        "colab": {
          "base_uri": "https://localhost:8080/"
        },
        "outputId": "2ea96cee-a17b-4190-beba-249fa29618ff"
      },
      "execution_count": null,
      "outputs": [
        {
          "output_type": "execute_result",
          "data": {
            "text/plain": [
              "(1, (1, 2), None)"
            ]
          },
          "metadata": {},
          "execution_count": 309
        }
      ]
    },
    {
      "cell_type": "code",
      "source": [
        "tu1"
      ],
      "metadata": {
        "id": "UHiPfbW-6ksg",
        "colab": {
          "base_uri": "https://localhost:8080/"
        },
        "outputId": "3e0ff54a-a49d-4041-91c8-e85dca6a709d"
      },
      "execution_count": null,
      "outputs": [
        {
          "output_type": "execute_result",
          "data": {
            "text/plain": [
              "(1, '김연지', (1, 2), 3.15, None)"
            ]
          },
          "metadata": {},
          "execution_count": 311
        }
      ]
    },
    {
      "cell_type": "code",
      "source": [
        "tu1[-1::]"
      ],
      "metadata": {
        "id": "VHpX7W7o6g-P",
        "colab": {
          "base_uri": "https://localhost:8080/"
        },
        "outputId": "9b9f8da4-e132-4029-c1fe-28dacf59a8a5"
      },
      "execution_count": null,
      "outputs": [
        {
          "output_type": "execute_result",
          "data": {
            "text/plain": [
              "(None,)"
            ]
          },
          "metadata": {},
          "execution_count": 312
        }
      ]
    },
    {
      "cell_type": "code",
      "source": [
        "tu1[-1::-1]"
      ],
      "metadata": {
        "id": "77K3dxEL5_7k",
        "colab": {
          "base_uri": "https://localhost:8080/"
        },
        "outputId": "f7bc01b8-898e-4588-a265-4ac7fc8cf8d9"
      },
      "execution_count": null,
      "outputs": [
        {
          "output_type": "execute_result",
          "data": {
            "text/plain": [
              "(None, 3.15, (1, 2), '김연지', 1)"
            ]
          },
          "metadata": {},
          "execution_count": 313
        }
      ]
    },
    {
      "cell_type": "code",
      "source": [
        "tu1[-1:0:-1]"
      ],
      "metadata": {
        "id": "S7l8uG4jcBHm",
        "colab": {
          "base_uri": "https://localhost:8080/"
        },
        "outputId": "0a3de5e5-0660-46aa-d72b-b62ef563b9e8"
      },
      "execution_count": null,
      "outputs": [
        {
          "output_type": "execute_result",
          "data": {
            "text/plain": [
              "(None, 3.15, (1, 2), '김연지')"
            ]
          },
          "metadata": {},
          "execution_count": 314
        }
      ]
    },
    {
      "cell_type": "code",
      "source": [],
      "metadata": {
        "id": "NOkgeVp56RRe"
      },
      "execution_count": null,
      "outputs": []
    },
    {
      "cell_type": "code",
      "source": [],
      "metadata": {
        "id": "LWQXUiHAcBHm"
      },
      "execution_count": null,
      "outputs": []
    },
    {
      "cell_type": "code",
      "source": [],
      "metadata": {
        "id": "PwS5AeKLcBHm"
      },
      "execution_count": null,
      "outputs": []
    },
    {
      "cell_type": "markdown",
      "source": [
        "# 정말 중요한 것\n",
        "- 반복문으로 인덱싱/슬라이싱을 하다 보면 주어진 시퀀스타입을 범위를 벗어나는 참조를 굉장히 많이 하게 됩니다.\n"
      ],
      "metadata": {
        "id": "oZDMZsT3cBHm"
      }
    },
    {
      "cell_type": "markdown",
      "source": [
        "- IndexError: list index out of range\n"
      ],
      "metadata": {
        "id": "SrMB2SMhcBHm"
      }
    },
    {
      "cell_type": "code",
      "source": [
        "li1 # 시퀀스 크기와 상관없이 가장 마지막원소를 늘 참조하게 하고 싶다면\n",
        "li[-1]"
      ],
      "metadata": {
        "id": "k2zlg-4N9qDW",
        "colab": {
          "base_uri": "https://localhost:8080/"
        },
        "outputId": "d712e7c8-c209-43a5-90a2-15ef78524664"
      },
      "execution_count": null,
      "outputs": [
        {
          "output_type": "execute_result",
          "data": {
            "text/plain": [
              "5"
            ]
          },
          "metadata": {},
          "execution_count": 316
        }
      ]
    },
    {
      "cell_type": "code",
      "source": [
        "li[len(li1)-1]"
      ],
      "metadata": {
        "id": "yTfHhYqbcBHn",
        "colab": {
          "base_uri": "https://localhost:8080/"
        },
        "outputId": "ac6daef4-290c-4ef8-83c2-b35a64def8b6"
      },
      "execution_count": null,
      "outputs": [
        {
          "output_type": "execute_result",
          "data": {
            "text/plain": [
              "5"
            ]
          },
          "metadata": {},
          "execution_count": 319
        }
      ]
    },
    {
      "cell_type": "code",
      "source": [
        "li.append('새로 추가된 값')"
      ],
      "metadata": {
        "id": "UJu-Ox42CJ-x"
      },
      "execution_count": null,
      "outputs": []
    },
    {
      "cell_type": "code",
      "source": [
        "li"
      ],
      "metadata": {
        "colab": {
          "base_uri": "https://localhost:8080/"
        },
        "id": "I3zlv2rMCRVm",
        "outputId": "d43c8868-5cbc-45f5-d334-c862ba37c04f"
      },
      "execution_count": null,
      "outputs": [
        {
          "output_type": "execute_result",
          "data": {
            "text/plain": [
              "[1, 2, 3, 4, 123, '새로 추가된 값']"
            ]
          },
          "metadata": {},
          "execution_count": 326
        }
      ]
    },
    {
      "cell_type": "code",
      "source": [
        "# 자료가 변하면 결과도 달라지도록 하는 종류의 코딩 : 소프트 코딩\n",
        "li[-1]"
      ],
      "metadata": {
        "id": "noxCH-uJ90Fg",
        "colab": {
          "base_uri": "https://localhost:8080/",
          "height": 35
        },
        "outputId": "87a27093-836c-4985-b7cd-ac225b3ea0e8"
      },
      "execution_count": null,
      "outputs": [
        {
          "output_type": "execute_result",
          "data": {
            "text/plain": [
              "'새로 추가된 값'"
            ],
            "application/vnd.google.colaboratory.intrinsic+json": {
              "type": "string"
            }
          },
          "metadata": {},
          "execution_count": 327
        }
      ]
    },
    {
      "cell_type": "code",
      "source": [
        "# 자료가 변해도 계속 같은 결과를 나타내도록 고정하는 종류의 코딩 : 하드 코딩\n",
        "li[4]"
      ],
      "metadata": {
        "id": "byxuZ1xS95zV",
        "colab": {
          "base_uri": "https://localhost:8080/"
        },
        "outputId": "a30b9fa2-8cb5-4856-a9b8-5fd5712cd9b3"
      },
      "execution_count": null,
      "outputs": [
        {
          "output_type": "execute_result",
          "data": {
            "text/plain": [
              "123"
            ]
          },
          "metadata": {},
          "execution_count": 328
        }
      ]
    },
    {
      "cell_type": "markdown",
      "source": [
        "# 슬라이스 사용법\n",
        "\n",
        "arr [ 시작인덱스 : 끝인덱스+1]"
      ],
      "metadata": {
        "id": "A_45DJ4xcBHo"
      }
    },
    {
      "cell_type": "code",
      "source": [
        "# 끝값에 대해서 out of range를 피할 때, 특정 순서에 의해 일부를 떼어다 쓸 때"
      ],
      "metadata": {
        "colab": {
          "base_uri": "https://localhost:8080/"
        },
        "id": "xO6Lr98ZF30W",
        "outputId": "32b97c60-fc75-4acd-b3f7-04f89ca6ced3"
      },
      "execution_count": null,
      "outputs": [
        {
          "output_type": "execute_result",
          "data": {
            "text/plain": [
              "[1, 2, 3, 4, 123, '새로 추가된 값']"
            ]
          },
          "metadata": {},
          "execution_count": 333
        }
      ]
    },
    {
      "cell_type": "code",
      "source": [
        "li[-8] # IndexError: list index out of range 음수 인덱스도 인덱스 에러 있습니다"
      ],
      "metadata": {
        "colab": {
          "base_uri": "https://localhost:8080/",
          "height": 165
        },
        "id": "zxp6dAIkCuYc",
        "outputId": "04b3ef7b-09a8-4f7c-b90a-07ad4f74db5d"
      },
      "execution_count": null,
      "outputs": [
        {
          "output_type": "error",
          "ename": "IndexError",
          "evalue": "list index out of range",
          "traceback": [
            "\u001b[0;31m---------------------------------------------------------------------------\u001b[0m",
            "\u001b[0;31mIndexError\u001b[0m                                Traceback (most recent call last)",
            "\u001b[0;32m<ipython-input-334-653ab7bdc0cf>\u001b[0m in \u001b[0;36m<cell line: 2>\u001b[0;34m()\u001b[0m\n\u001b[1;32m      1\u001b[0m \u001b[0;31m# 끝값에 대해서 out of range를 피할 때, 특정 순서에 의해 일부를 떼어다 쓸 때\u001b[0m\u001b[0;34m\u001b[0m\u001b[0;34m\u001b[0m\u001b[0m\n\u001b[0;32m----> 2\u001b[0;31m \u001b[0mli\u001b[0m\u001b[0;34m[\u001b[0m\u001b[0;34m-\u001b[0m\u001b[0;36m8\u001b[0m\u001b[0;34m]\u001b[0m\u001b[0;34m\u001b[0m\u001b[0;34m\u001b[0m\u001b[0m\n\u001b[0m",
            "\u001b[0;31mIndexError\u001b[0m: list index out of range"
          ]
        }
      ]
    },
    {
      "cell_type": "code",
      "source": [],
      "metadata": {
        "id": "qYcX6XrkCuPc"
      },
      "execution_count": null,
      "outputs": []
    },
    {
      "cell_type": "code",
      "source": [],
      "metadata": {
        "id": "wqcBCAYWcBHp"
      },
      "execution_count": null,
      "outputs": []
    },
    {
      "cell_type": "markdown",
      "source": [
        "## 문자열 (String)도 배열의 한 종류\n",
        "- 튜플의 속성을 가지고 있어요"
      ],
      "metadata": {
        "id": "SqBfi3dUcBHp"
      }
    },
    {
      "cell_type": "code",
      "source": [
        "'abcdefg'[2]"
      ],
      "metadata": {
        "id": "MUvOADWDcBHq",
        "colab": {
          "base_uri": "https://localhost:8080/",
          "height": 35
        },
        "outputId": "9f618874-0c58-4d78-f654-59ba1675f3b9"
      },
      "execution_count": null,
      "outputs": [
        {
          "output_type": "execute_result",
          "data": {
            "text/plain": [
              "'c'"
            ],
            "application/vnd.google.colaboratory.intrinsic+json": {
              "type": "string"
            }
          },
          "metadata": {},
          "execution_count": 335
        }
      ]
    },
    {
      "cell_type": "code",
      "source": [
        "'abcdefg'[2] = 'C'"
      ],
      "metadata": {
        "id": "GdWKejkMcBHq",
        "colab": {
          "base_uri": "https://localhost:8080/",
          "height": 147
        },
        "outputId": "9d392e3e-c668-472f-aeb6-39b445d66ec7"
      },
      "execution_count": null,
      "outputs": [
        {
          "output_type": "error",
          "ename": "TypeError",
          "evalue": "'str' object does not support item assignment",
          "traceback": [
            "\u001b[0;31m---------------------------------------------------------------------------\u001b[0m",
            "\u001b[0;31mTypeError\u001b[0m                                 Traceback (most recent call last)",
            "\u001b[0;32m<ipython-input-336-e8317c784bac>\u001b[0m in \u001b[0;36m<cell line: 1>\u001b[0;34m()\u001b[0m\n\u001b[0;32m----> 1\u001b[0;31m \u001b[0;34m'abcdefg'\u001b[0m\u001b[0;34m[\u001b[0m\u001b[0;36m2\u001b[0m\u001b[0;34m]\u001b[0m \u001b[0;34m=\u001b[0m \u001b[0;34m'C'\u001b[0m\u001b[0;34m\u001b[0m\u001b[0;34m\u001b[0m\u001b[0m\n\u001b[0m",
            "\u001b[0;31mTypeError\u001b[0m: 'str' object does not support item assignment"
          ]
        }
      ]
    },
    {
      "cell_type": "code",
      "source": [
        "'abcdefg'[::2]"
      ],
      "metadata": {
        "id": "dzHkaDOycBHq",
        "colab": {
          "base_uri": "https://localhost:8080/",
          "height": 35
        },
        "outputId": "67750dbb-44f2-44e1-9601-83e8ec75ff17"
      },
      "execution_count": null,
      "outputs": [
        {
          "output_type": "execute_result",
          "data": {
            "text/plain": [
              "'aceg'"
            ],
            "application/vnd.google.colaboratory.intrinsic+json": {
              "type": "string"
            }
          },
          "metadata": {},
          "execution_count": 337
        }
      ]
    },
    {
      "cell_type": "code",
      "source": [
        "'a' in 'abcdefg'"
      ],
      "metadata": {
        "id": "PyWzVYXpcBHq",
        "colab": {
          "base_uri": "https://localhost:8080/"
        },
        "outputId": "4ccd8995-425c-4e12-dae8-56ec64fad5af"
      },
      "execution_count": null,
      "outputs": [
        {
          "output_type": "execute_result",
          "data": {
            "text/plain": [
              "True"
            ]
          },
          "metadata": {},
          "execution_count": 338
        }
      ]
    },
    {
      "cell_type": "code",
      "source": [
        "dir('abcdefg')"
      ],
      "metadata": {
        "id": "8QwYL0MdcBHq",
        "colab": {
          "base_uri": "https://localhost:8080/"
        },
        "outputId": "ad386e18-e206-4450-f451-ff10fb134ed9"
      },
      "execution_count": null,
      "outputs": [
        {
          "output_type": "execute_result",
          "data": {
            "text/plain": [
              "['__add__',\n",
              " '__class__',\n",
              " '__contains__',\n",
              " '__delattr__',\n",
              " '__dir__',\n",
              " '__doc__',\n",
              " '__eq__',\n",
              " '__format__',\n",
              " '__ge__',\n",
              " '__getattribute__',\n",
              " '__getitem__',\n",
              " '__getnewargs__',\n",
              " '__gt__',\n",
              " '__hash__',\n",
              " '__init__',\n",
              " '__init_subclass__',\n",
              " '__iter__',\n",
              " '__le__',\n",
              " '__len__',\n",
              " '__lt__',\n",
              " '__mod__',\n",
              " '__mul__',\n",
              " '__ne__',\n",
              " '__new__',\n",
              " '__reduce__',\n",
              " '__reduce_ex__',\n",
              " '__repr__',\n",
              " '__rmod__',\n",
              " '__rmul__',\n",
              " '__setattr__',\n",
              " '__sizeof__',\n",
              " '__str__',\n",
              " '__subclasshook__',\n",
              " 'capitalize',\n",
              " 'casefold',\n",
              " 'center',\n",
              " 'count',\n",
              " 'encode',\n",
              " 'endswith',\n",
              " 'expandtabs',\n",
              " 'find',\n",
              " 'format',\n",
              " 'format_map',\n",
              " 'index',\n",
              " 'isalnum',\n",
              " 'isalpha',\n",
              " 'isascii',\n",
              " 'isdecimal',\n",
              " 'isdigit',\n",
              " 'isidentifier',\n",
              " 'islower',\n",
              " 'isnumeric',\n",
              " 'isprintable',\n",
              " 'isspace',\n",
              " 'istitle',\n",
              " 'isupper',\n",
              " 'join',\n",
              " 'ljust',\n",
              " 'lower',\n",
              " 'lstrip',\n",
              " 'maketrans',\n",
              " 'partition',\n",
              " 'removeprefix',\n",
              " 'removesuffix',\n",
              " 'replace',\n",
              " 'rfind',\n",
              " 'rindex',\n",
              " 'rjust',\n",
              " 'rpartition',\n",
              " 'rsplit',\n",
              " 'rstrip',\n",
              " 'split',\n",
              " 'splitlines',\n",
              " 'startswith',\n",
              " 'strip',\n",
              " 'swapcase',\n",
              " 'title',\n",
              " 'translate',\n",
              " 'upper',\n",
              " 'zfill']"
            ]
          },
          "metadata": {},
          "execution_count": 339
        }
      ]
    },
    {
      "cell_type": "markdown",
      "source": [
        "### 1-1. content라는 변수에 Yeonji's Home이라는 문자열을 넣고 전체를 출력하세요."
      ],
      "metadata": {
        "id": "S7AL33XjQiop"
      }
    },
    {
      "cell_type": "code",
      "source": [
        "content = \"Yeonji's Home\""
      ],
      "metadata": {
        "id": "vs4Dz8jqQios"
      },
      "execution_count": null,
      "outputs": []
    },
    {
      "cell_type": "markdown",
      "source": [
        "1-2. 해당 변수에서 Home만 출력해보세요"
      ],
      "metadata": {
        "id": "wsFaRVJhPz4D"
      }
    },
    {
      "cell_type": "code",
      "source": [
        "content[-1:-5]"
      ],
      "metadata": {
        "id": "hU4sTFoWPzQ8",
        "colab": {
          "base_uri": "https://localhost:8080/",
          "height": 35
        },
        "outputId": "d461ab7c-1a37-41c1-9729-5e1348defc86"
      },
      "execution_count": null,
      "outputs": [
        {
          "output_type": "execute_result",
          "data": {
            "text/plain": [
              "''"
            ],
            "application/vnd.google.colaboratory.intrinsic+json": {
              "type": "string"
            }
          },
          "metadata": {},
          "execution_count": 343
        }
      ]
    },
    {
      "cell_type": "code",
      "source": [
        "content[9:]"
      ],
      "metadata": {
        "colab": {
          "base_uri": "https://localhost:8080/",
          "height": 35
        },
        "id": "f0N6aY9OGr7M",
        "outputId": "33a055db-0a5f-4823-cab7-616bd5346260"
      },
      "execution_count": null,
      "outputs": [
        {
          "output_type": "execute_result",
          "data": {
            "text/plain": [
              "'Home'"
            ],
            "application/vnd.google.colaboratory.intrinsic+json": {
              "type": "string"
            }
          },
          "metadata": {},
          "execution_count": 344
        }
      ]
    },
    {
      "cell_type": "code",
      "source": [
        "content[content.index('Home'):]"
      ],
      "metadata": {
        "colab": {
          "base_uri": "https://localhost:8080/",
          "height": 35
        },
        "id": "1vOXa7-zGu4H",
        "outputId": "4a93c06c-dc49-46d1-e8c9-7872dc5be263"
      },
      "execution_count": null,
      "outputs": [
        {
          "output_type": "execute_result",
          "data": {
            "text/plain": [
              "'Home'"
            ],
            "application/vnd.google.colaboratory.intrinsic+json": {
              "type": "string"
            }
          },
          "metadata": {},
          "execution_count": 346
        }
      ]
    },
    {
      "cell_type": "markdown",
      "source": [
        "1-3. 해당 변수에서 'Yn'He' 이라는 글자들만 출력해보세요.\n"
      ],
      "metadata": {
        "id": "15d0owy6Qow5"
      }
    },
    {
      "cell_type": "code",
      "source": [
        "content"
      ],
      "metadata": {
        "colab": {
          "base_uri": "https://localhost:8080/",
          "height": 35
        },
        "id": "329sRwXxHUaN",
        "outputId": "d6d1b0dd-1dd8-4de1-95c2-b2399349a02b"
      },
      "execution_count": null,
      "outputs": [
        {
          "output_type": "execute_result",
          "data": {
            "text/plain": [
              "\"Yeonji's Home\""
            ],
            "application/vnd.google.colaboratory.intrinsic+json": {
              "type": "string"
            }
          },
          "metadata": {},
          "execution_count": 350
        }
      ]
    },
    {
      "cell_type": "code",
      "source": [
        "content[::3]"
      ],
      "metadata": {
        "id": "OcKOpOazHyE6",
        "colab": {
          "base_uri": "https://localhost:8080/",
          "height": 35
        },
        "outputId": "beba21dd-593a-4807-b096-2e93fb2514a5"
      },
      "execution_count": null,
      "outputs": [
        {
          "output_type": "execute_result",
          "data": {
            "text/plain": [
              "\"Yn'He\""
            ],
            "application/vnd.google.colaboratory.intrinsic+json": {
              "type": "string"
            }
          },
          "metadata": {},
          "execution_count": 349
        }
      ]
    },
    {
      "cell_type": "code",
      "source": [],
      "metadata": {
        "id": "ku9gPzK6Qtk-"
      },
      "execution_count": null,
      "outputs": []
    },
    {
      "cell_type": "markdown",
      "source": [
        "1-4. 해당 변수에 담긴 문자열을 거꾸로 뒤집은 순서로 출력하세요."
      ],
      "metadata": {
        "id": "PYlmwtQ9SRNF"
      }
    },
    {
      "cell_type": "code",
      "source": [
        "content[::-1]"
      ],
      "metadata": {
        "id": "16eLF4mGSV8-",
        "colab": {
          "base_uri": "https://localhost:8080/",
          "height": 35
        },
        "outputId": "4cacf847-01f4-4460-8180-74c87f69c2e9"
      },
      "execution_count": null,
      "outputs": [
        {
          "output_type": "execute_result",
          "data": {
            "text/plain": [
              "\"emoH s'ijnoeY\""
            ],
            "application/vnd.google.colaboratory.intrinsic+json": {
              "type": "string"
            }
          },
          "metadata": {},
          "execution_count": 351
        }
      ]
    },
    {
      "cell_type": "markdown",
      "source": [
        "1-5. 변수 content 안에 'yEONJI'라는 문자열이 포함되어 있는지 확인해보세요."
      ],
      "metadata": {
        "id": "pBDC77ctP719"
      }
    },
    {
      "cell_type": "code",
      "source": [
        "'yEONJI' in content # 소문자 대문자 구분하기 때문에"
      ],
      "metadata": {
        "id": "k6EGovb6IJED",
        "colab": {
          "base_uri": "https://localhost:8080/"
        },
        "outputId": "76994d6a-3364-4e88-9453-bf2c2306add3"
      },
      "execution_count": null,
      "outputs": [
        {
          "output_type": "execute_result",
          "data": {
            "text/plain": [
              "False"
            ]
          },
          "metadata": {},
          "execution_count": 347
        }
      ]
    },
    {
      "cell_type": "markdown",
      "source": [
        "1-6. 변수 content 안에 'Yeonji'라는 문자열이 포함되어 있는지 확인해보세요."
      ],
      "metadata": {
        "id": "q-FEiK3nQcZa"
      }
    },
    {
      "cell_type": "code",
      "source": [
        "'Yeonji' in content # 소문자 대문자 구분하기 때문에"
      ],
      "metadata": {
        "id": "CcPb6m8bQXSS",
        "colab": {
          "base_uri": "https://localhost:8080/"
        },
        "outputId": "da54ae93-cfb3-405d-fb2f-cf9da1f7b40b"
      },
      "execution_count": null,
      "outputs": [
        {
          "output_type": "execute_result",
          "data": {
            "text/plain": [
              "True"
            ]
          },
          "metadata": {},
          "execution_count": 348
        }
      ]
    },
    {
      "cell_type": "markdown",
      "source": [
        "# 가변 연산자\n",
        "- 가변형 타입에서만 사용 가능한 명령어(연산)\n",
        "- string, 튜플에서는 사용할 수 없습니다."
      ],
      "metadata": {
        "id": "Zlo6RJnScBHs"
      }
    },
    {
      "cell_type": "code",
      "source": [
        "li = [1, 2, 3, 4, 5, 6]"
      ],
      "metadata": {
        "id": "2DwltkldcBHs"
      },
      "execution_count": null,
      "outputs": []
    },
    {
      "cell_type": "code",
      "source": [
        "li[2] = 33\n",
        "li"
      ],
      "metadata": {
        "id": "RkuxKUN1cBHs",
        "colab": {
          "base_uri": "https://localhost:8080/"
        },
        "outputId": "9f574bab-8e7d-431d-cc07-411c6d9847d2"
      },
      "execution_count": null,
      "outputs": [
        {
          "output_type": "execute_result",
          "data": {
            "text/plain": [
              "[1, 2, 33, 4, 5, 6]"
            ]
          },
          "metadata": {},
          "execution_count": 353
        }
      ]
    },
    {
      "cell_type": "code",
      "source": [],
      "metadata": {
        "id": "QBxNn0QJcBHs"
      },
      "execution_count": null,
      "outputs": []
    },
    {
      "cell_type": "code",
      "source": [],
      "metadata": {
        "id": "-Ttdr2Hb2g2j"
      },
      "execution_count": null,
      "outputs": []
    },
    {
      "cell_type": "markdown",
      "source": [
        "append / extend라는 명령어\n",
        "- 리스트에 원소를 추가하는 명령어\n",
        "- 리스트에만 사용이 가능합니다.\n",
        "- 하나만 추가할때 여러개를 한께번에 추가할 때\n"
      ],
      "metadata": {
        "id": "47cgK_8QcBHs"
      }
    },
    {
      "cell_type": "code",
      "source": [
        "li.append(7)\n",
        "li"
      ],
      "metadata": {
        "id": "o5FpiO50cBHt",
        "colab": {
          "base_uri": "https://localhost:8080/"
        },
        "outputId": "b19dcb64-9071-4abc-9c21-fe6c91abff70"
      },
      "execution_count": null,
      "outputs": [
        {
          "output_type": "execute_result",
          "data": {
            "text/plain": [
              "[1, 2, 33, 4, 5, 6, 7]"
            ]
          },
          "metadata": {},
          "execution_count": 355
        }
      ]
    },
    {
      "cell_type": "code",
      "source": [
        "li.extend(8) # TypeError: 'int' object is not iterable\n",
        "li"
      ],
      "metadata": {
        "id": "veHv9T_ucBHt",
        "colab": {
          "base_uri": "https://localhost:8080/",
          "height": 165
        },
        "outputId": "e57c4de7-0240-420d-99c7-9f9ad3cf4494"
      },
      "execution_count": null,
      "outputs": [
        {
          "output_type": "error",
          "ename": "TypeError",
          "evalue": "'int' object is not iterable",
          "traceback": [
            "\u001b[0;31m---------------------------------------------------------------------------\u001b[0m",
            "\u001b[0;31mTypeError\u001b[0m                                 Traceback (most recent call last)",
            "\u001b[0;32m<ipython-input-356-9791482f6d2e>\u001b[0m in \u001b[0;36m<cell line: 1>\u001b[0;34m()\u001b[0m\n\u001b[0;32m----> 1\u001b[0;31m \u001b[0mli\u001b[0m\u001b[0;34m.\u001b[0m\u001b[0mextend\u001b[0m\u001b[0;34m(\u001b[0m\u001b[0;36m8\u001b[0m\u001b[0;34m)\u001b[0m\u001b[0;34m\u001b[0m\u001b[0;34m\u001b[0m\u001b[0m\n\u001b[0m\u001b[1;32m      2\u001b[0m \u001b[0mli\u001b[0m\u001b[0;34m\u001b[0m\u001b[0;34m\u001b[0m\u001b[0m\n",
            "\u001b[0;31mTypeError\u001b[0m: 'int' object is not iterable"
          ]
        }
      ]
    },
    {
      "cell_type": "code",
      "source": [
        "li.extend([8]) # 배열을 확장하는 개념\n",
        "li"
      ],
      "metadata": {
        "id": "mZkgYd6wcBHt",
        "colab": {
          "base_uri": "https://localhost:8080/"
        },
        "outputId": "8c2fe343-2d53-44bc-b9e8-120acbc4da4a"
      },
      "execution_count": null,
      "outputs": [
        {
          "output_type": "execute_result",
          "data": {
            "text/plain": [
              "[1, 2, 33, 4, 5, 6, 7, 8]"
            ]
          },
          "metadata": {},
          "execution_count": 357
        }
      ]
    },
    {
      "cell_type": "code",
      "source": [
        "li.append([9, 10])\n",
        "li"
      ],
      "metadata": {
        "id": "e24KZkcBcBHt",
        "colab": {
          "base_uri": "https://localhost:8080/"
        },
        "outputId": "8979b838-9d7c-46ab-ff4e-3b35702efb0f"
      },
      "execution_count": null,
      "outputs": [
        {
          "output_type": "execute_result",
          "data": {
            "text/plain": [
              "[1, 2, 33, 4, 5, 6, 7, 8, [9, 10]]"
            ]
          },
          "metadata": {},
          "execution_count": 359
        }
      ]
    },
    {
      "cell_type": "code",
      "source": [
        "li.extend([11, 12])\n",
        "li"
      ],
      "metadata": {
        "id": "1iHnksM0cBHt",
        "colab": {
          "base_uri": "https://localhost:8080/"
        },
        "outputId": "24820c33-0836-4b48-810a-21fe530f01e1"
      },
      "execution_count": null,
      "outputs": [
        {
          "output_type": "execute_result",
          "data": {
            "text/plain": [
              "[1, 2, 33, 4, 5, 6, 7, 8, [9, 10], 11, 12]"
            ]
          },
          "metadata": {},
          "execution_count": 360
        }
      ]
    },
    {
      "cell_type": "code",
      "source": [
        "li.extend((11, 12))\n",
        "li"
      ],
      "metadata": {
        "id": "I8ufvFMBcBHt",
        "colab": {
          "base_uri": "https://localhost:8080/"
        },
        "outputId": "6adae4e4-93cb-47f5-9c76-8380a5610642"
      },
      "execution_count": null,
      "outputs": [
        {
          "output_type": "execute_result",
          "data": {
            "text/plain": [
              "[1, 2, 33, 4, 5, 6, 7, 8, [9, 10], 11, 12, 11, 12]"
            ]
          },
          "metadata": {},
          "execution_count": 361
        }
      ]
    },
    {
      "cell_type": "code",
      "source": [
        "li[8][0] # 2차원 배열"
      ],
      "metadata": {
        "id": "_lDuI72ycBHt",
        "colab": {
          "base_uri": "https://localhost:8080/"
        },
        "outputId": "ea5960a6-4969-456b-f2bb-7f9ba9a9cc5a"
      },
      "execution_count": null,
      "outputs": [
        {
          "output_type": "execute_result",
          "data": {
            "text/plain": [
              "9"
            ]
          },
          "metadata": {},
          "execution_count": 363
        }
      ]
    },
    {
      "cell_type": "markdown",
      "source": [
        "append vs insert\n",
        "- append는 맨 끝에 원소를 추가하고요\n",
        "- insert 중간에 내가 원하는 위치에 원소를 삽입합니다."
      ],
      "metadata": {
        "id": "bmBRYzwncBHt"
      }
    },
    {
      "cell_type": "code",
      "source": [
        "li.insert(13, '십삼') # 원본을 바꿨기 때문에"
      ],
      "metadata": {
        "id": "UN3MB1FQcBHu"
      },
      "execution_count": null,
      "outputs": []
    },
    {
      "cell_type": "code",
      "source": [
        "li"
      ],
      "metadata": {
        "id": "bnUgTvpAcBHu",
        "colab": {
          "base_uri": "https://localhost:8080/"
        },
        "outputId": "3d133d9b-e31c-4532-95dc-9e83b81de96e"
      },
      "execution_count": null,
      "outputs": [
        {
          "output_type": "execute_result",
          "data": {
            "text/plain": [
              "[1, 2, 33, 4, 5, 6, 7, 8, [9, 10], 11, 12, 11, 12, '십삼']"
            ]
          },
          "metadata": {},
          "execution_count": 368
        }
      ]
    },
    {
      "cell_type": "code",
      "source": [
        "# li[2] = '삼'"
      ],
      "metadata": {
        "id": "HUxNK4DdJeg5"
      },
      "execution_count": null,
      "outputs": []
    },
    {
      "cell_type": "code",
      "source": [
        "li.insert(2, '삼') # 특정 위치에 갚을 넣고 나머지를 +1 씩 밀어냅니다.\n",
        "li"
      ],
      "metadata": {
        "id": "yDB4MN8qcBHu",
        "colab": {
          "base_uri": "https://localhost:8080/"
        },
        "outputId": "b41b80e4-3acb-478d-cd49-660ce3ce14b8"
      },
      "execution_count": null,
      "outputs": [
        {
          "output_type": "execute_result",
          "data": {
            "text/plain": [
              "[1, 2, '삼', 33, 4, 5, 6, 7, 8, [9, 10], 11, 12, 11, 12, '십삼']"
            ]
          },
          "metadata": {},
          "execution_count": 369
        }
      ]
    },
    {
      "cell_type": "code",
      "source": [
        "li.pop()"
      ],
      "metadata": {
        "id": "W6A2ahI-4lDS",
        "colab": {
          "base_uri": "https://localhost:8080/",
          "height": 35
        },
        "outputId": "3f869698-429e-4056-c5da-d86b3d03cd2e"
      },
      "execution_count": null,
      "outputs": [
        {
          "output_type": "execute_result",
          "data": {
            "text/plain": [
              "'십삼'"
            ],
            "application/vnd.google.colaboratory.intrinsic+json": {
              "type": "string"
            }
          },
          "metadata": {},
          "execution_count": 370
        }
      ]
    },
    {
      "cell_type": "code",
      "source": [
        "li"
      ],
      "metadata": {
        "id": "6O7cqwLVcBHu",
        "colab": {
          "base_uri": "https://localhost:8080/"
        },
        "outputId": "dce4637e-1d54-4e3c-a2c6-4d1db749bb9a"
      },
      "execution_count": null,
      "outputs": [
        {
          "output_type": "execute_result",
          "data": {
            "text/plain": [
              "[1, 2, '삼', 33, 4, 5, 6, 7, 8, [9, 10], 11, 12, 11, 12]"
            ]
          },
          "metadata": {},
          "execution_count": 371
        }
      ]
    },
    {
      "cell_type": "code",
      "source": [
        "li.remove(12) # 선형자료구조에서는 가장 처음 발견된 값만 삭제하고 끝나버림"
      ],
      "metadata": {
        "id": "jeOUDM79J4Ty"
      },
      "execution_count": null,
      "outputs": []
    },
    {
      "cell_type": "code",
      "source": [
        "li"
      ],
      "metadata": {
        "id": "3fPYWO8k8WJ0",
        "colab": {
          "base_uri": "https://localhost:8080/"
        },
        "outputId": "8caef828-a337-4e94-9434-2fd63f67054c"
      },
      "execution_count": null,
      "outputs": [
        {
          "output_type": "execute_result",
          "data": {
            "text/plain": [
              "[1, 2, '삼', 33, 4, 5, 6, 7, 8, [9, 10], 11, 11, 12]"
            ]
          },
          "metadata": {},
          "execution_count": 373
        }
      ]
    },
    {
      "cell_type": "code",
      "source": [],
      "metadata": {
        "id": "ZqmgMQC28Ywj"
      },
      "execution_count": null,
      "outputs": []
    },
    {
      "cell_type": "markdown",
      "source": [
        "# range\n",
        "  - 범위 내에서 수열을 생성하는 시퀀스 타입입니다.\n",
        "  - 정수만 가능하고요\n",
        "  - 반복문이랑 가장 많이 쓰이는 명령어 중 하나입니다.\n",
        "\n",
        "\n",
        "range(시작점, 끝점+1, step)\n",
        "- 시작점과 step은 생략 가능하다"
      ],
      "metadata": {
        "id": "jWRkFi4ScBHu"
      }
    },
    {
      "cell_type": "code",
      "source": [
        "list(range(5))"
      ],
      "metadata": {
        "id": "j7u1aQ9DcBHu",
        "colab": {
          "base_uri": "https://localhost:8080/"
        },
        "outputId": "5fcfc0ae-c683-4812-db45-c8fb9218d257"
      },
      "execution_count": null,
      "outputs": [
        {
          "output_type": "execute_result",
          "data": {
            "text/plain": [
              "[0, 1, 2, 3, 4]"
            ]
          },
          "metadata": {},
          "execution_count": 374
        }
      ]
    },
    {
      "cell_type": "code",
      "source": [
        "list(range(2, 5))"
      ],
      "metadata": {
        "id": "klS-JjiycBHu",
        "colab": {
          "base_uri": "https://localhost:8080/"
        },
        "outputId": "d1d6d898-52c8-4b67-c077-b3673313cace"
      },
      "execution_count": null,
      "outputs": [
        {
          "output_type": "execute_result",
          "data": {
            "text/plain": [
              "[2, 3, 4]"
            ]
          },
          "metadata": {},
          "execution_count": 375
        }
      ]
    },
    {
      "cell_type": "code",
      "source": [
        "list(range(2, 5, 2))"
      ],
      "metadata": {
        "id": "0euAeT3icBHu",
        "colab": {
          "base_uri": "https://localhost:8080/"
        },
        "outputId": "ab824c17-1f28-412a-a230-15e3cd640ac2"
      },
      "execution_count": null,
      "outputs": [
        {
          "output_type": "execute_result",
          "data": {
            "text/plain": [
              "[2, 4]"
            ]
          },
          "metadata": {},
          "execution_count": 376
        }
      ]
    },
    {
      "cell_type": "code",
      "source": [
        "list(range(5, 2, -2))"
      ],
      "metadata": {
        "id": "nDuWGU4rcBHv",
        "colab": {
          "base_uri": "https://localhost:8080/"
        },
        "outputId": "9e5730c5-aba2-4e0e-b05c-8a868058d590"
      },
      "execution_count": null,
      "outputs": [
        {
          "output_type": "execute_result",
          "data": {
            "text/plain": [
              "[5, 3]"
            ]
          },
          "metadata": {},
          "execution_count": 378
        }
      ]
    },
    {
      "cell_type": "code",
      "source": [
        "# 조건만 메모리에 간직하고 있다가 해당 값을 써야할 때 평가 (지연 평가 - lazy evalution)\n",
        "# 왜? 메모리를 아끼려고"
      ],
      "metadata": {
        "id": "HXXjTkr3cBHv"
      },
      "execution_count": null,
      "outputs": []
    },
    {
      "cell_type": "code",
      "source": [
        "import sys\n",
        "\n",
        "a = list(range(1, 1000))\n",
        "b = range(1, 1000)\n",
        "b"
      ],
      "metadata": {
        "id": "DC_HOUxrcBHv",
        "colab": {
          "base_uri": "https://localhost:8080/"
        },
        "outputId": "5c91700d-6dda-41a4-fbad-75e18eb56885"
      },
      "execution_count": null,
      "outputs": [
        {
          "output_type": "execute_result",
          "data": {
            "text/plain": [
              "range(1, 1000)"
            ]
          },
          "metadata": {},
          "execution_count": 385
        }
      ]
    },
    {
      "cell_type": "code",
      "source": [
        "sys.getsizeof(a)"
      ],
      "metadata": {
        "colab": {
          "base_uri": "https://localhost:8080/"
        },
        "id": "Mk5g18pmK7DA",
        "outputId": "2bc1515f-4d97-436c-e968-c2bcb5e0418f"
      },
      "execution_count": null,
      "outputs": [
        {
          "output_type": "execute_result",
          "data": {
            "text/plain": [
              "8056"
            ]
          },
          "metadata": {},
          "execution_count": 386
        }
      ]
    },
    {
      "cell_type": "code",
      "source": [
        "sys.getsizeof(b)"
      ],
      "metadata": {
        "colab": {
          "base_uri": "https://localhost:8080/"
        },
        "id": "-U_fN48ZLEWV",
        "outputId": "f9d32217-be9b-4045-f4e3-04eac22f400e"
      },
      "execution_count": null,
      "outputs": [
        {
          "output_type": "execute_result",
          "data": {
            "text/plain": [
              "48"
            ]
          },
          "metadata": {},
          "execution_count": 387
        }
      ]
    },
    {
      "cell_type": "markdown",
      "source": [
        "```\n",
        "[0, 2, 4, 6, 8]\n",
        "[1, 3, 5, 7, 9]\n",
        "```"
      ],
      "metadata": {
        "id": "NBxOiOxxcBHv"
      }
    },
    {
      "cell_type": "code",
      "source": [],
      "metadata": {
        "id": "IEQYJiJ6cBHv"
      },
      "execution_count": null,
      "outputs": []
    },
    {
      "cell_type": "code",
      "source": [],
      "metadata": {
        "id": "IDC3tkkOcBHv"
      },
      "execution_count": null,
      "outputs": []
    },
    {
      "cell_type": "markdown",
      "source": [
        "# 매핑형 타입\n",
        " - tuple, list, range는 시퀀스형 타입이었습니다. 순서가 있고 그 순서에 정해진 인덱스를 바탕으로 자료를 꺼내오거나 삽입하거나 삭제하거나 수정하는 방식으로 동작했습니다.\n",
        " - 매핑형 타입은 key값으로 불러오는 dict가 대표적이고요.\n",
        " - 해시 자료구조 라고 표현하기도 합니다.\n",
        "\n",
        "## 1) 딕셔너리\n",
        "- 형태는 다음과 같습니다.\n",
        "```{ key:value, key:value, key:value ..... }```\n",
        "- key를 직접 정의할 수 있습니다.\n",
        "  - 튜플이나 리스트와의 차이점이죠 (인덱스가 자동 생성되지 않음)\n",
        "  - 반드시 숫자가 아니어도 괜찮음\n",
        "\n",
        "\n",
        "해시 테이블의 장단점\n",
        " - 장점\n",
        "    - 데이터 저장 및 읽기 속도가 빠르다.\n",
        "    - 키에 대한 중복이 있는지 확인하기 쉽다.\n",
        "\n",
        "- 단점\n",
        "    - 일반적으로 다른 자료구조보다 저장공간이 더 필요하다.\n",
        "    - 여러 키에 해당하는 주소가 동일한 경우 충돌(Collision)이 발생하고, 이를 해결하기 위한 별도 자료구조 또는 함수가 필요하다.\n",
        "\n",
        "\n",
        "- 해시 테이블의 주용도\n",
        "    - 검색이 많이 필요할 경우\n",
        "    - 저장, 삭제, 읽기가 빈번하게 일어나는 경우\n",
        "    - 캐시를 구현할 경우 (중복 확인이 쉽기 때문에)\n",
        "\n",
        "<img src=\"https://upload.wikimedia.org/wikipedia/commons/thumb/5/58/Hash_table_4_1_1_0_0_1_0_LL.svg/1280px-Hash_table_4_1_1_0_0_1_0_LL.svg.png\" width=300>\n",
        "\n",
        "![](https://img1.daumcdn.net/thumb/R1280x0/?scode=mtistory2&fname=https%3A%2F%2Fblog.kakaocdn.net%2Fdn%2FbTF67c%2FbtqL7xx3OGw%2FDM8KEKU5x7dx6Nks4JR7K1%2Fimg.png)\n",
        "- 출처: https://mangkyu.tistory.com/102"
      ],
      "metadata": {
        "id": "kZsjBy0vNRxi"
      }
    },
    {
      "cell_type": "code",
      "source": [
        "# () []\n",
        "# 빈 딕셔너리\n",
        "dict1 = {}\n",
        "type(dict1)"
      ],
      "metadata": {
        "id": "Ecu891pyNbTG",
        "colab": {
          "base_uri": "https://localhost:8080/"
        },
        "outputId": "b385851a-910f-416b-8826-a835efbb8691"
      },
      "execution_count": null,
      "outputs": [
        {
          "output_type": "execute_result",
          "data": {
            "text/plain": [
              "dict"
            ]
          },
          "metadata": {},
          "execution_count": 388
        }
      ]
    },
    {
      "cell_type": "code",
      "source": [
        "dict1['new key'] = '새 값'\n",
        "dict1"
      ],
      "metadata": {
        "colab": {
          "base_uri": "https://localhost:8080/"
        },
        "id": "A7hytFm5NHDd",
        "outputId": "29a77cec-0352-4560-840a-516b7c5d9a14"
      },
      "execution_count": null,
      "outputs": [
        {
          "output_type": "execute_result",
          "data": {
            "text/plain": [
              "{'new key': '새 값'}"
            ]
          },
          "metadata": {},
          "execution_count": 394
        }
      ]
    },
    {
      "cell_type": "code",
      "source": [
        "dict3['new key'] = '새 값' # NameError: name 'dict3' is not defined 없는 딕셔너리에 새 값을 넣는 것은 불가능하다"
      ],
      "metadata": {
        "colab": {
          "base_uri": "https://localhost:8080/",
          "height": 147
        },
        "id": "-LHRy4clNWLK",
        "outputId": "b13b82d8-8eef-4bb3-c928-ab1c123dfe73"
      },
      "execution_count": null,
      "outputs": [
        {
          "output_type": "error",
          "ename": "NameError",
          "evalue": "name 'dict3' is not defined",
          "traceback": [
            "\u001b[0;31m---------------------------------------------------------------------------\u001b[0m",
            "\u001b[0;31mNameError\u001b[0m                                 Traceback (most recent call last)",
            "\u001b[0;32m<ipython-input-395-10f5c61e9101>\u001b[0m in \u001b[0;36m<cell line: 1>\u001b[0;34m()\u001b[0m\n\u001b[0;32m----> 1\u001b[0;31m \u001b[0mdict3\u001b[0m\u001b[0;34m[\u001b[0m\u001b[0;34m'new key'\u001b[0m\u001b[0;34m]\u001b[0m \u001b[0;34m=\u001b[0m \u001b[0;34m'새 값'\u001b[0m\u001b[0;34m\u001b[0m\u001b[0;34m\u001b[0m\u001b[0m\n\u001b[0m",
            "\u001b[0;31mNameError\u001b[0m: name 'dict3' is not defined"
          ]
        }
      ]
    },
    {
      "cell_type": "code",
      "source": [
        "dict2 = {'문패':'들어갈 내용', '문패2': [1,2,3,4,'안녕'], '문패3':None}\n",
        "dict2"
      ],
      "metadata": {
        "id": "Cs7x-YDGMyIn",
        "colab": {
          "base_uri": "https://localhost:8080/"
        },
        "outputId": "30933478-10ba-4741-ccd3-da97d48fa6a3"
      },
      "execution_count": null,
      "outputs": [
        {
          "output_type": "execute_result",
          "data": {
            "text/plain": [
              "{'문패': '들어갈 내용', '문패2': [1, 2, 3, 4, '안녕'], '문패3': None}"
            ]
          },
          "metadata": {},
          "execution_count": 389
        }
      ]
    },
    {
      "cell_type": "code",
      "source": [
        "dict2[0] # KeyError: 0"
      ],
      "metadata": {
        "id": "ScDrjt5R__ET",
        "colab": {
          "base_uri": "https://localhost:8080/",
          "height": 147
        },
        "outputId": "a9e04429-0198-4979-87d0-04b91bbe78bb"
      },
      "execution_count": null,
      "outputs": [
        {
          "output_type": "error",
          "ename": "KeyError",
          "evalue": "0",
          "traceback": [
            "\u001b[0;31m---------------------------------------------------------------------------\u001b[0m",
            "\u001b[0;31mKeyError\u001b[0m                                  Traceback (most recent call last)",
            "\u001b[0;32m<ipython-input-390-6ba3e953ab4c>\u001b[0m in \u001b[0;36m<cell line: 1>\u001b[0;34m()\u001b[0m\n\u001b[0;32m----> 1\u001b[0;31m \u001b[0mdict2\u001b[0m\u001b[0;34m[\u001b[0m\u001b[0;36m0\u001b[0m\u001b[0;34m]\u001b[0m\u001b[0;34m\u001b[0m\u001b[0;34m\u001b[0m\u001b[0m\n\u001b[0m",
            "\u001b[0;31mKeyError\u001b[0m: 0"
          ]
        }
      ]
    },
    {
      "cell_type": "code",
      "source": [
        "dict2['문패']"
      ],
      "metadata": {
        "id": "Y3zCVsQ2OVz4",
        "colab": {
          "base_uri": "https://localhost:8080/",
          "height": 35
        },
        "outputId": "90468ab0-fa3d-420d-e6dc-ec43a3330f9e"
      },
      "execution_count": null,
      "outputs": [
        {
          "output_type": "execute_result",
          "data": {
            "text/plain": [
              "'들어갈 내용'"
            ],
            "application/vnd.google.colaboratory.intrinsic+json": {
              "type": "string"
            }
          },
          "metadata": {},
          "execution_count": 391
        }
      ]
    },
    {
      "cell_type": "code",
      "source": [
        "dir(dict2)"
      ],
      "metadata": {
        "id": "YJreJs8OOluX",
        "colab": {
          "base_uri": "https://localhost:8080/"
        },
        "outputId": "1f8dc520-4403-406b-9446-49eccfe9b2b4"
      },
      "execution_count": null,
      "outputs": [
        {
          "output_type": "execute_result",
          "data": {
            "text/plain": [
              "['__class__',\n",
              " '__class_getitem__',\n",
              " '__contains__',\n",
              " '__delattr__',\n",
              " '__delitem__',\n",
              " '__dir__',\n",
              " '__doc__',\n",
              " '__eq__',\n",
              " '__format__',\n",
              " '__ge__',\n",
              " '__getattribute__',\n",
              " '__getitem__',\n",
              " '__gt__',\n",
              " '__hash__',\n",
              " '__init__',\n",
              " '__init_subclass__',\n",
              " '__ior__',\n",
              " '__iter__',\n",
              " '__le__',\n",
              " '__len__',\n",
              " '__lt__',\n",
              " '__ne__',\n",
              " '__new__',\n",
              " '__or__',\n",
              " '__reduce__',\n",
              " '__reduce_ex__',\n",
              " '__repr__',\n",
              " '__reversed__',\n",
              " '__ror__',\n",
              " '__setattr__',\n",
              " '__setitem__',\n",
              " '__sizeof__',\n",
              " '__str__',\n",
              " '__subclasshook__',\n",
              " 'clear',\n",
              " 'copy',\n",
              " 'fromkeys',\n",
              " 'get',\n",
              " 'items',\n",
              " 'keys',\n",
              " 'pop',\n",
              " 'popitem',\n",
              " 'setdefault',\n",
              " 'update',\n",
              " 'values']"
            ]
          },
          "metadata": {},
          "execution_count": 396
        }
      ]
    },
    {
      "cell_type": "code",
      "source": [
        "#  'clear',\n",
        "#  'keys',\n",
        "#  'values'\n",
        "#  'items',\n",
        "#  'pop',\n",
        "#  'copy',\n",
        "#  'fromkeys',\n",
        "#  'get',\n",
        "#  'popitem',\n",
        "#  'setdefault',\n",
        "#  'update',\n"
      ],
      "metadata": {
        "id": "OUjzcteUO7AQ"
      },
      "execution_count": null,
      "outputs": []
    },
    {
      "cell_type": "code",
      "source": [
        "dict1.clear()\n",
        "dict1"
      ],
      "metadata": {
        "id": "O1qAspvkPFn3",
        "colab": {
          "base_uri": "https://localhost:8080/"
        },
        "outputId": "21c02d94-6719-455a-9e60-c05a658e9981"
      },
      "execution_count": null,
      "outputs": [
        {
          "output_type": "execute_result",
          "data": {
            "text/plain": [
              "{}"
            ]
          },
          "metadata": {},
          "execution_count": 399
        }
      ]
    },
    {
      "cell_type": "code",
      "source": [
        "dict2.keys()"
      ],
      "metadata": {
        "id": "uKxoHSLPB-wt",
        "colab": {
          "base_uri": "https://localhost:8080/"
        },
        "outputId": "ce492b27-f0a9-4d09-d586-950240adc7c5"
      },
      "execution_count": null,
      "outputs": [
        {
          "output_type": "execute_result",
          "data": {
            "text/plain": [
              "dict_keys(['문패', '문패2', '문패3'])"
            ]
          },
          "metadata": {},
          "execution_count": 400
        }
      ]
    },
    {
      "cell_type": "code",
      "source": [
        "dict2.values()"
      ],
      "metadata": {
        "id": "wlsRvm5QPN3e",
        "colab": {
          "base_uri": "https://localhost:8080/"
        },
        "outputId": "56755f4f-c83e-4f44-acc1-2d5b30fa067e"
      },
      "execution_count": null,
      "outputs": [
        {
          "output_type": "execute_result",
          "data": {
            "text/plain": [
              "dict_values(['들어갈 내용', [1, 2, 3, 4, '안녕'], None])"
            ]
          },
          "metadata": {},
          "execution_count": 401
        }
      ]
    },
    {
      "cell_type": "code",
      "source": [
        "dict2.items()"
      ],
      "metadata": {
        "colab": {
          "base_uri": "https://localhost:8080/"
        },
        "id": "Jdx93z9dN4I1",
        "outputId": "1d4285f9-357d-4422-f526-05f4f6f9de1f"
      },
      "execution_count": null,
      "outputs": [
        {
          "output_type": "execute_result",
          "data": {
            "text/plain": [
              "dict_items([('문패', '들어갈 내용'), ('문패2', [1, 2, 3, 4, '안녕']), ('문패3', None)])"
            ]
          },
          "metadata": {},
          "execution_count": 402
        }
      ]
    },
    {
      "cell_type": "code",
      "source": [
        "dict2.pop('문패') # 딕셔너리의 기본 메소드들은 key를 중심으로 동작합니다."
      ],
      "metadata": {
        "id": "oksGsYzNPfQd",
        "colab": {
          "base_uri": "https://localhost:8080/",
          "height": 35
        },
        "outputId": "f6a48f86-eae2-4c03-b38a-e5b76f1971c6"
      },
      "execution_count": null,
      "outputs": [
        {
          "output_type": "execute_result",
          "data": {
            "text/plain": [
              "'들어갈 내용'"
            ],
            "application/vnd.google.colaboratory.intrinsic+json": {
              "type": "string"
            }
          },
          "metadata": {},
          "execution_count": 404
        }
      ]
    },
    {
      "cell_type": "code",
      "source": [
        "dict2 # 원본에서 '문패' 사라짐"
      ],
      "metadata": {
        "id": "ttzdtZw_PmgO",
        "colab": {
          "base_uri": "https://localhost:8080/"
        },
        "outputId": "32e7d911-5f12-4db0-ce1a-4b17721fd6c0"
      },
      "execution_count": null,
      "outputs": [
        {
          "output_type": "execute_result",
          "data": {
            "text/plain": [
              "{'문패2': [1, 2, 3, 4, '안녕'], '문패3': None}"
            ]
          },
          "metadata": {},
          "execution_count": 405
        }
      ]
    },
    {
      "cell_type": "code",
      "source": [
        "'문패3' in dict2"
      ],
      "metadata": {
        "id": "rArLDHDAPtyv",
        "colab": {
          "base_uri": "https://localhost:8080/"
        },
        "outputId": "8f433598-b253-4417-f2ed-18bb8c6725ba"
      },
      "execution_count": null,
      "outputs": [
        {
          "output_type": "execute_result",
          "data": {
            "text/plain": [
              "True"
            ]
          },
          "metadata": {},
          "execution_count": 406
        }
      ]
    },
    {
      "cell_type": "code",
      "source": [
        "None in dict2 # value라서 False"
      ],
      "metadata": {
        "id": "pXcAo2IlQKNB",
        "colab": {
          "base_uri": "https://localhost:8080/"
        },
        "outputId": "e5050aa9-117c-46fe-fe01-ba7260cb6d06"
      },
      "execution_count": null,
      "outputs": [
        {
          "output_type": "execute_result",
          "data": {
            "text/plain": [
              "False"
            ]
          },
          "metadata": {},
          "execution_count": 407
        }
      ]
    },
    {
      "cell_type": "code",
      "source": [
        "dict2.get('문패')"
      ],
      "metadata": {
        "id": "b8hhiMO2DMzt"
      },
      "execution_count": null,
      "outputs": []
    },
    {
      "cell_type": "code",
      "source": [
        "dict2"
      ],
      "metadata": {
        "id": "2lL-Zjo_C8vq",
        "colab": {
          "base_uri": "https://localhost:8080/"
        },
        "outputId": "9b4ae9ad-f726-4f6e-cf86-0bff81d6ee61"
      },
      "execution_count": null,
      "outputs": [
        {
          "output_type": "execute_result",
          "data": {
            "text/plain": [
              "{'문패2': [1, 2, 3, 4, '안녕'], '문패3': None}"
            ]
          },
          "metadata": {},
          "execution_count": 409
        }
      ]
    },
    {
      "cell_type": "code",
      "source": [
        "dict2.get('문패3')  # None"
      ],
      "metadata": {
        "id": "-c8DbOdzC_5M"
      },
      "execution_count": null,
      "outputs": []
    },
    {
      "cell_type": "code",
      "source": [
        "dict2.get('문패2') # [1, 2, 3, 4, '안녕']"
      ],
      "metadata": {
        "id": "DM-6JakaDEsv",
        "colab": {
          "base_uri": "https://localhost:8080/"
        },
        "outputId": "6fbaacac-6e29-4fff-d068-1fe47b48794d"
      },
      "execution_count": null,
      "outputs": [
        {
          "output_type": "execute_result",
          "data": {
            "text/plain": [
              "[1, 2, 3, 4, '안녕']"
            ]
          },
          "metadata": {},
          "execution_count": 411
        }
      ]
    },
    {
      "cell_type": "code",
      "source": [
        "# 해당 key가 있으면 그 value를 리턴, 없으면 아무것도 리턴하지 않음"
      ],
      "metadata": {
        "id": "7wCdEhuoFF1V"
      },
      "execution_count": null,
      "outputs": []
    },
    {
      "cell_type": "code",
      "source": [
        "dict2['문패'] # KeyError: '문패'"
      ],
      "metadata": {
        "id": "4OVt-HfqQL8X",
        "colab": {
          "base_uri": "https://localhost:8080/",
          "height": 147
        },
        "outputId": "974cad30-9c49-4abb-e595-71e927efc442"
      },
      "execution_count": null,
      "outputs": [
        {
          "output_type": "error",
          "ename": "KeyError",
          "evalue": "'문패'",
          "traceback": [
            "\u001b[0;31m---------------------------------------------------------------------------\u001b[0m",
            "\u001b[0;31mKeyError\u001b[0m                                  Traceback (most recent call last)",
            "\u001b[0;32m<ipython-input-414-47f97b3aad1e>\u001b[0m in \u001b[0;36m<cell line: 1>\u001b[0;34m()\u001b[0m\n\u001b[0;32m----> 1\u001b[0;31m \u001b[0mdict2\u001b[0m\u001b[0;34m[\u001b[0m\u001b[0;34m'문패'\u001b[0m\u001b[0;34m]\u001b[0m \u001b[0;31m# KeyError: '문패'\u001b[0m\u001b[0;34m\u001b[0m\u001b[0;34m\u001b[0m\u001b[0m\n\u001b[0m",
            "\u001b[0;31mKeyError\u001b[0m: '문패'"
          ]
        }
      ]
    },
    {
      "cell_type": "code",
      "source": [
        "dict2.get('문패', '찾으시는 정보가 없습니다')"
      ],
      "metadata": {
        "id": "-ej0UZQWEXAf",
        "colab": {
          "base_uri": "https://localhost:8080/",
          "height": 35
        },
        "outputId": "d1a52123-7078-4607-c55b-cdea3fd799ea"
      },
      "execution_count": null,
      "outputs": [
        {
          "output_type": "execute_result",
          "data": {
            "text/plain": [
              "'찾으시는 정보가 없습니다'"
            ],
            "application/vnd.google.colaboratory.intrinsic+json": {
              "type": "string"
            }
          },
          "metadata": {},
          "execution_count": 415
        }
      ]
    },
    {
      "cell_type": "code",
      "source": [
        "dict2.get('문패2', '찾으시는 정보가 없습니다')"
      ],
      "metadata": {
        "id": "-KAFgm2FEdH7",
        "colab": {
          "base_uri": "https://localhost:8080/"
        },
        "outputId": "7fffa66a-da04-4c71-9ef8-58ed51b6d4fc"
      },
      "execution_count": null,
      "outputs": [
        {
          "output_type": "execute_result",
          "data": {
            "text/plain": [
              "[1, 2, 3, 4, '안녕']"
            ]
          },
          "metadata": {},
          "execution_count": 416
        }
      ]
    },
    {
      "cell_type": "code",
      "source": [
        "dict2"
      ],
      "metadata": {
        "colab": {
          "base_uri": "https://localhost:8080/"
        },
        "id": "YMk9yipoPmAN",
        "outputId": "637452b2-b45c-41d8-df09-83bc5090d537"
      },
      "execution_count": null,
      "outputs": [
        {
          "output_type": "execute_result",
          "data": {
            "text/plain": [
              "{'문패2': [1, 2, 3, 4, '안녕'], '문패3': None}"
            ]
          },
          "metadata": {},
          "execution_count": 417
        }
      ]
    },
    {
      "cell_type": "code",
      "source": [
        "# getter(값을 가져오는 함수) / setter(값을 변경하는 함수)\n",
        "dict2.setdefault('문패2', '찾으시는 정보가 없습니다')"
      ],
      "metadata": {
        "id": "-Ot7xizYEZgd",
        "colab": {
          "base_uri": "https://localhost:8080/"
        },
        "outputId": "048f5301-ad23-482d-bad7-fbf5d448caba"
      },
      "execution_count": null,
      "outputs": [
        {
          "output_type": "execute_result",
          "data": {
            "text/plain": [
              "[1, 2, 3, 4, '안녕']"
            ]
          },
          "metadata": {},
          "execution_count": 418
        }
      ]
    },
    {
      "cell_type": "code",
      "source": [
        "dict2.setdefault('문패', '찾으시는 정보가 없습니다')"
      ],
      "metadata": {
        "id": "QqBo1k9vQU82",
        "colab": {
          "base_uri": "https://localhost:8080/",
          "height": 35
        },
        "outputId": "02b8a402-e795-47be-e353-1141ee5777b9"
      },
      "execution_count": null,
      "outputs": [
        {
          "output_type": "execute_result",
          "data": {
            "text/plain": [
              "'찾으시는 정보가 없습니다'"
            ],
            "application/vnd.google.colaboratory.intrinsic+json": {
              "type": "string"
            }
          },
          "metadata": {},
          "execution_count": 419
        }
      ]
    },
    {
      "cell_type": "code",
      "source": [
        "dict2 # 없는 키를 넣으면 새로 키:밸류 쌍을 해당 딕셔너리에 삽입해 줬다."
      ],
      "metadata": {
        "id": "MpYq7y4bQdv-",
        "colab": {
          "base_uri": "https://localhost:8080/"
        },
        "outputId": "c3ff4084-0e0d-4be4-f519-da29c9975230"
      },
      "execution_count": null,
      "outputs": [
        {
          "output_type": "execute_result",
          "data": {
            "text/plain": [
              "{'문패2': [1, 2, 3, 4, '안녕'], '문패3': None, '문패': '찾으시는 정보가 없습니다'}"
            ]
          },
          "metadata": {},
          "execution_count": 420
        }
      ]
    },
    {
      "cell_type": "code",
      "source": [
        "person_info = ['name', 'age', 'sex']\n",
        "dict4 =dict.fromkeys(person_info, '기본 value 할당')\n",
        "dict4"
      ],
      "metadata": {
        "colab": {
          "base_uri": "https://localhost:8080/"
        },
        "id": "1D5CAH88XjHw",
        "outputId": "1f0b0c12-0e3a-4f02-de07-88bb4ca7e1fe"
      },
      "execution_count": null,
      "outputs": [
        {
          "output_type": "execute_result",
          "data": {
            "text/plain": [
              "{'name': '기본 value 할당', 'age': '기본 value 할당', 'sex': '기본 value 할당'}"
            ]
          },
          "metadata": {},
          "execution_count": 441
        }
      ]
    },
    {
      "cell_type": "code",
      "source": [
        "# count(sub[, start[, end]])\n",
        "'고건우가 신짱구를 좋아한다.'.count('좋아')"
      ],
      "metadata": {
        "colab": {
          "base_uri": "https://localhost:8080/"
        },
        "id": "C-MQz94oUfrq",
        "outputId": "9758b03d-62b1-4c88-b810-25d7611f5f75"
      },
      "execution_count": null,
      "outputs": [
        {
          "output_type": "execute_result",
          "data": {
            "text/plain": [
              "1"
            ]
          },
          "metadata": {},
          "execution_count": 425
        }
      ]
    },
    {
      "cell_type": "code",
      "source": [
        "\"The sum of 1 + 2 is {1} 그리고 {0}\".format(1+2, '빼기도 해줘') # *args\n",
        "\n",
        "# {0: 1+2, 1: '빼기도 해줘'}"
      ],
      "metadata": {
        "colab": {
          "base_uri": "https://localhost:8080/",
          "height": 35
        },
        "id": "aotuInJQV0g5",
        "outputId": "3476819c-4d7c-4a0c-ef91-724452f1da43"
      },
      "execution_count": null,
      "outputs": [
        {
          "output_type": "execute_result",
          "data": {
            "text/plain": [
              "'The sum of 1 + 2 is 빼기도 해줘 그리고 3'"
            ],
            "application/vnd.google.colaboratory.intrinsic+json": {
              "type": "string"
            }
          },
          "metadata": {},
          "execution_count": 434
        }
      ]
    },
    {
      "cell_type": "code",
      "source": [
        "\"The sum of 1 + 2 is {num} 그리고 {msg}\".format(num=1+2, msg='빼기도 해줘') # **kwargs\n",
        "\n"
      ],
      "metadata": {
        "colab": {
          "base_uri": "https://localhost:8080/",
          "height": 35
        },
        "id": "yl5VuRLzWhUB",
        "outputId": "f645f382-48ba-4d95-bc47-690713a6d481"
      },
      "execution_count": null,
      "outputs": [
        {
          "output_type": "execute_result",
          "data": {
            "text/plain": [
              "'The sum of 1 + 2 is 3 그리고 빼기도 해줘'"
            ],
            "application/vnd.google.colaboratory.intrinsic+json": {
              "type": "string"
            }
          },
          "metadata": {},
          "execution_count": 437
        }
      ]
    },
    {
      "cell_type": "code",
      "source": [
        "len('고건우가 신짱구를 좋아한다.')"
      ],
      "metadata": {
        "colab": {
          "base_uri": "https://localhost:8080/"
        },
        "id": "LXVrroJQVBkn",
        "outputId": "93c12f58-7aea-4396-db8b-325fd5965d59"
      },
      "execution_count": null,
      "outputs": [
        {
          "output_type": "execute_result",
          "data": {
            "text/plain": [
              "15"
            ]
          },
          "metadata": {},
          "execution_count": 426
        }
      ]
    },
    {
      "cell_type": "code",
      "source": [
        "'고건우가 신짱구를 좋아한다.'.count('좋아', 1, 4)"
      ],
      "metadata": {
        "colab": {
          "base_uri": "https://localhost:8080/"
        },
        "id": "ZXsFRjmUVA0_",
        "outputId": "560db343-78f3-4ba2-9a62-f8c34e0bcac3"
      },
      "execution_count": null,
      "outputs": [
        {
          "output_type": "execute_result",
          "data": {
            "text/plain": [
              "0"
            ]
          },
          "metadata": {},
          "execution_count": 431
        }
      ]
    },
    {
      "cell_type": "code",
      "source": [
        "!python --version"
      ],
      "metadata": {
        "id": "jBc1HCbvI73E",
        "colab": {
          "base_uri": "https://localhost:8080/"
        },
        "outputId": "a4f6342f-1833-4627-d02c-2bf387a1ffde"
      },
      "execution_count": null,
      "outputs": [
        {
          "output_type": "stream",
          "name": "stdout",
          "text": [
            "Python 3.10.12\n"
          ]
        }
      ]
    },
    {
      "cell_type": "code",
      "source": [
        "my_playlist = {'힙합':'Definition', '힙합':'Chaining Day', '힙합':'Not Like Us', '힙합':'Money Tree', '힙합':'Runaway'}\n",
        "my_playlist # key가 있으면 그 key의 value를 변경 / 없으면 새로운 key를 생성하기 때문에"
      ],
      "metadata": {
        "colab": {
          "base_uri": "https://localhost:8080/"
        },
        "id": "0Qy8la4WZ5WZ",
        "outputId": "c7a50bbe-86e2-4d8b-a7df-6df8358a873b"
      },
      "execution_count": null,
      "outputs": [
        {
          "output_type": "execute_result",
          "data": {
            "text/plain": [
              "{'힙합': 'Runaway'}"
            ]
          },
          "metadata": {},
          "execution_count": 443
        }
      ]
    },
    {
      "cell_type": "code",
      "source": [
        "# 여러분이 좋아하는 음악 5곡을 장르가 key, 곡이름이 value가 되도록 my_playlist라는 dictionary로 저장해주세요."
      ],
      "metadata": {
        "id": "BZrnga2AE1Yy"
      },
      "execution_count": null,
      "outputs": []
    },
    {
      "cell_type": "code",
      "source": [
        "my_playlist = {'힙합':['Definition','Chaining Day','Not Like Us','Money Tree','Runaway']}\n",
        "my_playlist # key가 있으면 그 key의 value를 변경 / 없으면 새로운 key를 생성하기 때문에"
      ],
      "metadata": {
        "id": "rqkHHFswE4MR",
        "colab": {
          "base_uri": "https://localhost:8080/"
        },
        "outputId": "e1bc3454-fad9-4b93-8cf8-f60a26198db4"
      },
      "execution_count": null,
      "outputs": [
        {
          "output_type": "execute_result",
          "data": {
            "text/plain": [
              "{'힙합': ['Definition', 'Chaining Day', 'Not Like Us', 'Money Tree', 'Runaway']}"
            ]
          },
          "metadata": {},
          "execution_count": 444
        }
      ]
    },
    {
      "cell_type": "markdown",
      "source": [
        "# Set (집합)형\n",
        "- 키로 관리하는 Hash 자료구조입니다.\n",
        "- 순서가 없는 자료형입니다\n",
        "- 중복이 안된다는 특징이 있습니다.\n"
      ],
      "metadata": {
        "id": "DoM0_GxqWTzO"
      }
    },
    {
      "cell_type": "code",
      "source": [
        "del set"
      ],
      "metadata": {
        "id": "zg9EGuuobDKP"
      },
      "execution_count": null,
      "outputs": []
    },
    {
      "cell_type": "code",
      "source": [
        "set1 = {'key'}\n",
        "type(set1)"
      ],
      "metadata": {
        "id": "6JHriigJWQKn",
        "colab": {
          "base_uri": "https://localhost:8080/"
        },
        "outputId": "221387e4-2dd6-434e-c16a-1b62e5e06ad2"
      },
      "execution_count": null,
      "outputs": [
        {
          "output_type": "execute_result",
          "data": {
            "text/plain": [
              "set"
            ]
          },
          "metadata": {},
          "execution_count": 448
        }
      ]
    },
    {
      "cell_type": "code",
      "source": [
        "set1 ={1, 2, 3, 4, 2, 5, 5}\n",
        "set2 = {3, 4, 5, 7, 8, 10}\n",
        "set3 = {'a', 'b', 'c', 'b', 'a', 'a'}"
      ],
      "metadata": {
        "id": "FF6MImAyP0-o"
      },
      "execution_count": null,
      "outputs": []
    },
    {
      "cell_type": "code",
      "source": [
        "set4 = {'a', ['b', 'c'], 'a'} # TypeError: unhashable type: 'list'"
      ],
      "metadata": {
        "colab": {
          "base_uri": "https://localhost:8080/",
          "height": 147
        },
        "id": "HvAPd5RHbb3J",
        "outputId": "938663db-a1b0-4900-b2f9-bf372d0cd02d"
      },
      "execution_count": null,
      "outputs": [
        {
          "output_type": "error",
          "ename": "TypeError",
          "evalue": "unhashable type: 'list'",
          "traceback": [
            "\u001b[0;31m---------------------------------------------------------------------------\u001b[0m",
            "\u001b[0;31mTypeError\u001b[0m                                 Traceback (most recent call last)",
            "\u001b[0;32m<ipython-input-454-0a5522f479f4>\u001b[0m in \u001b[0;36m<cell line: 1>\u001b[0;34m()\u001b[0m\n\u001b[0;32m----> 1\u001b[0;31m \u001b[0mset4\u001b[0m \u001b[0;34m=\u001b[0m \u001b[0;34m{\u001b[0m\u001b[0;34m'a'\u001b[0m\u001b[0;34m,\u001b[0m \u001b[0;34m[\u001b[0m\u001b[0;34m'b'\u001b[0m\u001b[0;34m,\u001b[0m \u001b[0;34m'c'\u001b[0m\u001b[0;34m]\u001b[0m\u001b[0;34m,\u001b[0m \u001b[0;34m'a'\u001b[0m\u001b[0;34m}\u001b[0m\u001b[0;34m\u001b[0m\u001b[0;34m\u001b[0m\u001b[0m\n\u001b[0m",
            "\u001b[0;31mTypeError\u001b[0m: unhashable type: 'list'"
          ]
        }
      ]
    },
    {
      "cell_type": "code",
      "source": [
        "set1 & set2 # 교집합 찾아줍니다"
      ],
      "metadata": {
        "id": "cViz1jWZRDfw",
        "colab": {
          "base_uri": "https://localhost:8080/"
        },
        "outputId": "a3550195-38eb-4912-b677-5cacd815019b"
      },
      "execution_count": null,
      "outputs": [
        {
          "output_type": "execute_result",
          "data": {
            "text/plain": [
              "{3, 4, 5}"
            ]
          },
          "metadata": {},
          "execution_count": 459
        }
      ]
    },
    {
      "cell_type": "code",
      "source": [
        "set1.intersection(set2)"
      ],
      "metadata": {
        "id": "KoXksdXsP7TH",
        "colab": {
          "base_uri": "https://localhost:8080/"
        },
        "outputId": "bf3d5f2e-9fc1-4fad-b27b-872460dcbc99"
      },
      "execution_count": null,
      "outputs": [
        {
          "output_type": "execute_result",
          "data": {
            "text/plain": [
              "{3, 4, 5}"
            ]
          },
          "metadata": {},
          "execution_count": 461
        }
      ]
    },
    {
      "cell_type": "code",
      "source": [
        "set1 - set2 # 차집합"
      ],
      "metadata": {
        "id": "_fLsNa2rRLzR",
        "colab": {
          "base_uri": "https://localhost:8080/"
        },
        "outputId": "04aa5b96-d0bb-40af-82d6-0f6661d0e5f8"
      },
      "execution_count": null,
      "outputs": [
        {
          "output_type": "execute_result",
          "data": {
            "text/plain": [
              "{1, 2}"
            ]
          },
          "metadata": {},
          "execution_count": 462
        }
      ]
    },
    {
      "cell_type": "code",
      "source": [
        "set2 - set1"
      ],
      "metadata": {
        "id": "PHnxVhAeQhbf",
        "colab": {
          "base_uri": "https://localhost:8080/"
        },
        "outputId": "1a0c19b2-f87b-45ff-ba9a-41420321896f"
      },
      "execution_count": null,
      "outputs": [
        {
          "output_type": "execute_result",
          "data": {
            "text/plain": [
              "{7, 8, 10}"
            ]
          },
          "metadata": {},
          "execution_count": 463
        }
      ]
    },
    {
      "cell_type": "code",
      "source": [
        "set2.difference(set1)"
      ],
      "metadata": {
        "id": "OMQYsdYSRTz1",
        "colab": {
          "base_uri": "https://localhost:8080/"
        },
        "outputId": "70a88b97-70da-45cd-8cd6-9ac2ca62ed3b"
      },
      "execution_count": null,
      "outputs": [
        {
          "output_type": "execute_result",
          "data": {
            "text/plain": [
              "{7, 8, 10}"
            ]
          },
          "metadata": {},
          "execution_count": 464
        }
      ]
    },
    {
      "cell_type": "code",
      "source": [
        "set1 | set2 # 합집합"
      ],
      "metadata": {
        "id": "6fgqb9RsOnQB",
        "colab": {
          "base_uri": "https://localhost:8080/"
        },
        "outputId": "fa5d8d11-ba33-4467-e609-222725142bf8"
      },
      "execution_count": null,
      "outputs": [
        {
          "output_type": "execute_result",
          "data": {
            "text/plain": [
              "{1, 2, 3, 4, 5, 7, 8, 10}"
            ]
          },
          "metadata": {},
          "execution_count": 465
        }
      ]
    },
    {
      "cell_type": "code",
      "source": [
        "set1.union(set2)"
      ],
      "metadata": {
        "id": "ByTJuI1NOolF",
        "colab": {
          "base_uri": "https://localhost:8080/"
        },
        "outputId": "17a4c935-6ab8-4cbe-a4d6-c115f8cb0d60"
      },
      "execution_count": null,
      "outputs": [
        {
          "output_type": "execute_result",
          "data": {
            "text/plain": [
              "{1, 2, 3, 4, 5, 7, 8, 10}"
            ]
          },
          "metadata": {},
          "execution_count": 466
        }
      ]
    },
    {
      "cell_type": "code",
      "source": [
        "set1[2] # TypeError: 'set' object is not subscriptable"
      ],
      "metadata": {
        "id": "y9oLt7GYQtzd",
        "colab": {
          "base_uri": "https://localhost:8080/",
          "height": 147
        },
        "outputId": "50311c6f-9fc6-43eb-ff9e-7285cead954b"
      },
      "execution_count": null,
      "outputs": [
        {
          "output_type": "error",
          "ename": "TypeError",
          "evalue": "'set' object is not subscriptable",
          "traceback": [
            "\u001b[0;31m---------------------------------------------------------------------------\u001b[0m",
            "\u001b[0;31mTypeError\u001b[0m                                 Traceback (most recent call last)",
            "\u001b[0;32m<ipython-input-468-f6f64d0ccb0e>\u001b[0m in \u001b[0;36m<cell line: 1>\u001b[0;34m()\u001b[0m\n\u001b[0;32m----> 1\u001b[0;31m \u001b[0mset1\u001b[0m\u001b[0;34m[\u001b[0m\u001b[0;36m2\u001b[0m\u001b[0;34m]\u001b[0m\u001b[0;34m\u001b[0m\u001b[0;34m\u001b[0m\u001b[0m\n\u001b[0m",
            "\u001b[0;31mTypeError\u001b[0m: 'set' object is not subscriptable"
          ]
        }
      ]
    },
    {
      "cell_type": "markdown",
      "source": [
        "# 복사\n",
        "- 얕은 복사, 깊은 복사가 있습니다.\n",
        "  - 주소복사, 값 복사라고 표현하기도 합니다.\n",
        "![](https://i.imgur.com/WUxAUZq.png)"
      ],
      "metadata": {
        "id": "axoY5MsL_3dn"
      }
    },
    {
      "cell_type": "code",
      "source": [
        "arr = [10, 20, 30]"
      ],
      "metadata": {
        "id": "mojCgh799-_j"
      },
      "execution_count": null,
      "outputs": []
    },
    {
      "cell_type": "code",
      "source": [
        "id(arr) # 134657783053888"
      ],
      "metadata": {
        "id": "9oOMD4ezANTP",
        "colab": {
          "base_uri": "https://localhost:8080/"
        },
        "outputId": "658ec5cc-80ba-4ac2-c25e-d9092af1e9f1"
      },
      "execution_count": null,
      "outputs": [
        {
          "output_type": "execute_result",
          "data": {
            "text/plain": [
              "134657783053888"
            ]
          },
          "metadata": {},
          "execution_count": 470
        }
      ]
    },
    {
      "cell_type": "code",
      "source": [
        "copy1 = arr"
      ],
      "metadata": {
        "id": "v_r_4oyuAOQY"
      },
      "execution_count": null,
      "outputs": []
    },
    {
      "cell_type": "code",
      "source": [
        "id(copy1) # 134657783053888"
      ],
      "metadata": {
        "id": "83JQMG0sAPEI",
        "colab": {
          "base_uri": "https://localhost:8080/"
        },
        "outputId": "3fecc8e7-f89e-4f5b-8373-f4dd53f6301e"
      },
      "execution_count": null,
      "outputs": [
        {
          "output_type": "execute_result",
          "data": {
            "text/plain": [
              "134657783053888"
            ]
          },
          "metadata": {},
          "execution_count": 472
        }
      ]
    },
    {
      "cell_type": "code",
      "source": [
        "copy1 = [40, 50, 60]"
      ],
      "metadata": {
        "id": "gpHP4czmAbqX"
      },
      "execution_count": null,
      "outputs": []
    },
    {
      "cell_type": "code",
      "source": [
        "arr, copy1"
      ],
      "metadata": {
        "colab": {
          "base_uri": "https://localhost:8080/"
        },
        "id": "pB1kXGY-eFf7",
        "outputId": "c4fe150a-c310-4b26-da26-3b9a9d8f1852"
      },
      "execution_count": null,
      "outputs": [
        {
          "output_type": "execute_result",
          "data": {
            "text/plain": [
              "([10, 20, 30], [40, 50, 60])"
            ]
          },
          "metadata": {},
          "execution_count": 474
        }
      ]
    },
    {
      "cell_type": "markdown",
      "source": [
        "## 얕은복사/ 주소복사\n",
        "- 변수 이름은 다르지만 결국 동일한 주소를 나타내는 경우\n",
        "- 결국 두 변수는 같은 변수나 다름없습니다\n",
        "- 메모리값이 같으니까요 (2개 이상 얼마든지... 메모리값을 참조할 뿐입니다)\n",
        "  - 공간 효율성, 메모리 효율성 때문입니다.\n",
        "  - 전체 값을 항상 메모리에 복사면 그만큼 속도가 느려지고 메모리도 공간이 부족해집니다.\n",
        "  - 파이썬은 주소를 복사해서 사용을 하는 얕은 복사를 기본 복사로 차용을 하고 있습니다."
      ],
      "metadata": {
        "id": "M-BDGHmDOak-"
      }
    },
    {
      "cell_type": "code",
      "source": [],
      "metadata": {
        "id": "WFN5Pd6VPh_K"
      },
      "execution_count": null,
      "outputs": []
    },
    {
      "cell_type": "code",
      "source": [],
      "metadata": {
        "id": "sCEYqwijAiR4"
      },
      "execution_count": null,
      "outputs": []
    },
    {
      "cell_type": "code",
      "source": [],
      "metadata": {
        "id": "U5pyILtIBKDw"
      },
      "execution_count": null,
      "outputs": []
    },
    {
      "cell_type": "code",
      "source": [],
      "metadata": {
        "id": "uBKA9RMoIAF0"
      },
      "execution_count": null,
      "outputs": []
    },
    {
      "cell_type": "code",
      "source": [],
      "metadata": {
        "id": "56eAdZgzIDHi"
      },
      "execution_count": null,
      "outputs": []
    },
    {
      "cell_type": "code",
      "source": [],
      "metadata": {
        "id": "1KBOTWjKBMyA"
      },
      "execution_count": null,
      "outputs": []
    },
    {
      "cell_type": "code",
      "source": [],
      "metadata": {
        "id": "ZwnRqPp5BRi4"
      },
      "execution_count": null,
      "outputs": []
    },
    {
      "cell_type": "code",
      "source": [],
      "metadata": {
        "id": "HV0Z3taoBWSp"
      },
      "execution_count": null,
      "outputs": []
    },
    {
      "cell_type": "code",
      "source": [],
      "metadata": {
        "id": "ULxLWNpXBmwv"
      },
      "execution_count": null,
      "outputs": []
    },
    {
      "cell_type": "code",
      "source": [],
      "metadata": {
        "id": "novkuj9TB0Rf"
      },
      "execution_count": null,
      "outputs": []
    },
    {
      "cell_type": "code",
      "source": [],
      "metadata": {
        "id": "UCWCkTsvB1bB"
      },
      "execution_count": null,
      "outputs": []
    },
    {
      "cell_type": "code",
      "source": [],
      "metadata": {
        "id": "Cn3PwJBcIS-T"
      },
      "execution_count": null,
      "outputs": []
    },
    {
      "cell_type": "markdown",
      "source": [
        "- 슬라이싱하면 값 제대로 바뀌고 원본도 보존되는 거 같은데 왜 얕은 복사라고 부르는 걸까??\n",
        "- 차원을 하나 더 깊게 들어가면 여전히 메모리 주소를 복사하기 때문입니다.\n",
        "![Imgur](https://i.imgur.com/HSoskKB.png)"
      ],
      "metadata": {
        "id": "MXhiqK7pDYW3"
      }
    },
    {
      "cell_type": "code",
      "source": [
        "arr2D = ['Hello', 'Bye', 'Hi', ['Goodnight', 'Goodmorning', 'Goodafternoon']]\n",
        "arr2Dcopy = arr2D # 얕은복사\n",
        "id(arr2D), id(arr2Dcopy)"
      ],
      "metadata": {
        "id": "kSx51EtXDKH4",
        "colab": {
          "base_uri": "https://localhost:8080/"
        },
        "outputId": "e58bad54-e0dc-471b-c59b-f0b5818d9a81"
      },
      "execution_count": null,
      "outputs": [
        {
          "output_type": "execute_result",
          "data": {
            "text/plain": [
              "(134657783047680, 134657783047680)"
            ]
          },
          "metadata": {},
          "execution_count": 475
        }
      ]
    },
    {
      "cell_type": "code",
      "source": [
        "arr2Dcopy2 = arr2Dcopy[2:5]\n",
        "arr2Dcopy2"
      ],
      "metadata": {
        "colab": {
          "base_uri": "https://localhost:8080/"
        },
        "id": "Bf3BWmXme-DF",
        "outputId": "acf60fae-a517-4ea3-a20b-e7b1fdc052e5"
      },
      "execution_count": null,
      "outputs": [
        {
          "output_type": "execute_result",
          "data": {
            "text/plain": [
              "['Hi', ['Goodnight', 'Goodmorning', 'Goodafternoon']]"
            ]
          },
          "metadata": {},
          "execution_count": 478
        }
      ]
    },
    {
      "cell_type": "code",
      "source": [
        "\n",
        "id(arr2D), id(arr2Dcopy), id(arr2Dcopy2)"
      ],
      "metadata": {
        "id": "0Nrubk0rDypC",
        "colab": {
          "base_uri": "https://localhost:8080/"
        },
        "outputId": "c7703cec-3111-4239-ed0b-7eda4fffb17c"
      },
      "execution_count": null,
      "outputs": [
        {
          "output_type": "execute_result",
          "data": {
            "text/plain": [
              "(134657783047680, 134657783047680, 134658969386240)"
            ]
          },
          "metadata": {},
          "execution_count": 477
        }
      ]
    },
    {
      "cell_type": "code",
      "source": [
        "arr2Dcopy2[1][1] = 'Good Morning'"
      ],
      "metadata": {
        "id": "0XWC5dQ4D2EP"
      },
      "execution_count": null,
      "outputs": []
    },
    {
      "cell_type": "code",
      "source": [
        "arr2Dcopy2"
      ],
      "metadata": {
        "id": "QI7P3m3KD9G4",
        "colab": {
          "base_uri": "https://localhost:8080/"
        },
        "outputId": "5e4e9408-d12c-4324-e4a6-34adde4201cb"
      },
      "execution_count": null,
      "outputs": [
        {
          "output_type": "execute_result",
          "data": {
            "text/plain": [
              "['Hi', ['Goodnight', 'Good Morning', 'Goodafternoon']]"
            ]
          },
          "metadata": {},
          "execution_count": 481
        }
      ]
    },
    {
      "cell_type": "code",
      "source": [
        "arr2Dcopy"
      ],
      "metadata": {
        "id": "zbsyGM0XECwZ",
        "colab": {
          "base_uri": "https://localhost:8080/"
        },
        "outputId": "92445097-cf59-4e4d-d934-43b483e8f410"
      },
      "execution_count": null,
      "outputs": [
        {
          "output_type": "execute_result",
          "data": {
            "text/plain": [
              "['Hello', 'Bye', 'Hi', ['Goodnight', 'Good Morning', 'Goodafternoon']]"
            ]
          },
          "metadata": {},
          "execution_count": 482
        }
      ]
    },
    {
      "cell_type": "code",
      "source": [
        "arr2D"
      ],
      "metadata": {
        "id": "ETvMQVntENSJ",
        "colab": {
          "base_uri": "https://localhost:8080/"
        },
        "outputId": "88793713-e305-4e8b-8378-29e1adf76357"
      },
      "execution_count": null,
      "outputs": [
        {
          "output_type": "execute_result",
          "data": {
            "text/plain": [
              "['Hello', 'Bye', 'Hi', ['Goodnight', 'Good Morning', 'Goodafternoon']]"
            ]
          },
          "metadata": {},
          "execution_count": 483
        }
      ]
    },
    {
      "cell_type": "code",
      "source": [],
      "metadata": {
        "id": "u2926_usEUiP"
      },
      "execution_count": null,
      "outputs": []
    },
    {
      "cell_type": "markdown",
      "source": [
        "# 깊은복사\n",
        "- 파이썬에서는 깊은 복사라는 다른 방법을 제공해서 시퀀스타입의 깊이가 깊어질 때 메모리주소를 참조해서 원본을 훼손하는 일을 막고 있습니다.\n",
        "\n",
        "- copy라는 모듈의 deepcopy를 사용해야 합니다."
      ],
      "metadata": {
        "id": "IIZ4tKTKEeka"
      }
    },
    {
      "cell_type": "code",
      "source": [
        "import copy\n",
        "\n",
        "deep_arr2D = copy.deepcopy(arr2D)"
      ],
      "metadata": {
        "id": "sGsaqCVZEYGU"
      },
      "execution_count": null,
      "outputs": []
    },
    {
      "cell_type": "code",
      "source": [
        "id(arr2D), id(deep_arr2D)"
      ],
      "metadata": {
        "id": "urKxC1STE01p",
        "colab": {
          "base_uri": "https://localhost:8080/"
        },
        "outputId": "8598ebba-da2a-48d4-c887-e09c0f547605"
      },
      "execution_count": null,
      "outputs": [
        {
          "output_type": "execute_result",
          "data": {
            "text/plain": [
              "(134657783047680, 134657823827200)"
            ]
          },
          "metadata": {},
          "execution_count": 485
        }
      ]
    },
    {
      "cell_type": "code",
      "source": [
        "arr2D"
      ],
      "metadata": {
        "colab": {
          "base_uri": "https://localhost:8080/"
        },
        "id": "3RwZWTw2f8MU",
        "outputId": "54cb4b25-4baf-4616-c635-0f2f9a14c0ad"
      },
      "execution_count": null,
      "outputs": [
        {
          "output_type": "execute_result",
          "data": {
            "text/plain": [
              "['Hello', 'Bye', 'Hi', ['Goodnight', 'Good Morning', 'Goodafternoon']]"
            ]
          },
          "metadata": {},
          "execution_count": 489
        }
      ]
    },
    {
      "cell_type": "code",
      "source": [
        "deep_arr2D[-1][1] = '굿모닝'"
      ],
      "metadata": {
        "id": "n4bzLe4IE8TJ"
      },
      "execution_count": null,
      "outputs": []
    },
    {
      "cell_type": "code",
      "source": [
        "deep_arr2D"
      ],
      "metadata": {
        "id": "Sf1bNI8-FCdw",
        "colab": {
          "base_uri": "https://localhost:8080/"
        },
        "outputId": "fec93e39-71ca-40ef-f99b-228ef229b8f6"
      },
      "execution_count": null,
      "outputs": [
        {
          "output_type": "execute_result",
          "data": {
            "text/plain": [
              "['Hello', 'Bye', 'Hi', ['Goodnight', '굿모닝', 'Goodafternoon']]"
            ]
          },
          "metadata": {},
          "execution_count": 490
        }
      ]
    },
    {
      "cell_type": "code",
      "source": [
        "# 데이터 분석 관련된 최근 패키지들은 거의 딥카피를 기본 복사방법으로 차용하고 있습니다"
      ],
      "metadata": {
        "id": "zvdt3X81gH56"
      },
      "execution_count": null,
      "outputs": []
    },
    {
      "cell_type": "markdown",
      "source": [
        "## 실습1\n",
        "- 1 ~ 25까지의 정수 중 랜덤한 6개 숫자로 된 배열 c, d를 얕은 복사를 이용해서 2개 생성하고 배열 c의 1번 인덱스 값을 5로 각각 변경 후 출력해 보세요."
      ],
      "metadata": {
        "id": "mTuLUCJXLEvY"
      }
    },
    {
      "cell_type": "code",
      "source": [],
      "metadata": {
        "id": "gtMSgDjuLGkJ"
      },
      "execution_count": null,
      "outputs": []
    },
    {
      "cell_type": "code",
      "source": [],
      "metadata": {
        "id": "FTWIKCCNQuXg"
      },
      "execution_count": null,
      "outputs": []
    },
    {
      "cell_type": "markdown",
      "source": [
        "## 실습2\n",
        "- 1 ~ 25까지의 정수 중 랜덤한 6개 숫자로 a, b를 deepcopy를 이용해서 2개 생성하고 배열 b의 1번 인덱스 값을 5로 각각 변경 후 출력해 보세요."
      ],
      "metadata": {
        "id": "4PYm5aJfLIfa"
      }
    },
    {
      "cell_type": "code",
      "source": [],
      "metadata": {
        "id": "x5F5ozieLJP4"
      },
      "execution_count": null,
      "outputs": []
    },
    {
      "cell_type": "code",
      "source": [],
      "metadata": {
        "id": "X4xizF8rMQPp"
      },
      "execution_count": null,
      "outputs": []
    },
    {
      "cell_type": "code",
      "source": [],
      "metadata": {
        "id": "o4cnCUI5Nd-q"
      },
      "execution_count": null,
      "outputs": []
    },
    {
      "cell_type": "code",
      "source": [],
      "metadata": {
        "id": "S32-S68-NgBe"
      },
      "execution_count": null,
      "outputs": []
    },
    {
      "cell_type": "code",
      "source": [],
      "metadata": {
        "id": "BVAAH8SWNjc5"
      },
      "execution_count": null,
      "outputs": []
    }
  ]
}