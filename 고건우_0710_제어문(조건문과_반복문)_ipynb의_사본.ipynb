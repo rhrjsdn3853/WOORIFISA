{
  "nbformat": 4,
  "nbformat_minor": 0,
  "metadata": {
    "colab": {
      "provenance": [],
      "include_colab_link": true
    },
    "kernelspec": {
      "name": "python3",
      "display_name": "Python 3"
    },
    "language_info": {
      "name": "python"
    }
  },
  "cells": [
    {
      "cell_type": "markdown",
      "metadata": {
        "id": "view-in-github",
        "colab_type": "text"
      },
      "source": [
        "<a href=\"https://colab.research.google.com/github/rhrjsdn3853/WOORIFISA/blob/main/%EA%B3%A0%EA%B1%B4%EC%9A%B0_0710_%EC%A0%9C%EC%96%B4%EB%AC%B8(%EC%A1%B0%EA%B1%B4%EB%AC%B8%EA%B3%BC_%EB%B0%98%EB%B3%B5%EB%AC%B8)_ipynb%EC%9D%98_%EC%82%AC%EB%B3%B8.ipynb\" target=\"_parent\"><img src=\"https://colab.research.google.com/assets/colab-badge.svg\" alt=\"Open In Colab\"/></a>"
      ]
    },
    {
      "cell_type": "markdown",
      "source": [
        "# 제어문\n",
        "- 대부분의 언어가 유사합니다.\n",
        "- 조건문, 반복문\n",
        "- 위의 2가지로 전체 코드의 실행 흐름을 제어합니다.\n",
        "\n",
        "- 프로그래밍은 저 두개가 전부죠. 저 두개를 어떻게 잘 섞고 어떻게 간략하게 만드느냐가 알고리즘\n",
        "- 연습을 많이 하셔야 합니다. 그냥 볼때랑은 많이 다르더라구요.\n",
        "- 울지 마시구요....\n",
        "\n",
        "\n",
        "# 조건문(분기문)\n",
        "- if문 / match~case문(3.10부터)\n",
        "- 파이썬은 if문을 많이 사용합니다\n",
        "  - 파이썬의 철학\n",
        "```\n",
        "if 명제:\n",
        "[들여쓰기]명령어들\n",
        "```"
      ],
      "metadata": {
        "id": "H9omkUl7Rqph"
      }
    },
    {
      "cell_type": "code",
      "source": [
        "import this"
      ],
      "metadata": {
        "colab": {
          "base_uri": "https://localhost:8080/"
        },
        "id": "dDtY4efA1j-R",
        "outputId": "ecbc6558-4c5c-432f-ee97-4f5b621488f9"
      },
      "execution_count": null,
      "outputs": [
        {
          "output_type": "stream",
          "name": "stdout",
          "text": [
            "The Zen of Python, by Tim Peters\n",
            "\n",
            "Beautiful is better than ugly.\n",
            "Explicit is better than implicit.\n",
            "Simple is better than complex.\n",
            "Complex is better than complicated.\n",
            "Flat is better than nested.\n",
            "Sparse is better than dense.\n",
            "Readability counts.\n",
            "Special cases aren't special enough to break the rules.\n",
            "Although practicality beats purity.\n",
            "Errors should never pass silently.\n",
            "Unless explicitly silenced.\n",
            "In the face of ambiguity, refuse the temptation to guess.\n",
            "There should be one-- and preferably only one --obvious way to do it.\n",
            "Although that way may not be obvious at first unless you're Dutch.\n",
            "Now is better than never.\n",
            "Although never is often better than *right* now.\n",
            "If the implementation is hard to explain, it's a bad idea.\n",
            "If the implementation is easy to explain, it may be a good idea.\n",
            "Namespaces are one honking great idea -- let's do more of those!\n"
          ]
        }
      ]
    },
    {
      "cell_type": "markdown",
      "source": [
        "```\n",
        "파이썬의 철학\n",
        "\n",
        "명확한 코드는 암시적인 코드보다 낫다.\n",
        "단순한 코드가 복잡한 코드보다 낫다.\n",
        "복잡한 코드가 난해한 코드보다 낫다.\n",
        "단조로운 코드가 복잡한 코드보다 낫다.\n",
        "읽기 쉬운 코드는 읽기 어려운 코드보다 낫다.\n",
        "가독성은 중요하다.\n",
        "규칙을 깰 정도로 특별한 경우란 없다.\n",
        "하지만 실용성은 이상을 능가한다.\n",
        "에러를 결코 조용히 넘어가지 않도록 한다.\n",
        "명시적으로 조용히 넘어가라고 하더라도 조용히 넘어가지 않는다.\n",
        "모호한 코드를 대면할 때마다 추측하고 싶은 유혹을 거절하라.\n",
        "문제를 해결할 단 하나의 명확하고 바람직한 방법이 있을 것이다.\n",
        "하지만 처음에 코딩을 할 때는 잘 모를 수 있기에\n",
        "코드의 동작 방법을 정확히 알지 못할 수 있다.\n",
        "아무것도 안 하는 것보다 지금 하는 게 낫다.\n",
        "하지만 아무것도 하지 않는 것이 지금 당장 하는 것보다 나을 수도 있다.\n",
        "설명하기 어려운 구현이라면 좋은 아이디어는 아니다.\n",
        "쉽게 설명할 수 있는 구현이라면 좋은 아이디어일 것이다.\n",
        "네임스페이스는 매우 훌륭한 아이디어이다. 많이 사용하자\n",
        "```\n"
      ],
      "metadata": {
        "id": "c1HDN7no16Uj"
      }
    },
    {
      "cell_type": "code",
      "source": [
        "if 0:\n",
        "    print('참입니다')\n",
        "else:\n",
        "    print('거짓입니다')"
      ],
      "metadata": {
        "colab": {
          "base_uri": "https://localhost:8080/"
        },
        "id": "jf90c37S-ZWH",
        "outputId": "4e9ab79b-d384-4e11-ade3-56c7136bf021"
      },
      "execution_count": null,
      "outputs": [
        {
          "output_type": "stream",
          "name": "stdout",
          "text": [
            "거짓입니다\n"
          ]
        }
      ]
    },
    {
      "cell_type": "code",
      "source": [
        "food = input('오늘 점심은 뭐 드실래요? :')\n",
        "if food == '샐러드':\n",
        "    print(food)"
      ],
      "metadata": {
        "colab": {
          "base_uri": "https://localhost:8080/"
        },
        "id": "2G7PhbuS_bMs",
        "outputId": "756fed3e-655d-47a0-988d-ac25dde96b55"
      },
      "execution_count": null,
      "outputs": [
        {
          "output_type": "stream",
          "name": "stdout",
          "text": [
            "오늘 점심은 뭐 드실래요? :샐러드\n",
            "샐러드\n"
          ]
        }
      ]
    },
    {
      "cell_type": "code",
      "source": [
        "food = input('오늘 뭐 드실래요? ')\n",
        "\n",
        "if food:\n",
        "    print(food + '을(를) 드시는군요.')\n",
        "    print('맛점')\n",
        "else:\n",
        "    print('먹어야 해요.')"
      ],
      "metadata": {
        "colab": {
          "base_uri": "https://localhost:8080/"
        },
        "id": "kLDzzIJRABEM",
        "outputId": "fb5fc672-fce4-4fea-d884-9f20ec504b50"
      },
      "execution_count": null,
      "outputs": [
        {
          "output_type": "stream",
          "name": "stdout",
          "text": [
            "오늘 뭐 드실래요? 짜장면\n",
            "짜장면를 드시는군요.\n",
            "맛점\n"
          ]
        }
      ]
    },
    {
      "cell_type": "code",
      "source": [
        "if 1: # True\n",
        "    print('참')\n",
        "    print('실행되는 수준')\n"
      ],
      "metadata": {
        "id": "jbi_aaE_PVX6",
        "colab": {
          "base_uri": "https://localhost:8080/"
        },
        "outputId": "c00076b3-2725-41a4-aff7-e276aa1d0afc"
      },
      "execution_count": null,
      "outputs": [
        {
          "output_type": "stream",
          "name": "stdout",
          "text": [
            "참\n",
            "실행되는 수준\n"
          ]
        }
      ]
    },
    {
      "cell_type": "code",
      "source": [
        "bool(1=='1')"
      ],
      "metadata": {
        "colab": {
          "base_uri": "https://localhost:8080/"
        },
        "id": "Iktvz4PIg_lV",
        "outputId": "ed632504-c815-4c88-8b3c-60e6cd6456a9"
      },
      "execution_count": null,
      "outputs": [
        {
          "output_type": "execute_result",
          "data": {
            "text/plain": [
              "False"
            ]
          },
          "metadata": {},
          "execution_count": 54
        }
      ]
    },
    {
      "cell_type": "code",
      "source": [
        "if 0: # False\n",
        "    print('참')\n",
        "    print('실행되는 수준')\n"
      ],
      "metadata": {
        "id": "SyJeCZHphLex"
      },
      "execution_count": null,
      "outputs": []
    },
    {
      "cell_type": "markdown",
      "source": [
        "#### 1. 아래 출력결과를 예상해보시고 실제로 출력해보세요. 주석으로 왜 이런 결과가 나오는지도 설명을 달아주세요.\n",
        "\n",
        "```\n",
        "if True :\n",
        "    print (\"1\")\n",
        "    print (\"2\")\n",
        "else :\n",
        "    print(\"3\")\n",
        "print(\"4\")\n",
        "```"
      ],
      "metadata": {
        "id": "mnBMilKpCYuo"
      }
    },
    {
      "cell_type": "code",
      "source": [
        "if True : #bool 값이 참으로 들어가 1 2 출력\n",
        "    print (\"1\")\n",
        "    print (\"2\")\n",
        "else :\n",
        "    print(\"3\")\n",
        "print(\"4\") #조건문에서 탈출 후 4 출력"
      ],
      "metadata": {
        "id": "Yq_rWiz2ha18",
        "outputId": "5f3b25a2-0c87-408d-db40-8377350d261c",
        "colab": {
          "base_uri": "https://localhost:8080/"
        }
      },
      "execution_count": null,
      "outputs": [
        {
          "output_type": "stream",
          "name": "stdout",
          "text": [
            "1\n",
            "2\n",
            "4\n"
          ]
        }
      ]
    },
    {
      "cell_type": "code",
      "source": [],
      "metadata": {
        "id": "YNFciU_7hRhm"
      },
      "execution_count": null,
      "outputs": []
    },
    {
      "cell_type": "markdown",
      "source": [
        "## Readability counts.\n",
        "- 들여쓰기 얘기를 잠깐 할게요\n",
        "- 파이썬 자체가 귀도 반 로섬 아저씨가 싫은 코드들의 단점을 빼고 만든거라서 가독성을 굉장히 중시합니다.\n",
        "- 그래서 들여쓰기를 일부러 강제하고 있습니다."
      ],
      "metadata": {
        "id": "d5xBkkonTIwJ"
      }
    },
    {
      "cell_type": "code",
      "source": [],
      "metadata": {
        "id": "vWznEwtVSZM5"
      },
      "execution_count": null,
      "outputs": []
    },
    {
      "cell_type": "code",
      "source": [],
      "metadata": {
        "id": "9qon4Gtxh6wO"
      },
      "execution_count": null,
      "outputs": []
    },
    {
      "cell_type": "code",
      "source": [
        "arr = [1,2,3,4,5]\n",
        "\n",
        "if 1 in arr:\n",
        "    print('참')\n",
        "else:\n",
        "    print('거짓')"
      ],
      "metadata": {
        "id": "tfGVeG91TcvT",
        "colab": {
          "base_uri": "https://localhost:8080/"
        },
        "outputId": "c4fcae13-160b-46f2-8f39-0364780b07e6"
      },
      "execution_count": null,
      "outputs": [
        {
          "output_type": "stream",
          "name": "stdout",
          "text": [
            "참\n"
          ]
        }
      ]
    },
    {
      "cell_type": "markdown",
      "source": [
        "파이썬은 블록 단위를 표현할 때 들여쓰기로 표현을 합니다.\n",
        "- 들여쓰기를 할 때는 탭과 공백을 구분하기 때문에 반드시 탭 or 공백 하나만 선택해서 같은 크기만큼 들여쓰기 해야 합니다.\n"
      ],
      "metadata": {
        "id": "Q04sM8FVYrXD"
      }
    },
    {
      "cell_type": "markdown",
      "source": [
        "실습. 어깨를 돌리셨습니까 라고 질문을 받고 Y를 입력받으면 '좋군요' 이외 나머지 경우는 전부 '그렇군요' 를 출력해주세요\n",
        "\n"
      ],
      "metadata": {
        "id": "a_rgOMr1aRKV"
      }
    },
    {
      "cell_type": "code",
      "source": [
        "ans = input('어깨를 돌리셨습니까? (Y/N) : ')\n",
        "if ans == 'Y':\n",
        "    print('좋군요')\n",
        "else:\n",
        "    print('그렇군요')"
      ],
      "metadata": {
        "id": "eE9BwYa9dYVp"
      },
      "execution_count": null,
      "outputs": []
    },
    {
      "cell_type": "code",
      "source": [],
      "metadata": {
        "id": "N6zhO4O8d3yR"
      },
      "execution_count": null,
      "outputs": []
    },
    {
      "cell_type": "markdown",
      "source": [
        "```\n",
        "match 변수 or 값:\n",
        "    case 값:\n",
        "       실행문\n",
        "```\n",
        "- ' _ ' (언더바)는 와일드카드라고 부르고 앞에 조건들을 제외한 모든 것을 포함한다.\n",
        "- ' | ' (OR)은 또는을 의미. 둘 중에 하나라도 만족하면 참이다.\n",
        "- ' * ' (별)은 앞에 값을 제외하고 나머지 요소들을 모두 저장하는 변수 앞에 붙인다."
      ],
      "metadata": {
        "id": "2AOHy-VI1t1u"
      }
    },
    {
      "cell_type": "code",
      "source": [
        "ans = input('어깨를 돌리셨습니까? (Y/N) : ')\n",
        "match ans:\n",
        "    case 'Y':\n",
        "        print('좋군요')\n",
        "    case 'N':\n",
        "        print('그렇군요')\n",
        "    case _:\n",
        "        print('그렇군요')"
      ],
      "metadata": {
        "colab": {
          "base_uri": "https://localhost:8080/"
        },
        "id": "2S9ag3Z_Dopn",
        "outputId": "fe46f2bf-8206-4e11-ed6e-de44bbdd1092"
      },
      "execution_count": null,
      "outputs": [
        {
          "output_type": "stream",
          "name": "stdout",
          "text": [
            "어깨를 돌리셨습니까? (Y/N) : N\n",
            "그렇군요\n"
          ]
        }
      ]
    },
    {
      "cell_type": "code",
      "source": [
        "# 시퀀스, OR, *\n",
        "examples = [\n",
        "    ['python'],\n",
        "    ['1'],\n",
        "    ['아침', '점심', '저녁'],\n",
        "    ['score', 100, 22, 90]\n",
        "]\n",
        "\n",
        "#패턴 매칭에 최적화된 조건문\n",
        "x = ['python']\n",
        "# for x in examples:\n",
        "match x:\n",
        "    case ['python']:\n",
        "        print(x)\n",
        "        # break\n",
        "    case ['아침', '점심']:\n",
        "        print(x)\n",
        "            # break\n",
        "    case ['1'] | ['2']:\n",
        "        print(x)\n",
        "            # break\n",
        "    case ['아침', z]:\n",
        "        print(z)\n",
        "            # break\n",
        "    case ['score', *z]:\n",
        "        print(z)\n",
        "    case _:  #앞에 아무것도 매칭이 되지 않으면 실행\n",
        "        print('나머지 모든 경우')"
      ],
      "metadata": {
        "id": "Y1DJXBRkU6v2",
        "colab": {
          "base_uri": "https://localhost:8080/"
        },
        "outputId": "1b66b896-92d0-44c1-84dd-e3dfe6600091"
      },
      "execution_count": null,
      "outputs": [
        {
          "output_type": "stream",
          "name": "stdout",
          "text": [
            "['python']\n"
          ]
        }
      ]
    },
    {
      "cell_type": "code",
      "source": [
        "# 오늘 점심메뉴를 입력받고\n",
        "#피자 / 햄버거 / 치킨 / 김밥 중에 하나면 ans를 먹자 아니면 랜덤으로 뽑자 출력\n",
        "\n",
        "menu = input(\"오늘 점심메뉴는? : \")\n",
        "match menu:\n",
        "    case '피자' | '햄버거' | '치킨' | '김밥':\n",
        "        print(menu +'먹자')\n",
        "    case _:\n",
        "        print('랜덤으로 뽑자')"
      ],
      "metadata": {
        "id": "CuNh4cvJVDos",
        "colab": {
          "base_uri": "https://localhost:8080/"
        },
        "outputId": "8b812c0d-84cb-431a-90f7-b4db0860a550"
      },
      "execution_count": null,
      "outputs": [
        {
          "output_type": "stream",
          "name": "stdout",
          "text": [
            "오늘 점심메뉴는? : 피자\n",
            "피자먹자\n"
          ]
        }
      ]
    },
    {
      "cell_type": "code",
      "source": [
        "ans = input('점심메뉴? ')\n",
        "\n",
        "print(ans+'를 먹자!!' if ans in ['피자', '햄버거', '치킨', '김밥'] else '랜덤으로 뽑자')"
      ],
      "metadata": {
        "colab": {
          "base_uri": "https://localhost:8080/"
        },
        "id": "6IjnRfRFM1K1",
        "outputId": "47cdb258-d5e5-4117-cbac-8b7ff0a7f3c0"
      },
      "execution_count": null,
      "outputs": [
        {
          "output_type": "stream",
          "name": "stdout",
          "text": [
            "점심메뉴? 떡볶이\n",
            "랜덤으로 뽑자\n"
          ]
        }
      ]
    },
    {
      "cell_type": "code",
      "source": [
        "a = 'Hello' or False\n",
        "print(a)"
      ],
      "metadata": {
        "id": "a4pBAFmIVmFT",
        "colab": {
          "base_uri": "https://localhost:8080/"
        },
        "outputId": "a5056151-41dc-4e76-970e-3e298e487cad"
      },
      "execution_count": null,
      "outputs": [
        {
          "output_type": "stream",
          "name": "stdout",
          "text": [
            "Hello\n"
          ]
        }
      ]
    },
    {
      "cell_type": "code",
      "source": [
        "ans = input('어깨를 돌리셨습니까?')\n",
        "print('좋군요' if ans == 'Y' else '그렇군요')"
      ],
      "metadata": {
        "id": "TX5IzusJVnRc",
        "colab": {
          "base_uri": "https://localhost:8080/"
        },
        "outputId": "8e378403-d5b0-427a-f76d-971eed80e866"
      },
      "execution_count": null,
      "outputs": [
        {
          "output_type": "stream",
          "name": "stdout",
          "text": [
            "어깨를 돌리셨습니까?N\n",
            "그렇군요\n"
          ]
        }
      ]
    },
    {
      "cell_type": "markdown",
      "source": [
        "- if 블록이랑 else 블록 두개만 있을 때는 한곳으로 반드시 분기가 되어야 합니다.\n",
        "- True이거나 True가 아닌 모든 값 둘중에 하나 여야 하는거죠.\n",
        "\n",
        "- 만약 그렇지 않다?\n",
        "    - 참이면서 거짓인 명제가 있다 라는 말인데요. 이건 불가능하죠.\n",
        "    - 두 블록이 실행이 안 되는 경우 - 참도 거짓도 아닌 경우 이런 경우도 있을 수 없습니다.\n",
        "\n",
        "- 2가지 조건만 존재할 수는 없잖아요.\n",
        "\n",
        "- 세상에 새로운 생각은 없다.... and or not 으로 계속 뻗어나가는 생각의 줄기가 프로그래밍 분기문의 기본 원리가 되었다.\n",
        "\n",
        "# 다중조건문\n",
        "\n",
        "```\n",
        "if 조건1:\n",
        "    조건1이 참일 때 실행문\n",
        "elif 조건2:\n",
        "    조건2가 참일 때 실행문\n",
        "elif 조건3:\n",
        "    조건3가 참일 때 실행문\n",
        "elif 조건4:\n",
        "    조건4가 참일 때 실행문\n",
        "else:\n",
        "    조건1도 2도 아닌 모든 상황에 실행문\n",
        "```"
      ],
      "metadata": {
        "id": "S-is9tyTlzgY"
      }
    },
    {
      "cell_type": "code",
      "source": [
        "if 1:\n",
        "    print('참')\n",
        "elif 2:\n",
        "    print('참')\n",
        "else:\n",
        "    print('거짓')"
      ],
      "metadata": {
        "id": "ZtDG5ppMd6CP",
        "colab": {
          "base_uri": "https://localhost:8080/"
        },
        "outputId": "23025ab0-1f1d-471f-81a3-66ea0f9d52f7"
      },
      "execution_count": null,
      "outputs": [
        {
          "output_type": "stream",
          "name": "stdout",
          "text": [
            "참\n"
          ]
        }
      ]
    },
    {
      "cell_type": "markdown",
      "source": [
        "조건문\n",
        "- 무조건 if 조건: 으로 시작...\n",
        "- 나머지는 거들 뿐....\n",
        "- 2개 이상의 조건을 제시하려면 if와 else 사이에 elif를 얼마든지 첨가 가능합니다\n"
      ],
      "metadata": {
        "id": "_Dm8d0StlzgY"
      }
    },
    {
      "cell_type": "markdown",
      "source": [
        "- 조금더 섬세하게 소문자/대문자 모두 쓸 수 있게"
      ],
      "metadata": {
        "id": "y1A_YKm7lzgY"
      }
    },
    {
      "cell_type": "code",
      "source": [
        "ans = input('어깨를 돌리셨습니까? (Y/N) : ')\n",
        "if ans == 'Y' or  'y':\n",
        "    print('좋군요')\n",
        "else:\n",
        "    print('그렇군요')"
      ],
      "metadata": {
        "id": "7VmAIXkOlzgZ",
        "colab": {
          "base_uri": "https://localhost:8080/"
        },
        "outputId": "c8f2a86f-6185-4912-ae25-9ca5862fbd0f"
      },
      "execution_count": null,
      "outputs": [
        {
          "output_type": "stream",
          "name": "stdout",
          "text": [
            "어깨를 돌리셨습니까? (Y/N) : y\n",
            "좋군요\n"
          ]
        }
      ]
    },
    {
      "cell_type": "code",
      "source": [],
      "metadata": {
        "id": "lhvCx6AwlzgZ"
      },
      "execution_count": null,
      "outputs": []
    },
    {
      "cell_type": "markdown",
      "source": [
        "### 이 경우는 다중 조건이 아닙니다"
      ],
      "metadata": {
        "id": "-39vqHJClzgZ"
      }
    },
    {
      "cell_type": "code",
      "source": [],
      "metadata": {
        "id": "56PqkcCHlzgZ"
      },
      "execution_count": null,
      "outputs": []
    },
    {
      "cell_type": "code",
      "source": [],
      "metadata": {
        "id": "EsC6eBeSlzgZ"
      },
      "execution_count": null,
      "outputs": []
    },
    {
      "cell_type": "code",
      "source": [],
      "metadata": {
        "id": "TzdKtgAulzgZ"
      },
      "execution_count": null,
      "outputs": []
    },
    {
      "cell_type": "code",
      "source": [],
      "metadata": {
        "id": "Nmwyxk3KoBVB"
      },
      "execution_count": null,
      "outputs": []
    },
    {
      "cell_type": "code",
      "source": [],
      "metadata": {
        "id": "MS7gZb7woEFa"
      },
      "execution_count": null,
      "outputs": []
    },
    {
      "cell_type": "code",
      "source": [],
      "metadata": {
        "id": "6dzhDIPflzgZ"
      },
      "execution_count": null,
      "outputs": []
    },
    {
      "cell_type": "markdown",
      "source": [
        "# 실습. 주사위 게임입니다\n",
        "```\n",
        "### 문자열이 '숫자'로만 이루어져있는지 확인\n",
        "#  1) str.isdigit(\"판단하고자 하는 문자열\")\n",
        "#  2) \"판단하고자 하는 문자열\".isdigit()\n",
        "\n",
        "a = '1234' # 타입이 str이지만 온전히 숫자만 가지고 있다면 True를 반환\n",
        "b = '1/2'\n",
        "c = '가나다'\n",
        "d = '가나다123'\n",
        "e = '3²'\n",
        "f = '-1'\n",
        "g = '½'\n",
        "\n",
        "print('isdigit()') # 문자열의 모든 문자가 숫자(0-9)이면 True를 출력\n",
        "print(a.isdigit()) # True\n",
        "print(b.isdigit()) # False\n",
        "print(c.isdigit()) # False\n",
        "print(d.isdigit()) # False\n",
        "print(e.isdigit()) # True\n",
        "print(f.isdigit()) # False '-1' 은 '-'가 음수이기 때문에\n",
        "print(g.isdigit()) # False\n",
        "\n",
        "print('isdecimal() - 특수문자는 숫자로 취급하지 않음')\n",
        "print(a.isdecimal()) # True\n",
        "print(b.isdecimal()) # False\n",
        "print(c.isdecimal()) # False\n",
        "print(d.isdecimal()) # False\n",
        "print(e.isdecimal()) # False\n",
        "print(f.isdecimal()) # False\n",
        "print(g.isdecimal()) # False\n",
        "\n",
        "print('isnumeric() -  문자열의 모든 문자가 숫자(분수, 아래 첨자, 위 첨자 등의 다른 숫자도 포함)')\n",
        "print(a.isnumeric()) # True\n",
        "print(b.isnumeric()) # False\n",
        "print(c.isnumeric()) # False\n",
        "print(d.isnumeric()) # False\n",
        "print(e.isnumeric()) # True\n",
        "print(f.isnumeric()) # False\n",
        "print(g.isnumeric()) # True\n",
        "\n",
        "print('isalpha() - 알파벳으로만 이루어진 문자열 판별')\n",
        "print(a.isalpha()) # False\n",
        "print(b.isalpha()) # False\n",
        "print(c.isalpha()) # True\n",
        "print(d.isalpha()) # False\n",
        "print(e.isalpha()) # False\n",
        "print(f.isalpha()) # False\n",
        "print(g.isalpha()) # False\n",
        "```\n",
        "\n",
        "- 위 메서드의 특징을 사용하여 두 사람이 1~6까지의 숫자가 있는 주사위를 던져 높은 숫자가 나오면 이기는 게임을 작성해봅니다.\n",
        "- 주사위 숫자는 input으로 받은 값을 a, b라는 변수에 넣어서 비교할게요.\n",
        "- 실행결과는 3가지 : a가 이긴다, a가 진다, a가 비긴다"
      ],
      "metadata": {
        "id": "lCf7US6ZlzgZ"
      }
    },
    {
      "cell_type": "code",
      "source": [
        "a, b = input('주사위 숫자를 입력하세요(ex:1 4) :  ').split()\n",
        "if a.isdigit() and b.isdigit() and int(a)>=1 and int(a)<=6 and int(b)>=1 and int(b)<=6:\n",
        "    if (a>b):\n",
        "        print('a가 이겼습니다')\n",
        "    elif (a<b):\n",
        "        print('b가 이겼습니다')\n",
        "    else:\n",
        "        print('비겼습니다')\n",
        "else:\n",
        "    print('잘못 입력하셨습니다.')"
      ],
      "metadata": {
        "id": "68UxUETMlzgZ",
        "colab": {
          "base_uri": "https://localhost:8080/"
        },
        "outputId": "3a460ce2-c7c9-47a7-9790-9565e805de5b"
      },
      "execution_count": null,
      "outputs": [
        {
          "output_type": "stream",
          "name": "stdout",
          "text": [
            "주사위 숫자를 입력하세요 : 2 9\n",
            "잘못 입력하셨습니다.\n"
          ]
        }
      ]
    },
    {
      "cell_type": "code",
      "source": [],
      "metadata": {
        "id": "XK0iznAsrd9L"
      },
      "execution_count": null,
      "outputs": []
    },
    {
      "cell_type": "markdown",
      "source": [
        "arr = [1, 2, 3]\n",
        "#### 지금은 arr의 우리가 뚜껑을 열어봤지만 실제로는 다 DB에서 가져온 자료 혹은 사용자로부터 입력받은 자료이고 속에 뭐가 들어있는지 모른다 라는 설정입니다.\n",
        "\n",
        "- arr 안에 1, 2, 3 중 어느 정수가 들어있으면'참', 그렇지 않으면 '거짓' 을 출력하는 조건문을 만들어보겠습니다."
      ],
      "metadata": {
        "id": "D_NW72C9lzgZ"
      }
    },
    {
      "cell_type": "code",
      "source": [
        "arr = [1,2,3]\n",
        "num = input('정수를 입력하세요 : ')\n",
        "if num.isdigit and int(num) in arr:\n",
        "    print('참')\n",
        "else:\n",
        "    print('거짓')"
      ],
      "metadata": {
        "id": "73YBG5o7lzgZ",
        "colab": {
          "base_uri": "https://localhost:8080/"
        },
        "outputId": "f5dba9a5-ecb5-4ba4-e344-ebaf93a9f67a"
      },
      "execution_count": null,
      "outputs": [
        {
          "output_type": "stream",
          "name": "stdout",
          "text": [
            "정수를 입력하세요 : 2\n",
            "참\n"
          ]
        }
      ]
    },
    {
      "cell_type": "code",
      "source": [
        "arr = [5,6,7]\n",
        "if (1in arr) or (2 in arr) or (3 in arr):\n",
        "    print('참')\n",
        "else:\n",
        "    print('거짓')"
      ],
      "metadata": {
        "id": "QN4gc5z4lzgZ",
        "colab": {
          "base_uri": "https://localhost:8080/"
        },
        "outputId": "ed345124-2af2-40c2-fe73-8a4f055c2c5b"
      },
      "execution_count": null,
      "outputs": [
        {
          "output_type": "stream",
          "name": "stdout",
          "text": [
            "거짓\n"
          ]
        }
      ]
    },
    {
      "cell_type": "code",
      "source": [],
      "metadata": {
        "id": "krMWm2ehyShX"
      },
      "execution_count": null,
      "outputs": []
    },
    {
      "cell_type": "code",
      "source": [],
      "metadata": {
        "id": "RJ6vw8iUlzgZ"
      },
      "execution_count": null,
      "outputs": []
    },
    {
      "cell_type": "code",
      "source": [],
      "metadata": {
        "id": "Ch5R84hIymJN"
      },
      "execution_count": null,
      "outputs": []
    },
    {
      "cell_type": "code",
      "source": [],
      "metadata": {
        "id": "6EXzZn_wytxq"
      },
      "execution_count": null,
      "outputs": []
    },
    {
      "cell_type": "code",
      "source": [],
      "metadata": {
        "id": "wDgxs3L1y6xi"
      },
      "execution_count": null,
      "outputs": []
    },
    {
      "cell_type": "markdown",
      "source": [
        "- if 블록이랑 else 블록 두개만 있을 때는 한곳으로 반드시 분기가 되어야 합니다.\n",
        "- True이거나 True가 아닌 모든 값 둘중에 하나여야 합니다.\n",
        "\n",
        "- 만약 그렇지 않다?\n",
        "    - 참이면서 거짓인 명제가 있다 라는 말인데요. 이건 불가능하죠.\n",
        "    - 두 블록이 실행이 안 되는 경우 - 참도 거짓도 아닌 경우 이런 경우도 있을 수 없습니다.\n",
        "\n",
        "- 2가지 조건만 존재할 수는 없잖아요.\n",
        "\n",
        "- 세상에 새로운 생각은 없다.... and or not 으로 계속 뻗어나가는 생각의 줄기가 프로그래밍 분기문의 기본 원리가 되었다.\n"
      ],
      "metadata": {
        "id": "O9tEWkrLd8RM"
      }
    },
    {
      "cell_type": "markdown",
      "source": [
        "# 논리연산자\n",
        "- not, and, or 순으로 우선 판단\n",
        "- 단락평가를 한다\n",
        "- 단락평가란? short-circuit evalution\n",
        "- 첫번째 값으로 결과가 확인하면 두번째 값은 평가하지 않는 방법\n",
        "- 참고:\n",
        "    - ~ & | : 비트연산자 - 비트 단위로 논리 연산 (not, and, or 과 다른 방식으로 작동)\n",
        "\n",
        "    - 비트 연산자는 비트(bit) 단위로 논리 연산을 할 때 사용하는 연산자입니다.\n",
        "\n",
        "    - 또한, 비트 단위로 전체 비트를 왼쪽이나 오른쪽으로 이동시킬 때도 사용합니다.\n",
        "```\n",
        "&\t대응되는 비트가 모두 1이면 1을 반환함. (비트 AND 연산)\n",
        "|\t대응되는 비트 중에서 하나라도 1이면 1을 반환함. (비트 OR 연산)\n",
        "^\t대응되는 비트가 서로 다르면 1을 반환함. (비트 XOR 연산)\n",
        "~\t비트를 1이면 0으로, 0이면 1로 반전시킴. (비트 NOT 연산)\n",
        "```\n",
        "\n",
        "연산자 우선순위\n",
        "- https://dojang.io/mod/page/view.php?id=2461"
      ],
      "metadata": {
        "id": "pt0YekWngi9L"
      }
    },
    {
      "cell_type": "code",
      "source": [],
      "metadata": {
        "id": "ju8e14_PbvmZ"
      },
      "execution_count": null,
      "outputs": []
    },
    {
      "cell_type": "code",
      "source": [],
      "metadata": {
        "id": "qMP_dLeMhbML"
      },
      "execution_count": null,
      "outputs": []
    },
    {
      "cell_type": "code",
      "source": [],
      "metadata": {
        "id": "vxItlxEei4W_"
      },
      "execution_count": null,
      "outputs": []
    },
    {
      "cell_type": "code",
      "source": [],
      "metadata": {
        "id": "gMxv9aBE0BL7"
      },
      "execution_count": null,
      "outputs": []
    },
    {
      "cell_type": "markdown",
      "source": [
        "# 조건문"
      ],
      "metadata": {
        "id": "k8gb5fo_UAI2"
      }
    },
    {
      "cell_type": "markdown",
      "source": [
        "- 조건문의 여러가지 종류를 확인했습니다.\n",
        "```\n",
        "if (명제) :\n",
        "    실행문\n",
        "```\n",
        "만 있으면 무조건 돌아갑니다.\n",
        "\n",
        "- 참, 거짓을 판별하기 위해서 명제자리에는 참, 거짓이 아닌 값들도 넣을 수 있다.\n",
        "- 0이랑 빈 객체(빈문자열이나 빈 리스트, ...) 을 제외한 나머지는 모두 참이 되는 겁니다.\n",
        "- 대부분의 명령어들은 명제 자리에 들어가면 명제로 사용될 수 있습니다.\n"
      ],
      "metadata": {
        "id": "LCUF9uzLTmbQ"
      }
    },
    {
      "cell_type": "code",
      "source": [
        " # 참,  거짓을 구분할 수 없기 때문에 명제로 사용할 수 없는 실행문도 조건문 안에서는 ( ) 명제로 판단하기 때문에 명제처럼 사용이 가능합니다."
      ],
      "metadata": {
        "id": "AvvDl2LPT0Dd"
      },
      "execution_count": null,
      "outputs": []
    },
    {
      "cell_type": "code",
      "source": [],
      "metadata": {
        "id": "lLtb7RwvT1mJ"
      },
      "execution_count": null,
      "outputs": []
    },
    {
      "cell_type": "markdown",
      "source": [
        "논리연산, 다중조건문을 활용하면 웬만한 조건은 판별할 수 있지만.\n",
        "..\n",
        "\n",
        "우리가 만들어야 하는 분기는 그것보다 훨씬 복잡한 경우들이 많습니다.\n",
        "\n",
        "\n",
        "if 안에 if를 넣어서 해결하는 방법으로 '중첩조건문'이라고 부릅니다.\n",
        "\n",
        "```\n",
        "if 명제1:\n",
        "    # 명제 1이 참인 경우 해야 할 일\n",
        "    if 명제2\n",
        "         # 명제 1이 참인데 명제2도 참일 때 해야 할 일\n",
        "    else:\n",
        "        # 명제1은 참이지만 명제2는 거짓일 때 해야 할 일\n",
        "\n",
        "else:\n",
        "\n",
        "```"
      ],
      "metadata": {
        "id": "11kqEzdMV1fT"
      }
    },
    {
      "cell_type": "code",
      "source": [],
      "metadata": {
        "id": "4jF4AF24tjlX"
      },
      "execution_count": null,
      "outputs": []
    },
    {
      "cell_type": "markdown",
      "source": [
        "# 중첩 조건문으로 만들어 보겠습니다.\n",
        "1번째 층위\n",
        "- 나이를 입력받아서 18살보다 어린지를 판단하고 우쭈주 출력 후에\n",
        "    - 18살보다 어린 사람 중에 13살 미만이면 어린이입니다\n",
        "    - 13살 이상이면 청소년입니다 를\n",
        "        더해서 출력하는 중첩 조건문"
      ],
      "metadata": {
        "id": "KGtC2CA4XH_a"
      }
    },
    {
      "cell_type": "code",
      "source": [],
      "metadata": {
        "id": "fBQEsKqAYTgP"
      },
      "execution_count": null,
      "outputs": []
    },
    {
      "cell_type": "code",
      "source": [],
      "metadata": {
        "id": "28gnh4Lj2XeI"
      },
      "execution_count": null,
      "outputs": []
    },
    {
      "cell_type": "code",
      "source": [],
      "metadata": {
        "id": "y4DLgOW72ti0"
      },
      "execution_count": null,
      "outputs": []
    },
    {
      "cell_type": "markdown",
      "source": [
        "# 실습\n",
        "user_id = abcd\n",
        "user_pw = 1234\n",
        "인 경우에\n",
        "\n",
        "id와 pw를 입력받아서\n",
        "둘다 일치하면 '로그인 되셨습니다'\n",
        "일치하지 않으면 '로그인을 다시 시도하세요.\"\n",
        "\n",
        "를 출력하는 조건문을 하나 만들어볼게요"
      ],
      "metadata": {
        "id": "USNPfri2emmH"
      }
    },
    {
      "cell_type": "code",
      "source": [
        "user_id = input('아이디를 입력하세요 : ')\n",
        "user_pw = input('비밀번호를 입력하세요 :')\n",
        "\n",
        "if user_id == '1234' and user_pw == '1234':\n",
        "    print(\"로그인 되셨습니다\")\n",
        "else:\n",
        "    print(\"로그인 불가\")"
      ],
      "metadata": {
        "id": "LQnNEawMtUTD",
        "colab": {
          "base_uri": "https://localhost:8080/"
        },
        "outputId": "e5566fe1-a8d3-497f-fca9-61ec9f5cb660"
      },
      "execution_count": null,
      "outputs": [
        {
          "output_type": "stream",
          "name": "stdout",
          "text": [
            "아이디를 입력하세요 : 123\n",
            "비밀번호를 입력하세요 :1234\n",
            "로그인을 다시 시도하세요.\n"
          ]
        }
      ]
    },
    {
      "cell_type": "code",
      "source": [],
      "metadata": {
        "id": "y_wVQbZt9nBF"
      },
      "execution_count": null,
      "outputs": []
    },
    {
      "cell_type": "markdown",
      "source": [
        "### 1. id가 맞는지 확인하고, '비밀번호 입력하세요'를 그 다음에 출력하에 비밀전화를 확인받는 조건문.\n",
        "### 2. id, 비밀번호 다 입력받고, 둘중에 뭐가 틀렸는지 알려주는 조건문.\n",
        "### 3. id, 비밀번호 모두 맞으면 '로그인 되셨습니다', 둘중에 뭐라도 틀리면 '로그인 불가' (무엇이 틀렸는지는 알려주지 않음)"
      ],
      "metadata": {
        "id": "2vowfVzM-Dty"
      }
    },
    {
      "cell_type": "code",
      "source": [
        "user_id = input('아이디를 입력하세요 : ')\n",
        "user_pw = input('비밀번호를 입력하세요 :')\n",
        "\n",
        "if user_id == '1234' and user_pw == '1234':\n",
        "    print(\"로그인 되셨습니다\")\n",
        "elif user_id == '1234' and not user_pw == '1234':\n",
        "    print(\"비밀번호가 틀렸습니다.\")\n",
        "elif not user_id == '1234' and user_pw == '1234':\n",
        "    print(\"아이디가 틀렸습니다.\")\n",
        "else:\n",
        "    print(\"로그인을 다시 시도하세요.\")"
      ],
      "metadata": {
        "id": "I3KCQzFB-fHD",
        "colab": {
          "base_uri": "https://localhost:8080/"
        },
        "outputId": "98b39f36-97e5-4fd6-cf05-2e082660bf20"
      },
      "execution_count": null,
      "outputs": [
        {
          "output_type": "stream",
          "name": "stdout",
          "text": [
            "아이디를 입력하세요 : 럴\n",
            "비밀번호를 입력하세요 :1234\n",
            "아이디가 틀렸습니다.\n"
          ]
        }
      ]
    },
    {
      "cell_type": "code",
      "source": [],
      "metadata": {
        "id": "wjOEwL4FQw58"
      },
      "execution_count": null,
      "outputs": []
    },
    {
      "cell_type": "code",
      "source": [],
      "metadata": {
        "id": "1yVtzFgQ9q8D"
      },
      "execution_count": null,
      "outputs": []
    },
    {
      "cell_type": "code",
      "source": [],
      "metadata": {
        "id": "yZ7AFlH9VjTM"
      },
      "execution_count": null,
      "outputs": []
    },
    {
      "cell_type": "markdown",
      "source": [
        "# 기아차 버그 잡기\n",
        "\n",
        "- 자동차 네비를 처음에 사면 4년동안 무료로 업데이트를 해주더라고요.\n",
        "- 근데 1년밖에 안 됐는데 에러메시지가 뜨는거에요. '무료 업데이트 기간이 끝나갑니다. 빨리 업데이트를 진행하세요'\n",
        "\n",
        "- 년도 판단 안 하고 5월 1일에 샀네 두달 전부터 안내메시지 출력해줘야지!!\n",
        "        - 이게 버그였음\n",
        "        - 요게 저의 하루를 날렸습니다\n",
        "\n",
        "그래서 이 버그를 잡아보겠습니다.\n",
        "\n",
        "- 조건1. 4년 이내이면 무료 온라인 업데이트,\n",
        "    - 조건 1-1. 3년 10개월 즈음부터는  '무료 업데이트 기간이 끝나갑니다. 빨리 업데이트를 진행하세요'\n",
        "- 조건2. 4년 이상이면 'USB를 꽂아서 직접 업데이트하실래요 돈을내고 온라인 업데이트 하실래요?' 출력\n"
      ],
      "metadata": {
        "id": "VRIuvf0RjHe5"
      }
    },
    {
      "cell_type": "code",
      "source": [],
      "metadata": {
        "id": "E2RgmpJ9oM1i",
        "colab": {
          "base_uri": "https://localhost:8080/"
        },
        "outputId": "116719a9-eb28-4074-dfcf-a8ddad3b4664"
      },
      "execution_count": 11,
      "outputs": [
        {
          "output_type": "stream",
          "name": "stdout",
          "text": [
            "3 3\n",
            "3 3 3\n",
            "3 3 3\n",
            "3 3 3\n",
            "4 4 4\n",
            "4 4 4\n",
            "4 4 4\n",
            "7 7 7 \n",
            "7 7 7 \n",
            "7 7 7 \n"
          ]
        }
      ]
    },
    {
      "cell_type": "code",
      "source": [],
      "metadata": {
        "id": "IYeAKJnuSEWd",
        "colab": {
          "base_uri": "https://localhost:8080/"
        },
        "outputId": "92c93ba3-3973-490e-ee92-cf2e6d0b1189"
      },
      "execution_count": 9,
      "outputs": [
        {
          "output_type": "stream",
          "name": "stdout",
          "text": [
            "참\n"
          ]
        }
      ]
    },
    {
      "cell_type": "code",
      "source": [],
      "metadata": {
        "id": "rCFw0ezvSEM2"
      },
      "execution_count": null,
      "outputs": []
    },
    {
      "cell_type": "code",
      "source": [],
      "metadata": {
        "id": "6xIMkkQrTcL6"
      },
      "execution_count": null,
      "outputs": []
    },
    {
      "cell_type": "markdown",
      "source": [
        "# 반복문\n",
        "\n",
        "- 반복을 하는 거죠\n",
        "- 파이썬에서는 반복을 위한 2가지 형태의 방법이 있습니다\n",
        "    - while\n",
        "    - for\n",
        "\n",
        "## while\n",
        "\n",
        "    - 기본형태가 if와 유사합니다.\n",
        "    - if가 명제를 한번만 검사하고 분기를 한다면\n",
        "    - while은 명제를 여러번 검사 (틀릴 때 까지)\n",
        "    - 그래서 while을 반복문이라고 부릅니다.\n",
        "\n",
        "```\n",
        "while 명제:\n",
        "    while 블록\n",
        "```"
      ],
      "metadata": {
        "id": "UQKBNXcft24-"
      }
    },
    {
      "cell_type": "code",
      "source": [
        "while bool(1):\n",
        "    print('참')\n",
        "    break"
      ],
      "metadata": {
        "id": "ZgqhCBqfuWLT"
      },
      "execution_count": null,
      "outputs": []
    },
    {
      "cell_type": "code",
      "source": [
        "n =1\n",
        "while n <= 10:\n",
        "    print('참')\n",
        "    n += 1"
      ],
      "metadata": {
        "id": "jAohBWJ-wFDS",
        "colab": {
          "base_uri": "https://localhost:8080/"
        },
        "outputId": "306ef522-710d-49e7-f598-6e4f7151994a"
      },
      "execution_count": 13,
      "outputs": [
        {
          "output_type": "stream",
          "name": "stdout",
          "text": [
            "참\n",
            "참\n",
            "참\n",
            "참\n",
            "참\n",
            "참\n",
            "참\n",
            "참\n",
            "참\n",
            "참\n"
          ]
        }
      ]
    },
    {
      "cell_type": "code",
      "source": [
        "n =1\n",
        "while n <= 10:\n",
        "    print(n)\n",
        "    n += 2"
      ],
      "metadata": {
        "id": "Nufu5y_DX0eZ",
        "colab": {
          "base_uri": "https://localhost:8080/"
        },
        "outputId": "665b4613-b40a-4a61-ab1a-61b255a36da8"
      },
      "execution_count": 14,
      "outputs": [
        {
          "output_type": "stream",
          "name": "stdout",
          "text": [
            "1\n",
            "3\n",
            "5\n",
            "7\n",
            "9\n"
          ]
        }
      ]
    },
    {
      "cell_type": "code",
      "source": [],
      "metadata": {
        "id": "cjGcvvj2ve2R"
      },
      "execution_count": null,
      "outputs": []
    },
    {
      "cell_type": "markdown",
      "source": [
        "## 실습. input으로 숫자를 입력받고 1부터 그 숫자까지 하나씩 번호를 더하면서 출력하는 while문을 만들어주세요."
      ],
      "metadata": {
        "id": "BooDz2QXyk6f"
      }
    },
    {
      "cell_type": "code",
      "source": [
        "num = int(input())\n",
        "a = 1\n",
        "sum = 1\n",
        "while a <= num:\n",
        "    print(a, sum)\n",
        "    a += 1\n",
        "    sum = a + sum\n",
        ""
      ],
      "metadata": {
        "id": "WrqjGWraHmB0",
        "colab": {
          "base_uri": "https://localhost:8080/"
        },
        "outputId": "dceb5062-dfe1-4655-be3a-34913762b817"
      },
      "execution_count": 22,
      "outputs": [
        {
          "output_type": "stream",
          "name": "stdout",
          "text": [
            "5\n",
            "1 1\n",
            "2 3\n",
            "3 6\n",
            "4 10\n",
            "5 15\n"
          ]
        }
      ]
    },
    {
      "cell_type": "code",
      "source": [],
      "metadata": {
        "id": "I6I5DB_LJ424"
      },
      "execution_count": null,
      "outputs": []
    },
    {
      "cell_type": "code",
      "source": [],
      "metadata": {
        "id": "qNUiqBfzH002"
      },
      "execution_count": null,
      "outputs": []
    },
    {
      "cell_type": "markdown",
      "source": [
        "### x를 입력하기 전까지는 계속 무언가를 타이핑해야만 하는 프로그램"
      ],
      "metadata": {
        "id": "k37VW7ndbl3O"
      }
    },
    {
      "cell_type": "markdown",
      "source": [
        "```\n",
        "무언가 입력중입니다\n",
        "종료하려면 x를 입력하세요 : ㄴ\n",
        "무언가 입력중입니다\n",
        "종료하려면 x를 입력하세요 : x\n",
        "무한 반복이 종료되었습니다\n",
        "```"
      ],
      "metadata": {
        "id": "KrisiM8Mbhrv"
      }
    },
    {
      "cell_type": "markdown",
      "source": [
        "```\n",
        "c:\\> 1\n",
        "1\n",
        "c:\\> 2\n",
        "2\n",
        "c:\\> 4\n",
        "4\n",
        "c:\\> x\n",
        "x\n",
        "프로그램이 종료되었습니다\n",
        "```"
      ],
      "metadata": {
        "id": "ePci00pFlxHD"
      }
    },
    {
      "cell_type": "code",
      "source": [
        "input1 = input('무언가 입력중입니다. 종료하려면 x를 입력하세요 : ')\n",
        "while input1 != 'x':\n",
        "    print(input1)\n",
        "    input1 = input('무언가 입력중입니다. 종료하려면 x를 입력하세요 : ')\n",
        "print('프로그램이 종료되었습니다')"
      ],
      "metadata": {
        "id": "vxSftUfUeRSB",
        "colab": {
          "base_uri": "https://localhost:8080/"
        },
        "outputId": "1000ca8c-843b-410c-b988-6b44639fcc2e"
      },
      "execution_count": 25,
      "outputs": [
        {
          "output_type": "stream",
          "name": "stdout",
          "text": [
            "무언가 입력중입니다. 종료하려면 x를 입력하세요 : d\n",
            "d\n",
            "무언가 입력중입니다. 종료하려면 x를 입력하세요 : e\n",
            "e\n",
            "무언가 입력중입니다. 종료하려면 x를 입력하세요 : x\n",
            "프로그램이 종료되었습니다\n"
          ]
        }
      ]
    },
    {
      "cell_type": "code",
      "source": [],
      "metadata": {
        "id": "iaNkbA8OeBkp"
      },
      "execution_count": null,
      "outputs": []
    },
    {
      "cell_type": "code",
      "source": [],
      "metadata": {
        "id": "m3MJ2VOamTSp"
      },
      "execution_count": null,
      "outputs": []
    },
    {
      "cell_type": "markdown",
      "source": [
        "## 1~10 사이에 짝수만 출력하는 while문을 만들어볼게요."
      ],
      "metadata": {
        "id": "8skQdxM0LL4R"
      }
    },
    {
      "cell_type": "code",
      "source": [
        "i = 2\n",
        "while i < 11:\n",
        "    print(i)\n",
        "    i += 2"
      ],
      "metadata": {
        "id": "Ljqke0VglbYQ",
        "colab": {
          "base_uri": "https://localhost:8080/"
        },
        "outputId": "6fe831ee-1a0a-4742-d05c-c908f644636b"
      },
      "execution_count": 26,
      "outputs": [
        {
          "output_type": "stream",
          "name": "stdout",
          "text": [
            "2\n",
            "4\n",
            "6\n",
            "8\n",
            "10\n"
          ]
        }
      ]
    },
    {
      "cell_type": "code",
      "source": [
        "i = 2\n",
        "while i < 11 :\n",
        "    if i%2 == 0:\n",
        "        print(i)\n",
        "    i +=1"
      ],
      "metadata": {
        "colab": {
          "base_uri": "https://localhost:8080/"
        },
        "id": "fxh_mowvUC8s",
        "outputId": "8c525715-20cb-47a2-ee02-923a879c81b9"
      },
      "execution_count": 1,
      "outputs": [
        {
          "output_type": "stream",
          "name": "stdout",
          "text": [
            "2\n",
            "4\n",
            "6\n",
            "8\n",
            "10\n"
          ]
        }
      ]
    },
    {
      "cell_type": "markdown",
      "source": [
        "## 1~20 사이에 3의 배수만 더하는 while문을 만들어주세요."
      ],
      "metadata": {
        "id": "QW9amaqvMO_9"
      }
    },
    {
      "cell_type": "code",
      "source": [
        "i = 3\n",
        "sum = 0\n",
        "while i < 21:\n",
        "    sum += i\n",
        "    i += 3\n",
        "print(sum)"
      ],
      "metadata": {
        "id": "mYPl3YEMpOk5",
        "colab": {
          "base_uri": "https://localhost:8080/"
        },
        "outputId": "41a5da17-cfe5-4104-a68d-6e97aafa21ce"
      },
      "execution_count": 5,
      "outputs": [
        {
          "output_type": "stream",
          "name": "stdout",
          "text": [
            "63\n"
          ]
        }
      ]
    },
    {
      "cell_type": "code",
      "source": [],
      "metadata": {
        "id": "serm7CzLUo3v"
      },
      "execution_count": 13,
      "outputs": []
    },
    {
      "cell_type": "markdown",
      "source": [
        "# for\n",
        "    - 많이 사용하는 문법입니다\n",
        "    - 이터레이블 타입에 굉장히 특화되어있기 때문입니다.\n",
        "\n",
        "    - 이터레이블?\n",
        "        - 반복 가능한 모든 종류의 객체를 의미합니다.\n",
        "        - 첫번재 원소부터 마지막 원소까지 순서대로 접근이 가능하면 이터레이블이라고 부릅니다.\n",
        "        - 시퀀스 타입\n",
        "            - 리스트, 튜플, 문자열\n",
        "       - 매핑형 자료들도 이터레이블화 해서 for문으로 가져올 수 있습니다\n",
        "        - 매핑형\n",
        "            - 딕셔너리 셋 등등등..\n",
        "\n",
        "\n",
        "for의 기본적인 형태는 다음과 같습니다\n",
        "\n",
        "\n",
        "```\n",
        "for 변수 in 이터레이블:\n",
        "    # for 블록\n",
        "```\n",
        "\n",
        "- 이터레이블 원소 개수만큼 반복을 하게 됩니다.\n",
        "- 끝까지 반복하게 할수도, 중간에 끊을수도, 시작점을 다르게 할 수도 있습니다"
      ],
      "metadata": {
        "id": "SgkjvQefXd9q"
      }
    },
    {
      "cell_type": "code",
      "source": [
        "for i in [10, 20 , 30]:\n",
        "    print(i)"
      ],
      "metadata": {
        "id": "JDni1H0jUdmj",
        "colab": {
          "base_uri": "https://localhost:8080/"
        },
        "outputId": "b2387c63-c53c-451f-82f7-b2a9d9290ea8"
      },
      "execution_count": 24,
      "outputs": [
        {
          "output_type": "stream",
          "name": "stdout",
          "text": [
            "10\n",
            "20\n",
            "30\n"
          ]
        }
      ]
    },
    {
      "cell_type": "markdown",
      "source": [
        "# for문의 다양한 형태\n",
        "\n",
        "- range와 함께 자주 쓰입니다.\n",
        "- range(시작점, 끝+1, step)"
      ],
      "metadata": {
        "id": "leHqKrc6Y4ei"
      }
    },
    {
      "cell_type": "markdown",
      "source": [
        "#### 실습. 다음 코드를 for문으로 작성해 보세요.\n",
        "~~~\n",
        "a = 10\n",
        "print(a)\n",
        "a = 20\n",
        "print(a)\n",
        "a = 30\n",
        "print(a)\n",
        "~~~"
      ],
      "metadata": {
        "id": "2xl4IvgPFN79"
      }
    },
    {
      "cell_type": "code",
      "source": [
        "for i in range(10,31,10):\n",
        "    print(i)"
      ],
      "metadata": {
        "id": "JM3hnNBVtsrE",
        "colab": {
          "base_uri": "https://localhost:8080/"
        },
        "outputId": "a4ae6922-0d02-4e03-c241-1cbf87fe16bd"
      },
      "execution_count": 25,
      "outputs": [
        {
          "output_type": "stream",
          "name": "stdout",
          "text": [
            "10\n",
            "20\n",
            "30\n"
          ]
        }
      ]
    },
    {
      "cell_type": "code",
      "source": [
        "num = int(input())\n",
        "for i in range(6, num, -1):\n",
        "    print(i)"
      ],
      "metadata": {
        "colab": {
          "base_uri": "https://localhost:8080/"
        },
        "id": "anNeRtfSgRUz",
        "outputId": "84ae983e-d93b-47c9-e249-1f15f1aad67f"
      },
      "execution_count": 29,
      "outputs": [
        {
          "output_type": "stream",
          "name": "stdout",
          "text": [
            "3\n",
            "6\n",
            "5\n",
            "4\n"
          ]
        }
      ]
    },
    {
      "cell_type": "code",
      "source": [],
      "metadata": {
        "id": "Q1iTFSnhtv3g"
      },
      "execution_count": 42,
      "outputs": []
    },
    {
      "cell_type": "markdown",
      "source": [
        "실습. 다음 코드를 for문으로 작성해주세요.\n",
        "```\n",
        "print('1번 끝')\n",
        "print(\"-------\")\n",
        "print('2번 끝')\n",
        "print(\"-------\")\n",
        "print('3번 끝')\n",
        "print(\"-------\")\n",
        "```"
      ],
      "metadata": {
        "id": "DZmS_pdoFYHU"
      }
    },
    {
      "cell_type": "code",
      "source": [
        "a = int(input())\n",
        "for i in range(1, a):\n",
        "    print(str(i)+'번 끝')\n",
        "    print('----------')"
      ],
      "metadata": {
        "id": "wnYmZlEqgMBg",
        "colab": {
          "base_uri": "https://localhost:8080/"
        },
        "outputId": "c1c0038c-7624-46b0-d20c-3670463c9c0d"
      },
      "execution_count": 36,
      "outputs": [
        {
          "output_type": "stream",
          "name": "stdout",
          "text": [
            "5\n",
            "1번 끝\n",
            "----------\n",
            "2번 끝\n",
            "----------\n",
            "3번 끝\n",
            "----------\n",
            "4번 끝\n",
            "----------\n"
          ]
        }
      ]
    },
    {
      "cell_type": "code",
      "source": [],
      "metadata": {
        "id": "oLd3-zXch7Ge"
      },
      "execution_count": null,
      "outputs": []
    },
    {
      "cell_type": "code",
      "source": [],
      "metadata": {
        "id": "YDB3pthCFUZ3"
      },
      "execution_count": 44,
      "outputs": []
    },
    {
      "cell_type": "code",
      "source": [],
      "metadata": {
        "id": "gQifn-D7hA7m"
      },
      "execution_count": null,
      "outputs": []
    },
    {
      "cell_type": "markdown",
      "source": [
        "## for와 range만 이용해서 해당 list1에 있는 모든 원소를 출력해주세요."
      ],
      "metadata": {
        "id": "L6HBkF7yb5QM"
      }
    },
    {
      "cell_type": "code",
      "source": [
        "list1 = ['a','b','c','d','e','f','g','e','f','g','h']\n",
        "for i in range(len(list1)):\n",
        "    print(i, list1[i])"
      ],
      "metadata": {
        "id": "uXe8gtifbog5",
        "colab": {
          "base_uri": "https://localhost:8080/"
        },
        "outputId": "9f5eb9ee-5342-4f31-a040-abe4e94c994f"
      },
      "execution_count": 42,
      "outputs": [
        {
          "output_type": "stream",
          "name": "stdout",
          "text": [
            "0 a\n",
            "1 b\n",
            "2 c\n",
            "3 d\n",
            "4 e\n",
            "5 f\n",
            "6 g\n",
            "7 e\n",
            "8 f\n",
            "9 g\n",
            "10 h\n"
          ]
        }
      ]
    },
    {
      "cell_type": "markdown",
      "source": [
        "## 실습. 1에서 20까지의 정수 중 3의 배수 출력하고 합계 구하기\n",
        "- 아까 while문으로 만든 것을 for문으로 바꿔주시면 됩니다\n",
        "\n"
      ],
      "metadata": {
        "id": "8MujqRgNiKkl"
      }
    },
    {
      "cell_type": "code",
      "source": [],
      "metadata": {
        "id": "thPnjA2hmd49"
      },
      "execution_count": null,
      "outputs": []
    },
    {
      "cell_type": "code",
      "source": [],
      "metadata": {
        "id": "0hvqoaCnOSYR"
      },
      "execution_count": null,
      "outputs": []
    },
    {
      "cell_type": "code",
      "source": [],
      "metadata": {
        "id": "pqpnbpGU7d-Z"
      },
      "execution_count": null,
      "outputs": []
    },
    {
      "cell_type": "code",
      "source": [],
      "metadata": {
        "id": "kFiTD04y7g3_"
      },
      "execution_count": null,
      "outputs": []
    },
    {
      "cell_type": "code",
      "source": [
        "fruits = {'딸기': 'Strawberry', '바나나': 'Banana', '사과': 'Apple', '포도': 'Grape'}"
      ],
      "metadata": {
        "id": "aJzm0lPcO0eU"
      },
      "execution_count": 45,
      "outputs": []
    },
    {
      "cell_type": "code",
      "source": [
        "for fruit in fruits:\n",
        "    print(fruit + '-' + fruits[fruit])"
      ],
      "metadata": {
        "id": "VKmZlK0WO2dl",
        "colab": {
          "base_uri": "https://localhost:8080/"
        },
        "outputId": "afdb28e9-4026-43d9-b972-d28e08c25151"
      },
      "execution_count": 64,
      "outputs": [
        {
          "output_type": "stream",
          "name": "stdout",
          "text": [
            "바나나-Banana\n",
            "사과-Apple\n",
            "포도-Grape\n",
            "망고-Mango\n"
          ]
        }
      ]
    },
    {
      "cell_type": "code",
      "source": [
        "fruits['망고']= \"Mango\""
      ],
      "metadata": {
        "id": "20pEpIdxQzu5"
      },
      "execution_count": 59,
      "outputs": []
    },
    {
      "cell_type": "code",
      "source": [
        "# 키 - 밸류(아이템) 순서로 꺼내서 출력해보세요\n",
        "# 딸기 - Strawberry\n",
        "# 바나나 - Banana\n",
        "# 사과 - Apple\n",
        "# 포도 - Grape\n"
      ],
      "metadata": {
        "id": "om-XTiLR_VVF"
      },
      "execution_count": null,
      "outputs": []
    },
    {
      "cell_type": "code",
      "source": [
        "sale1 = { '연필' : [500, 300], '공책': [1200, 2100], '신발':[58000, 2121000]}\n",
        "'''\n",
        "연필 500, 연필 300\n",
        "공책 1200, 공책 2100\n",
        "신발 58000, 신발 2121000\n",
        "'''"
      ],
      "metadata": {
        "colab": {
          "base_uri": "https://localhost:8080/",
          "height": 35
        },
        "id": "39fMKLmoAoyJ",
        "outputId": "2601776e-90b6-4758-f1ec-dff0508fc9f2"
      },
      "execution_count": 114,
      "outputs": [
        {
          "output_type": "execute_result",
          "data": {
            "text/plain": [
              "'\\n연필 500, 연필 300\\n공책 1200, 공책 2100\\n신발 58000, 신발 2121000\\n'"
            ],
            "application/vnd.google.colaboratory.intrinsic+json": {
              "type": "string"
            }
          },
          "metadata": {},
          "execution_count": 114
        }
      ]
    },
    {
      "cell_type": "code",
      "source": [
        "for sale in sale1:\n",
        "    print(sale, sale1[sale][0], sale, sale1[sale][1])"
      ],
      "metadata": {
        "id": "9w4KqN0HCMIL",
        "colab": {
          "base_uri": "https://localhost:8080/"
        },
        "outputId": "577b8521-be84-40d7-af83-f74dabf0b36e"
      },
      "execution_count": 115,
      "outputs": [
        {
          "output_type": "stream",
          "name": "stdout",
          "text": [
            "연필 500 연필 300\n",
            "공책 1200 공책 2100\n",
            "신발 58000 신발 2121000\n"
          ]
        }
      ]
    },
    {
      "cell_type": "code",
      "source": [
        "# 실습2. 손님들이 배가 불렀다며 연지상회를 더이상 찾지 않아서 눈물의 이별세일을 합니다.\n",
        "# 장부(sale1)에는 그대로 있되 출력결과만 할인된 상태의 값으로 20프로씩 물건값을 할인해서 판매하는 가격표를 출력해주세요.\n",
        "\n"
      ],
      "metadata": {
        "id": "QTOcbwzOaSfi"
      },
      "execution_count": null,
      "outputs": []
    },
    {
      "cell_type": "code",
      "source": [
        "for sale in sale1:\n",
        "    print(sale, sale1[sale][0]*4/5, sale, sale1[sale][1]*4/5)"
      ],
      "metadata": {
        "id": "zhyfgRudwbIE"
      },
      "execution_count": null,
      "outputs": []
    },
    {
      "cell_type": "code",
      "source": [
        "#    실습3. 폐업처리를 하려고 보니 장부의 가격과 틀려서 더 많은 세금을 내게 생겼습니다.\n",
        "# 각 상품의 장부 가격(sale1)을 20프로씩 할인된 물건값으로 변경해주세요.\n"
      ],
      "metadata": {
        "id": "CdIw0AcNcBh3"
      },
      "execution_count": null,
      "outputs": []
    },
    {
      "cell_type": "code",
      "source": [
        "for sale in sale1:\n",
        "    sale1[sale][0] = sale1[sale][0]*0.8\n",
        "    sale1[sale][1] = sale1[sale][1]*0.8\n",
        "    print(sale, sale1[sale][0], sale, sale1[sale][1])"
      ],
      "metadata": {
        "colab": {
          "base_uri": "https://localhost:8080/"
        },
        "id": "cLkHiw1zb7nx",
        "outputId": "e654e052-f211-4156-bbcf-7693bc206223"
      },
      "execution_count": null,
      "outputs": [
        {
          "output_type": "execute_result",
          "data": {
            "text/plain": [
              "{'연필': [400, 240], '공책': [960, 1680], '신발': [46400, 1696800]}"
            ]
          },
          "metadata": {},
          "execution_count": 114
        }
      ]
    },
    {
      "cell_type": "markdown",
      "source": [
        "## 1~9 사이의 숫자 하나를 입력받아서 해당 단수의 구구단을 출력해주세요"
      ],
      "metadata": {
        "id": "jAOnAy7Zn8td"
      }
    },
    {
      "cell_type": "code",
      "source": [
        "# for문으로 구현"
      ],
      "metadata": {
        "id": "kQzYIsTGfrdi"
      },
      "execution_count": null,
      "outputs": []
    },
    {
      "cell_type": "code",
      "source": [
        "# while문으로 구현\n"
      ],
      "metadata": {
        "id": "5ThVIMm2ra79"
      },
      "execution_count": null,
      "outputs": []
    },
    {
      "cell_type": "markdown",
      "source": [
        "# 파이썬의 반복문을 보고 있습니다.\n",
        "- while, for 밖에 없다 확인했고요\n",
        "- for 문 안에도 for문을 넣어서 반복을 중첩시킬 수 있습니다.\n",
        "\n",
        "```\n",
        "for i in range(숫자):\n",
        "    print('안녕')\n",
        "   for j in range(또다른 숫자):\n",
        "        그 안에 실행문\n",
        "    실행문\n",
        "```\n",
        "\n",
        "#### 반복문에서 사용하는 네이밍 규칙(권장일 뿐)\n",
        "- i 가 의미하는 것은 iterable의 약자입니다. itr로 표현하기도 하는데 결국 같은 표현입니다.\n",
        "\n",
        "- i, j, k, ...... -> 순서나 인덱스를 의미할 때\n",
        "- a, b, 임시변수명(tmp), _(underscore) -> 매개변수를 직접 의미할 때는\n",
        "\n",
        "- count, cnt -> 개수를 의미하는 용도\n",
        "- 여러개 단어를 합쳐서 쓸 때는 스네이크 케이스 snake_case\n",
        "\n"
      ],
      "metadata": {
        "id": "P_8tllDuwvW_"
      }
    },
    {
      "cell_type": "markdown",
      "source": [
        "# 구구단 1개단 받았죠.input을 지우고\n",
        "# 구구단을 1~9단까지 출력해보겠습니다.  "
      ],
      "metadata": {
        "id": "0X720oRm2y0j"
      }
    },
    {
      "cell_type": "code",
      "source": [],
      "metadata": {
        "id": "KaPxtGwu4xdN"
      },
      "execution_count": null,
      "outputs": []
    },
    {
      "cell_type": "code",
      "source": [
        "# 무한반복이 필요하면 while문을 밖에 넣고 안에 for문을 쓰는 것도 가능할 거에요\n",
        "# 중첩이 되어서 복잡하다 느껴질 뿐이지 사실 원리는 똑같습니다.\n",
        "# 구구단을 while문으로 출력\n"
      ],
      "metadata": {
        "id": "IASVZSOfiFqM"
      },
      "execution_count": null,
      "outputs": []
    },
    {
      "cell_type": "code",
      "source": [
        "#구구단을 가로로 출력해보세요\n"
      ],
      "metadata": {
        "colab": {
          "base_uri": "https://localhost:8080/"
        },
        "id": "kIIlxGNC3hlj",
        "outputId": "0b54164f-84b0-4716-ab99-3f79174ff23d"
      },
      "execution_count": null,
      "outputs": [
        {
          "output_type": "stream",
          "name": "stdout",
          "text": [
            "\n",
            "1 X 1 = 1\t2 X 1 = 2\t3 X 1 = 3\t4 X 1 = 4\t5 X 1 = 5\t6 X 1 = 6\t7 X 1 = 7\t8 X 1 = 8\t9 X 1 = 9\t\n",
            "1 X 2 = 2\t2 X 2 = 4\t3 X 2 = 6\t4 X 2 = 8\t5 X 2 = 10\t6 X 2 = 12\t7 X 2 = 14\t8 X 2 = 16\t9 X 2 = 18\t\n",
            "1 X 3 = 3\t2 X 3 = 6\t3 X 3 = 9\t4 X 3 = 12\t5 X 3 = 15\t6 X 3 = 18\t7 X 3 = 21\t8 X 3 = 24\t9 X 3 = 27\t\n",
            "1 X 4 = 4\t2 X 4 = 8\t3 X 4 = 12\t4 X 4 = 16\t5 X 4 = 20\t6 X 4 = 24\t7 X 4 = 28\t8 X 4 = 32\t9 X 4 = 36\t\n",
            "1 X 5 = 5\t2 X 5 = 10\t3 X 5 = 15\t4 X 5 = 20\t5 X 5 = 25\t6 X 5 = 30\t7 X 5 = 35\t8 X 5 = 40\t9 X 5 = 45\t\n",
            "1 X 6 = 6\t2 X 6 = 12\t3 X 6 = 18\t4 X 6 = 24\t5 X 6 = 30\t6 X 6 = 36\t7 X 6 = 42\t8 X 6 = 48\t9 X 6 = 54\t\n",
            "1 X 7 = 7\t2 X 7 = 14\t3 X 7 = 21\t4 X 7 = 28\t5 X 7 = 35\t6 X 7 = 42\t7 X 7 = 49\t8 X 7 = 56\t9 X 7 = 63\t\n",
            "1 X 8 = 8\t2 X 8 = 16\t3 X 8 = 24\t4 X 8 = 32\t5 X 8 = 40\t6 X 8 = 48\t7 X 8 = 56\t8 X 8 = 64\t9 X 8 = 72\t\n",
            "1 X 9 = 9\t2 X 9 = 18\t3 X 9 = 27\t4 X 9 = 36\t5 X 9 = 45\t6 X 9 = 54\t7 X 9 = 63\t8 X 9 = 72\t9 X 9 = 81\t"
          ]
        }
      ]
    }
  ]
}